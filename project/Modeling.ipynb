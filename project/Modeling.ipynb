{
 "cells": [
  {
   "cell_type": "markdown",
   "source": [
    "# Final Project – Glass Identification Data Set Modeling\n",
    "\n",
    "Name: Qixiao Zhu\n",
    "Class: CSCI 349 - Intro to Data Mining\n",
    "Semester: Spring 2023\n",
    "Instructor: Brian King"
   ],
   "metadata": {
    "collapsed": false
   }
  },
  {
   "cell_type": "markdown",
   "source": [
    "# Summary\n",
    "\n",
    "This is my first time dealing with imbalanced data. I tried two methods, one of them is using the weighted f1 score as the performance metric, and the other is oversampling using SMOTE. Although the end result is not great (accuracy of only around 0.75 when testing using a portion of the original data), I believe that this method is better than using the weighted f1 score. This data might be too severely imbalanced, and there are really not a lot of samples to train from. In my opinion, oversampling does not represent the real data very well, and it is easy to overfit on the oversampled training data. For my final step, I will summarize everything and make sure that I express everything clearly."
   ],
   "metadata": {
    "collapsed": false
   }
  },
  {
   "cell_type": "markdown",
   "source": [
    "# Preprocessing"
   ],
   "metadata": {
    "collapsed": false
   }
  },
  {
   "cell_type": "code",
   "execution_count": 611,
   "outputs": [],
   "source": [
    "import numpy as np\n",
    "import matplotlib.pyplot as plt\n",
    "import pandas as pd\n",
    "from imblearn.over_sampling import SMOTE\n",
    "from scipy.stats import zscore\n",
    "from sklearn.utils import shuffle\n",
    "from sklearn.model_selection import train_test_split,GridSearchCV\n",
    "from sklearn.metrics import f1_score, make_scorer\n",
    "from sklearn.metrics import confusion_matrix, ConfusionMatrixDisplay\n",
    "from keras.models import Model\n",
    "from keras.layers import Input, Dense\n",
    "from scikeras.wrappers import KerasClassifier"
   ],
   "metadata": {
    "collapsed": false
   }
  },
  {
   "cell_type": "code",
   "execution_count": 582,
   "outputs": [
    {
     "data": {
      "text/plain": "         RI     Na    Mg    Al     Si     K    Ca   Ba    Fe  Type of glass\n1   1.52101  13.64  4.49  1.10  71.78  0.06  8.75  0.0  0.00              1\n2   1.51761  13.89  3.60  1.36  72.73  0.48  7.83  0.0  0.00              1\n3   1.51618  13.53  3.55  1.54  72.99  0.39  7.78  0.0  0.00              1\n4   1.51766  13.21  3.69  1.29  72.61  0.57  8.22  0.0  0.00              1\n5   1.51742  13.27  3.62  1.24  73.08  0.55  8.07  0.0  0.00              1\n6   1.51596  12.79  3.61  1.62  72.97  0.64  8.07  0.0  0.26              1\n7   1.51743  13.30  3.60  1.14  73.09  0.58  8.17  0.0  0.00              1\n8   1.51756  13.15  3.61  1.05  73.24  0.57  8.24  0.0  0.00              1\n9   1.51918  14.04  3.58  1.37  72.08  0.56  8.30  0.0  0.00              1\n10  1.51755  13.00  3.60  1.36  72.99  0.57  8.40  0.0  0.11              1",
      "text/html": "<div>\n<style scoped>\n    .dataframe tbody tr th:only-of-type {\n        vertical-align: middle;\n    }\n\n    .dataframe tbody tr th {\n        vertical-align: top;\n    }\n\n    .dataframe thead th {\n        text-align: right;\n    }\n</style>\n<table border=\"1\" class=\"dataframe\">\n  <thead>\n    <tr style=\"text-align: right;\">\n      <th></th>\n      <th>RI</th>\n      <th>Na</th>\n      <th>Mg</th>\n      <th>Al</th>\n      <th>Si</th>\n      <th>K</th>\n      <th>Ca</th>\n      <th>Ba</th>\n      <th>Fe</th>\n      <th>Type of glass</th>\n    </tr>\n  </thead>\n  <tbody>\n    <tr>\n      <th>1</th>\n      <td>1.52101</td>\n      <td>13.64</td>\n      <td>4.49</td>\n      <td>1.10</td>\n      <td>71.78</td>\n      <td>0.06</td>\n      <td>8.75</td>\n      <td>0.0</td>\n      <td>0.00</td>\n      <td>1</td>\n    </tr>\n    <tr>\n      <th>2</th>\n      <td>1.51761</td>\n      <td>13.89</td>\n      <td>3.60</td>\n      <td>1.36</td>\n      <td>72.73</td>\n      <td>0.48</td>\n      <td>7.83</td>\n      <td>0.0</td>\n      <td>0.00</td>\n      <td>1</td>\n    </tr>\n    <tr>\n      <th>3</th>\n      <td>1.51618</td>\n      <td>13.53</td>\n      <td>3.55</td>\n      <td>1.54</td>\n      <td>72.99</td>\n      <td>0.39</td>\n      <td>7.78</td>\n      <td>0.0</td>\n      <td>0.00</td>\n      <td>1</td>\n    </tr>\n    <tr>\n      <th>4</th>\n      <td>1.51766</td>\n      <td>13.21</td>\n      <td>3.69</td>\n      <td>1.29</td>\n      <td>72.61</td>\n      <td>0.57</td>\n      <td>8.22</td>\n      <td>0.0</td>\n      <td>0.00</td>\n      <td>1</td>\n    </tr>\n    <tr>\n      <th>5</th>\n      <td>1.51742</td>\n      <td>13.27</td>\n      <td>3.62</td>\n      <td>1.24</td>\n      <td>73.08</td>\n      <td>0.55</td>\n      <td>8.07</td>\n      <td>0.0</td>\n      <td>0.00</td>\n      <td>1</td>\n    </tr>\n    <tr>\n      <th>6</th>\n      <td>1.51596</td>\n      <td>12.79</td>\n      <td>3.61</td>\n      <td>1.62</td>\n      <td>72.97</td>\n      <td>0.64</td>\n      <td>8.07</td>\n      <td>0.0</td>\n      <td>0.26</td>\n      <td>1</td>\n    </tr>\n    <tr>\n      <th>7</th>\n      <td>1.51743</td>\n      <td>13.30</td>\n      <td>3.60</td>\n      <td>1.14</td>\n      <td>73.09</td>\n      <td>0.58</td>\n      <td>8.17</td>\n      <td>0.0</td>\n      <td>0.00</td>\n      <td>1</td>\n    </tr>\n    <tr>\n      <th>8</th>\n      <td>1.51756</td>\n      <td>13.15</td>\n      <td>3.61</td>\n      <td>1.05</td>\n      <td>73.24</td>\n      <td>0.57</td>\n      <td>8.24</td>\n      <td>0.0</td>\n      <td>0.00</td>\n      <td>1</td>\n    </tr>\n    <tr>\n      <th>9</th>\n      <td>1.51918</td>\n      <td>14.04</td>\n      <td>3.58</td>\n      <td>1.37</td>\n      <td>72.08</td>\n      <td>0.56</td>\n      <td>8.30</td>\n      <td>0.0</td>\n      <td>0.00</td>\n      <td>1</td>\n    </tr>\n    <tr>\n      <th>10</th>\n      <td>1.51755</td>\n      <td>13.00</td>\n      <td>3.60</td>\n      <td>1.36</td>\n      <td>72.99</td>\n      <td>0.57</td>\n      <td>8.40</td>\n      <td>0.0</td>\n      <td>0.11</td>\n      <td>1</td>\n    </tr>\n  </tbody>\n</table>\n</div>"
     },
     "execution_count": 582,
     "metadata": {},
     "output_type": "execute_result"
    }
   ],
   "source": [
    "df = pd.read_csv(\"./data/glass.data\", index_col=0, names=[\"RI\", \"Na\", \"Mg\", \"Al\", \"Si\", \"K\", \"Ca\", \"Ba\", \"Fe\", \"Type of glass\"])\n",
    "df.head(10)"
   ],
   "metadata": {
    "collapsed": false
   }
  },
  {
   "cell_type": "markdown",
   "source": [
    "Check if all the columns are in the correct types."
   ],
   "metadata": {
    "collapsed": false
   }
  },
  {
   "cell_type": "code",
   "execution_count": 583,
   "outputs": [
    {
     "name": "stdout",
     "output_type": "stream",
     "text": [
      "<class 'pandas.core.frame.DataFrame'>\n",
      "Int64Index: 214 entries, 1 to 214\n",
      "Data columns (total 10 columns):\n",
      " #   Column         Non-Null Count  Dtype  \n",
      "---  ------         --------------  -----  \n",
      " 0   RI             214 non-null    float64\n",
      " 1   Na             214 non-null    float64\n",
      " 2   Mg             214 non-null    float64\n",
      " 3   Al             214 non-null    float64\n",
      " 4   Si             214 non-null    float64\n",
      " 5   K              214 non-null    float64\n",
      " 6   Ca             214 non-null    float64\n",
      " 7   Ba             214 non-null    float64\n",
      " 8   Fe             214 non-null    float64\n",
      " 9   Type of glass  214 non-null    int64  \n",
      "dtypes: float64(9), int64(1)\n",
      "memory usage: 18.4 KB\n"
     ]
    }
   ],
   "source": [
    "df.info()"
   ],
   "metadata": {
    "collapsed": false
   }
  },
  {
   "cell_type": "code",
   "execution_count": 584,
   "outputs": [
    {
     "name": "stdout",
     "output_type": "stream",
     "text": [
      "<class 'pandas.core.frame.DataFrame'>\n",
      "Int64Index: 214 entries, 1 to 214\n",
      "Data columns (total 10 columns):\n",
      " #   Column         Non-Null Count  Dtype   \n",
      "---  ------         --------------  -----   \n",
      " 0   RI             214 non-null    float64 \n",
      " 1   Na             214 non-null    float64 \n",
      " 2   Mg             214 non-null    float64 \n",
      " 3   Al             214 non-null    float64 \n",
      " 4   Si             214 non-null    float64 \n",
      " 5   K              214 non-null    float64 \n",
      " 6   Ca             214 non-null    float64 \n",
      " 7   Ba             214 non-null    float64 \n",
      " 8   Fe             214 non-null    float64 \n",
      " 9   Type of glass  214 non-null    category\n",
      "dtypes: category(1), float64(9)\n",
      "memory usage: 17.1 KB\n"
     ]
    }
   ],
   "source": [
    "df[\"Type of glass\"] = df[\"Type of glass\"].astype(\"category\")\n",
    "df.info()"
   ],
   "metadata": {
    "collapsed": false
   }
  },
  {
   "cell_type": "markdown",
   "source": [
    "From the description, there is no NaN element in this dataframe, so no need to worry about empty variables. Also from the description, there is no 4 in target classes, so in reality only 6 classes in total."
   ],
   "metadata": {
    "collapsed": false
   }
  },
  {
   "cell_type": "markdown",
   "source": [
    "---\n",
    "# Modeling"
   ],
   "metadata": {
    "collapsed": false
   }
  },
  {
   "cell_type": "code",
   "execution_count": 585,
   "outputs": [
    {
     "data": {
      "text/plain": "          RI        Na        Mg        Al        Si         K        Ca  \\\n1   0.872868  0.284953  1.254639 -0.692442 -1.127082 -0.671705 -0.145766   \n2  -0.249333  0.591817  0.636168 -0.170460  0.102319 -0.026213 -0.793734   \n3  -0.721318  0.149933  0.601422  0.190912  0.438787 -0.164533 -0.828949   \n4  -0.232831 -0.242853  0.698710 -0.310994 -0.052974  0.112107 -0.519052   \n5  -0.312045 -0.169205  0.650066 -0.411375  0.555256  0.081369 -0.624699   \n6  -0.793931 -0.758384  0.643117  0.351521  0.412905  0.219689 -0.624699   \n7  -0.308744 -0.132382  0.636168 -0.612137  0.568197  0.127475 -0.554268   \n8  -0.265836 -0.316500  0.643117 -0.792823  0.762313  0.112107 -0.504966   \n9   0.268859  0.775936  0.622270 -0.150384 -0.738850  0.096738 -0.462707   \n10 -0.269137 -0.500618  0.636168 -0.170460  0.438787  0.112107 -0.392276   \n\n          Ba        Fe  \n1  -0.352877 -0.586451  \n2  -0.352877 -0.586451  \n3  -0.352877 -0.586451  \n4  -0.352877 -0.586451  \n5  -0.352877 -0.586451  \n6  -0.352877  2.088150  \n7  -0.352877 -0.586451  \n8  -0.352877 -0.586451  \n9  -0.352877 -0.586451  \n10 -0.352877  0.545111  ",
      "text/html": "<div>\n<style scoped>\n    .dataframe tbody tr th:only-of-type {\n        vertical-align: middle;\n    }\n\n    .dataframe tbody tr th {\n        vertical-align: top;\n    }\n\n    .dataframe thead th {\n        text-align: right;\n    }\n</style>\n<table border=\"1\" class=\"dataframe\">\n  <thead>\n    <tr style=\"text-align: right;\">\n      <th></th>\n      <th>RI</th>\n      <th>Na</th>\n      <th>Mg</th>\n      <th>Al</th>\n      <th>Si</th>\n      <th>K</th>\n      <th>Ca</th>\n      <th>Ba</th>\n      <th>Fe</th>\n    </tr>\n  </thead>\n  <tbody>\n    <tr>\n      <th>1</th>\n      <td>0.872868</td>\n      <td>0.284953</td>\n      <td>1.254639</td>\n      <td>-0.692442</td>\n      <td>-1.127082</td>\n      <td>-0.671705</td>\n      <td>-0.145766</td>\n      <td>-0.352877</td>\n      <td>-0.586451</td>\n    </tr>\n    <tr>\n      <th>2</th>\n      <td>-0.249333</td>\n      <td>0.591817</td>\n      <td>0.636168</td>\n      <td>-0.170460</td>\n      <td>0.102319</td>\n      <td>-0.026213</td>\n      <td>-0.793734</td>\n      <td>-0.352877</td>\n      <td>-0.586451</td>\n    </tr>\n    <tr>\n      <th>3</th>\n      <td>-0.721318</td>\n      <td>0.149933</td>\n      <td>0.601422</td>\n      <td>0.190912</td>\n      <td>0.438787</td>\n      <td>-0.164533</td>\n      <td>-0.828949</td>\n      <td>-0.352877</td>\n      <td>-0.586451</td>\n    </tr>\n    <tr>\n      <th>4</th>\n      <td>-0.232831</td>\n      <td>-0.242853</td>\n      <td>0.698710</td>\n      <td>-0.310994</td>\n      <td>-0.052974</td>\n      <td>0.112107</td>\n      <td>-0.519052</td>\n      <td>-0.352877</td>\n      <td>-0.586451</td>\n    </tr>\n    <tr>\n      <th>5</th>\n      <td>-0.312045</td>\n      <td>-0.169205</td>\n      <td>0.650066</td>\n      <td>-0.411375</td>\n      <td>0.555256</td>\n      <td>0.081369</td>\n      <td>-0.624699</td>\n      <td>-0.352877</td>\n      <td>-0.586451</td>\n    </tr>\n    <tr>\n      <th>6</th>\n      <td>-0.793931</td>\n      <td>-0.758384</td>\n      <td>0.643117</td>\n      <td>0.351521</td>\n      <td>0.412905</td>\n      <td>0.219689</td>\n      <td>-0.624699</td>\n      <td>-0.352877</td>\n      <td>2.088150</td>\n    </tr>\n    <tr>\n      <th>7</th>\n      <td>-0.308744</td>\n      <td>-0.132382</td>\n      <td>0.636168</td>\n      <td>-0.612137</td>\n      <td>0.568197</td>\n      <td>0.127475</td>\n      <td>-0.554268</td>\n      <td>-0.352877</td>\n      <td>-0.586451</td>\n    </tr>\n    <tr>\n      <th>8</th>\n      <td>-0.265836</td>\n      <td>-0.316500</td>\n      <td>0.643117</td>\n      <td>-0.792823</td>\n      <td>0.762313</td>\n      <td>0.112107</td>\n      <td>-0.504966</td>\n      <td>-0.352877</td>\n      <td>-0.586451</td>\n    </tr>\n    <tr>\n      <th>9</th>\n      <td>0.268859</td>\n      <td>0.775936</td>\n      <td>0.622270</td>\n      <td>-0.150384</td>\n      <td>-0.738850</td>\n      <td>0.096738</td>\n      <td>-0.462707</td>\n      <td>-0.352877</td>\n      <td>-0.586451</td>\n    </tr>\n    <tr>\n      <th>10</th>\n      <td>-0.269137</td>\n      <td>-0.500618</td>\n      <td>0.636168</td>\n      <td>-0.170460</td>\n      <td>0.438787</td>\n      <td>0.112107</td>\n      <td>-0.392276</td>\n      <td>-0.352877</td>\n      <td>0.545111</td>\n    </tr>\n  </tbody>\n</table>\n</div>"
     },
     "execution_count": 585,
     "metadata": {},
     "output_type": "execute_result"
    }
   ],
   "source": [
    "# Separate the data into variables and target classes\n",
    "\n",
    "X = df.loc[:, \"RI\":\"Fe\"]\n",
    "y = df.loc[:, \"Type of glass\"]\n",
    "\n",
    "# Normalize the data\n",
    "X = zscore(X)\n",
    "X.head(10)"
   ],
   "metadata": {
    "collapsed": false
   }
  },
  {
   "cell_type": "code",
   "execution_count": 586,
   "outputs": [],
   "source": [
    "# Shuffle the data\n",
    "\n",
    "X_shuffled, y_shuffled = shuffle(X, y, random_state=0)"
   ],
   "metadata": {
    "collapsed": false
   }
  },
  {
   "cell_type": "code",
   "execution_count": 587,
   "outputs": [
    {
     "data": {
      "text/plain": "     1  2  3  5  6  7\n198  0  0  0  0  0  1\n38   1  0  0  0  0  0\n90   0  1  0  0  0  0\n177  0  0  0  0  1  0\n171  0  0  0  1  0  0\n76   0  1  0  0  0  0\n97   0  1  0  0  0  0\n138  0  1  0  0  0  0\n6    1  0  0  0  0  0\n84   0  1  0  0  0  0",
      "text/html": "<div>\n<style scoped>\n    .dataframe tbody tr th:only-of-type {\n        vertical-align: middle;\n    }\n\n    .dataframe tbody tr th {\n        vertical-align: top;\n    }\n\n    .dataframe thead th {\n        text-align: right;\n    }\n</style>\n<table border=\"1\" class=\"dataframe\">\n  <thead>\n    <tr style=\"text-align: right;\">\n      <th></th>\n      <th>1</th>\n      <th>2</th>\n      <th>3</th>\n      <th>5</th>\n      <th>6</th>\n      <th>7</th>\n    </tr>\n  </thead>\n  <tbody>\n    <tr>\n      <th>198</th>\n      <td>0</td>\n      <td>0</td>\n      <td>0</td>\n      <td>0</td>\n      <td>0</td>\n      <td>1</td>\n    </tr>\n    <tr>\n      <th>38</th>\n      <td>1</td>\n      <td>0</td>\n      <td>0</td>\n      <td>0</td>\n      <td>0</td>\n      <td>0</td>\n    </tr>\n    <tr>\n      <th>90</th>\n      <td>0</td>\n      <td>1</td>\n      <td>0</td>\n      <td>0</td>\n      <td>0</td>\n      <td>0</td>\n    </tr>\n    <tr>\n      <th>177</th>\n      <td>0</td>\n      <td>0</td>\n      <td>0</td>\n      <td>0</td>\n      <td>1</td>\n      <td>0</td>\n    </tr>\n    <tr>\n      <th>171</th>\n      <td>0</td>\n      <td>0</td>\n      <td>0</td>\n      <td>1</td>\n      <td>0</td>\n      <td>0</td>\n    </tr>\n    <tr>\n      <th>76</th>\n      <td>0</td>\n      <td>1</td>\n      <td>0</td>\n      <td>0</td>\n      <td>0</td>\n      <td>0</td>\n    </tr>\n    <tr>\n      <th>97</th>\n      <td>0</td>\n      <td>1</td>\n      <td>0</td>\n      <td>0</td>\n      <td>0</td>\n      <td>0</td>\n    </tr>\n    <tr>\n      <th>138</th>\n      <td>0</td>\n      <td>1</td>\n      <td>0</td>\n      <td>0</td>\n      <td>0</td>\n      <td>0</td>\n    </tr>\n    <tr>\n      <th>6</th>\n      <td>1</td>\n      <td>0</td>\n      <td>0</td>\n      <td>0</td>\n      <td>0</td>\n      <td>0</td>\n    </tr>\n    <tr>\n      <th>84</th>\n      <td>0</td>\n      <td>1</td>\n      <td>0</td>\n      <td>0</td>\n      <td>0</td>\n      <td>0</td>\n    </tr>\n  </tbody>\n</table>\n</div>"
     },
     "execution_count": 587,
     "metadata": {},
     "output_type": "execute_result"
    }
   ],
   "source": [
    "# binarize y\n",
    "\n",
    "y_binarized = pd.get_dummies(y_shuffled)\n",
    "y_binarized.head(10)"
   ],
   "metadata": {
    "collapsed": false
   }
  },
  {
   "cell_type": "code",
   "execution_count": 588,
   "outputs": [
    {
     "data": {
      "text/plain": "           RI        Na        Mg        Al        Si         K        Ca  \\\n198 -0.361554  1.586056 -1.865511  1.797009  0.814078 -0.763919 -0.004904   \n38  -0.130512 -0.819757  0.552779 -0.190536  0.399964  0.219689 -0.195068   \n90  -0.648705 -1.052973  0.552779  0.853427  0.749372  0.204320 -0.617656   \n177  0.225952  0.726837 -0.204674  0.231064 -0.363559 -0.763919  0.431770   \n171  1.757426  0.039462 -1.865511  0.271217 -0.557675 -0.272115  2.312284   \n76  -0.813735 -0.476069  0.622270  0.130683  0.607021  0.296533 -0.702173   \n97   0.014714 -0.476069  0.650066 -0.772747 -0.402382  0.219689  0.121872   \n138 -0.414363 -0.635638  0.650066  0.251140  0.399964  0.173582 -0.596526   \n6   -0.793931 -0.758384  0.643117  0.351521  0.412905  0.219689 -0.624699   \n84  -0.800532 -0.390147  0.580575  0.210988  0.283494  0.281164 -0.638785   \n\n           Ba        Fe  \n198  0.977618 -0.586451  \n38  -0.352877 -0.586451  \n90  -0.352877  0.339372  \n177 -0.352877 -0.586451  \n171 -0.352877 -0.586451  \n76  -0.352877 -0.586451  \n97  -0.352877  0.956588  \n138 -0.352877 -0.586451  \n6   -0.352877  2.088150  \n84  -0.352877  0.339372  ",
      "text/html": "<div>\n<style scoped>\n    .dataframe tbody tr th:only-of-type {\n        vertical-align: middle;\n    }\n\n    .dataframe tbody tr th {\n        vertical-align: top;\n    }\n\n    .dataframe thead th {\n        text-align: right;\n    }\n</style>\n<table border=\"1\" class=\"dataframe\">\n  <thead>\n    <tr style=\"text-align: right;\">\n      <th></th>\n      <th>RI</th>\n      <th>Na</th>\n      <th>Mg</th>\n      <th>Al</th>\n      <th>Si</th>\n      <th>K</th>\n      <th>Ca</th>\n      <th>Ba</th>\n      <th>Fe</th>\n    </tr>\n  </thead>\n  <tbody>\n    <tr>\n      <th>198</th>\n      <td>-0.361554</td>\n      <td>1.586056</td>\n      <td>-1.865511</td>\n      <td>1.797009</td>\n      <td>0.814078</td>\n      <td>-0.763919</td>\n      <td>-0.004904</td>\n      <td>0.977618</td>\n      <td>-0.586451</td>\n    </tr>\n    <tr>\n      <th>38</th>\n      <td>-0.130512</td>\n      <td>-0.819757</td>\n      <td>0.552779</td>\n      <td>-0.190536</td>\n      <td>0.399964</td>\n      <td>0.219689</td>\n      <td>-0.195068</td>\n      <td>-0.352877</td>\n      <td>-0.586451</td>\n    </tr>\n    <tr>\n      <th>90</th>\n      <td>-0.648705</td>\n      <td>-1.052973</td>\n      <td>0.552779</td>\n      <td>0.853427</td>\n      <td>0.749372</td>\n      <td>0.204320</td>\n      <td>-0.617656</td>\n      <td>-0.352877</td>\n      <td>0.339372</td>\n    </tr>\n    <tr>\n      <th>177</th>\n      <td>0.225952</td>\n      <td>0.726837</td>\n      <td>-0.204674</td>\n      <td>0.231064</td>\n      <td>-0.363559</td>\n      <td>-0.763919</td>\n      <td>0.431770</td>\n      <td>-0.352877</td>\n      <td>-0.586451</td>\n    </tr>\n    <tr>\n      <th>171</th>\n      <td>1.757426</td>\n      <td>0.039462</td>\n      <td>-1.865511</td>\n      <td>0.271217</td>\n      <td>-0.557675</td>\n      <td>-0.272115</td>\n      <td>2.312284</td>\n      <td>-0.352877</td>\n      <td>-0.586451</td>\n    </tr>\n    <tr>\n      <th>76</th>\n      <td>-0.813735</td>\n      <td>-0.476069</td>\n      <td>0.622270</td>\n      <td>0.130683</td>\n      <td>0.607021</td>\n      <td>0.296533</td>\n      <td>-0.702173</td>\n      <td>-0.352877</td>\n      <td>-0.586451</td>\n    </tr>\n    <tr>\n      <th>97</th>\n      <td>0.014714</td>\n      <td>-0.476069</td>\n      <td>0.650066</td>\n      <td>-0.772747</td>\n      <td>-0.402382</td>\n      <td>0.219689</td>\n      <td>0.121872</td>\n      <td>-0.352877</td>\n      <td>0.956588</td>\n    </tr>\n    <tr>\n      <th>138</th>\n      <td>-0.414363</td>\n      <td>-0.635638</td>\n      <td>0.650066</td>\n      <td>0.251140</td>\n      <td>0.399964</td>\n      <td>0.173582</td>\n      <td>-0.596526</td>\n      <td>-0.352877</td>\n      <td>-0.586451</td>\n    </tr>\n    <tr>\n      <th>6</th>\n      <td>-0.793931</td>\n      <td>-0.758384</td>\n      <td>0.643117</td>\n      <td>0.351521</td>\n      <td>0.412905</td>\n      <td>0.219689</td>\n      <td>-0.624699</td>\n      <td>-0.352877</td>\n      <td>2.088150</td>\n    </tr>\n    <tr>\n      <th>84</th>\n      <td>-0.800532</td>\n      <td>-0.390147</td>\n      <td>0.580575</td>\n      <td>0.210988</td>\n      <td>0.283494</td>\n      <td>0.281164</td>\n      <td>-0.638785</td>\n      <td>-0.352877</td>\n      <td>0.339372</td>\n    </tr>\n  </tbody>\n</table>\n</div>"
     },
     "execution_count": 588,
     "metadata": {},
     "output_type": "execute_result"
    }
   ],
   "source": [
    "# Make sure that the index of X and y match\n",
    "\n",
    "X_shuffled.head(10)"
   ],
   "metadata": {
    "collapsed": false
   }
  },
  {
   "cell_type": "markdown",
   "source": [
    "Next we will need to specify the structure of the model."
   ],
   "metadata": {
    "collapsed": false
   }
  },
  {
   "cell_type": "code",
   "execution_count": 589,
   "outputs": [],
   "source": [
    "# This is a neural network model with 9 inputs, 2 hidden layers, and 6 outputs.\n",
    "\n",
    "def create_keras_model(num_hidden, activation):\n",
    "\n",
    "    # glass has 9 predictor variables\n",
    "    inputs = Input(shape=(9,))\n",
    "\n",
    "    # our hidden layer is parameterized\n",
    "    layer_1 = Dense(num_hidden, activation=activation)(inputs)\n",
    "\n",
    "    layer_2 = Dense(num_hidden, activation=activation)(layer_1)\n",
    "\n",
    "    # we have a 6-class problem, and we'll hard-code softmax activation\n",
    "    outputs = Dense(6, activation=\"softmax\")(layer_2)\n",
    "\n",
    "    # Build our model\n",
    "    model = Model(inputs=inputs, outputs=outputs, name=\"model_1\")\n",
    "\n",
    "    return model"
   ],
   "metadata": {
    "collapsed": false
   }
  },
  {
   "cell_type": "markdown",
   "source": [
    "The classes are imbalanced. To minimize the effect of this problem, weighted f1 performance metric is used."
   ],
   "metadata": {
    "collapsed": false
   }
  },
  {
   "cell_type": "code",
   "execution_count": 590,
   "outputs": [],
   "source": [
    "# Define a custom scorer for F1 score\n",
    "f1_scorer = make_scorer(f1_score, average='weighted')"
   ],
   "metadata": {
    "collapsed": false
   }
  },
  {
   "cell_type": "code",
   "execution_count": 591,
   "outputs": [
    {
     "name": "stdout",
     "output_type": "stream",
     "text": [
      "Fitting 5 folds for each of 12 candidates, totalling 60 fits\n",
      "CPU times: total: 1min 27s\n",
      "Wall time: 1min 15s\n"
     ]
    }
   ],
   "source": [
    "%%time\n",
    "\n",
    "param_grid = { 'optimizer': ['adam'],\n",
    "               'model__num_hidden': [50, 60],\n",
    "               'model__activation': ['relu'],\n",
    "               'epochs': [85, 100],\n",
    "               'batch_size': [4, 5, 7]\n",
    "             }\n",
    "\n",
    "clf = KerasClassifier(model=create_keras_model, loss='categorical_crossentropy', verbose=0)\n",
    "\n",
    "grid = GridSearchCV(clf, param_grid,\n",
    "                    return_train_score=True, cv=5,\n",
    "                    scoring=f1_scorer,\n",
    "                    verbose=2, n_jobs=-1)\n",
    "grid_result = grid.fit(X_shuffled, y_binarized)\n",
    "\n",
    "df_grid_results = pd.DataFrame(grid_result.cv_results_)"
   ],
   "metadata": {
    "collapsed": false
   }
  },
  {
   "cell_type": "code",
   "execution_count": 592,
   "outputs": [
    {
     "data": {
      "text/plain": "0.723607093572247"
     },
     "execution_count": 592,
     "metadata": {},
     "output_type": "execute_result"
    }
   ],
   "source": [
    "# summarize results\n",
    "grid_result.best_score_"
   ],
   "metadata": {
    "collapsed": false
   }
  },
  {
   "cell_type": "code",
   "execution_count": 593,
   "outputs": [
    {
     "data": {
      "text/plain": "{'batch_size': 5,\n 'epochs': 100,\n 'model__activation': 'relu',\n 'model__num_hidden': 60,\n 'optimizer': 'adam'}"
     },
     "execution_count": 593,
     "metadata": {},
     "output_type": "execute_result"
    }
   ],
   "source": [
    "grid_result.best_params_"
   ],
   "metadata": {
    "collapsed": false
   }
  },
  {
   "cell_type": "code",
   "execution_count": 594,
   "outputs": [
    {
     "data": {
      "text/plain": "   param_batch_size param_epochs param_model__activation  \\\n0                 5          100                    relu   \n1                 7          100                    relu   \n2                 4           85                    relu   \n3                 4          100                    relu   \n4                 5           85                    relu   \n5                 7           85                    relu   \n6                 5           85                    relu   \n7                 7          100                    relu   \n8                 4          100                    relu   \n9                 5          100                    relu   \n10                4           85                    relu   \n11                7           85                    relu   \n\n   param_model__num_hidden param_optimizer  mean_train_score  mean_test_score  \n0                       60            adam          0.978008         0.723607  \n1                       50            adam          0.957871         0.722907  \n2                       50            adam          0.967257         0.711487  \n3                       50            adam          0.967334         0.706681  \n4                       60            adam          0.970863         0.706066  \n5                       60            adam          0.951836         0.705060  \n6                       50            adam          0.962594         0.703246  \n7                       60            adam          0.967376         0.698779  \n8                       60            adam          0.981365         0.690067  \n9                       50            adam          0.976679         0.689397  \n10                      60            adam          0.969559         0.686936  \n11                      50            adam          0.942400         0.664042  ",
      "text/html": "<div>\n<style scoped>\n    .dataframe tbody tr th:only-of-type {\n        vertical-align: middle;\n    }\n\n    .dataframe tbody tr th {\n        vertical-align: top;\n    }\n\n    .dataframe thead th {\n        text-align: right;\n    }\n</style>\n<table border=\"1\" class=\"dataframe\">\n  <thead>\n    <tr style=\"text-align: right;\">\n      <th></th>\n      <th>param_batch_size</th>\n      <th>param_epochs</th>\n      <th>param_model__activation</th>\n      <th>param_model__num_hidden</th>\n      <th>param_optimizer</th>\n      <th>mean_train_score</th>\n      <th>mean_test_score</th>\n    </tr>\n  </thead>\n  <tbody>\n    <tr>\n      <th>0</th>\n      <td>5</td>\n      <td>100</td>\n      <td>relu</td>\n      <td>60</td>\n      <td>adam</td>\n      <td>0.978008</td>\n      <td>0.723607</td>\n    </tr>\n    <tr>\n      <th>1</th>\n      <td>7</td>\n      <td>100</td>\n      <td>relu</td>\n      <td>50</td>\n      <td>adam</td>\n      <td>0.957871</td>\n      <td>0.722907</td>\n    </tr>\n    <tr>\n      <th>2</th>\n      <td>4</td>\n      <td>85</td>\n      <td>relu</td>\n      <td>50</td>\n      <td>adam</td>\n      <td>0.967257</td>\n      <td>0.711487</td>\n    </tr>\n    <tr>\n      <th>3</th>\n      <td>4</td>\n      <td>100</td>\n      <td>relu</td>\n      <td>50</td>\n      <td>adam</td>\n      <td>0.967334</td>\n      <td>0.706681</td>\n    </tr>\n    <tr>\n      <th>4</th>\n      <td>5</td>\n      <td>85</td>\n      <td>relu</td>\n      <td>60</td>\n      <td>adam</td>\n      <td>0.970863</td>\n      <td>0.706066</td>\n    </tr>\n    <tr>\n      <th>5</th>\n      <td>7</td>\n      <td>85</td>\n      <td>relu</td>\n      <td>60</td>\n      <td>adam</td>\n      <td>0.951836</td>\n      <td>0.705060</td>\n    </tr>\n    <tr>\n      <th>6</th>\n      <td>5</td>\n      <td>85</td>\n      <td>relu</td>\n      <td>50</td>\n      <td>adam</td>\n      <td>0.962594</td>\n      <td>0.703246</td>\n    </tr>\n    <tr>\n      <th>7</th>\n      <td>7</td>\n      <td>100</td>\n      <td>relu</td>\n      <td>60</td>\n      <td>adam</td>\n      <td>0.967376</td>\n      <td>0.698779</td>\n    </tr>\n    <tr>\n      <th>8</th>\n      <td>4</td>\n      <td>100</td>\n      <td>relu</td>\n      <td>60</td>\n      <td>adam</td>\n      <td>0.981365</td>\n      <td>0.690067</td>\n    </tr>\n    <tr>\n      <th>9</th>\n      <td>5</td>\n      <td>100</td>\n      <td>relu</td>\n      <td>50</td>\n      <td>adam</td>\n      <td>0.976679</td>\n      <td>0.689397</td>\n    </tr>\n    <tr>\n      <th>10</th>\n      <td>4</td>\n      <td>85</td>\n      <td>relu</td>\n      <td>60</td>\n      <td>adam</td>\n      <td>0.969559</td>\n      <td>0.686936</td>\n    </tr>\n    <tr>\n      <th>11</th>\n      <td>7</td>\n      <td>85</td>\n      <td>relu</td>\n      <td>50</td>\n      <td>adam</td>\n      <td>0.942400</td>\n      <td>0.664042</td>\n    </tr>\n  </tbody>\n</table>\n</div>"
     },
     "execution_count": 594,
     "metadata": {},
     "output_type": "execute_result"
    }
   ],
   "source": [
    "df_grid_results.sort_values('mean_test_score', ascending=False).reset_index(drop=True).loc[:,['param_batch_size', 'param_epochs', 'param_model__activation', 'param_model__num_hidden', 'param_optimizer', 'mean_train_score', 'mean_test_score']]"
   ],
   "metadata": {
    "collapsed": false
   }
  },
  {
   "cell_type": "markdown",
   "source": [
    "The class imbalance might be too severe. Since there are not many samples, we will try oversampling the data and see if it works better."
   ],
   "metadata": {
    "collapsed": false
   }
  },
  {
   "cell_type": "code",
   "execution_count": 595,
   "outputs": [
    {
     "data": {
      "text/plain": "1    76\n2    76\n3    76\n5    76\n6    76\n7    76\nName: Type of glass, dtype: int64"
     },
     "execution_count": 595,
     "metadata": {},
     "output_type": "execute_result"
    }
   ],
   "source": [
    "# Use SMOTE to oversample the data so that each class has the same number of samples\n",
    "oversample = SMOTE()\n",
    "X_oversampled, y_oversampled = oversample.fit_resample(X_shuffled, y_shuffled)\n",
    "y_oversampled.value_counts()"
   ],
   "metadata": {
    "collapsed": false
   }
  },
  {
   "cell_type": "code",
   "execution_count": 596,
   "outputs": [
    {
     "data": {
      "text/plain": "(456, 6)"
     },
     "execution_count": 596,
     "metadata": {},
     "output_type": "execute_result"
    }
   ],
   "source": [
    "# Binarize the oversampled y\n",
    "y_oversampled = pd.get_dummies(y_oversampled)\n",
    "y_oversampled.shape"
   ],
   "metadata": {
    "collapsed": false
   }
  },
  {
   "cell_type": "code",
   "execution_count": 597,
   "outputs": [
    {
     "data": {
      "text/plain": "(456, 9)"
     },
     "execution_count": 597,
     "metadata": {},
     "output_type": "execute_result"
    }
   ],
   "source": [
    "X_oversampled.shape"
   ],
   "metadata": {
    "collapsed": false
   }
  },
  {
   "cell_type": "code",
   "execution_count": 598,
   "outputs": [
    {
     "name": "stdout",
     "output_type": "stream",
     "text": [
      "Fitting 5 folds for each of 8 candidates, totalling 40 fits\n",
      "CPU times: total: 6min 53s\n",
      "Wall time: 1min 54s\n"
     ]
    }
   ],
   "source": [
    "%%time\n",
    "\n",
    "param_grid = { 'optimizer': ['adam'],\n",
    "               'model__num_hidden': [30, 75],\n",
    "               'model__activation': ['relu'],\n",
    "               'epochs': [90, 130],\n",
    "               'batch_size': [3, 20]\n",
    "             }\n",
    "\n",
    "clf = KerasClassifier(model=create_keras_model, loss='categorical_crossentropy', verbose=0)\n",
    "\n",
    "grid = GridSearchCV(clf, param_grid,\n",
    "                    return_train_score=True, cv=5,\n",
    "                    scoring='accuracy',\n",
    "                    verbose=2, n_jobs=-1)\n",
    "grid_result = grid.fit(X_oversampled, y_oversampled)\n",
    "\n",
    "df_grid_results = pd.DataFrame(grid_result.cv_results_)"
   ],
   "metadata": {
    "collapsed": false
   }
  },
  {
   "cell_type": "code",
   "execution_count": 599,
   "outputs": [
    {
     "data": {
      "text/plain": "0.8906593406593407"
     },
     "execution_count": 599,
     "metadata": {},
     "output_type": "execute_result"
    }
   ],
   "source": [
    "# summarize results\n",
    "grid_result.best_score_"
   ],
   "metadata": {
    "collapsed": false
   }
  },
  {
   "cell_type": "code",
   "execution_count": 600,
   "outputs": [
    {
     "data": {
      "text/plain": "{'batch_size': 3,\n 'epochs': 130,\n 'model__activation': 'relu',\n 'model__num_hidden': 30,\n 'optimizer': 'adam'}"
     },
     "execution_count": 600,
     "metadata": {},
     "output_type": "execute_result"
    }
   ],
   "source": [
    "grid_result.best_params_"
   ],
   "metadata": {
    "collapsed": false
   }
  },
  {
   "cell_type": "code",
   "execution_count": 601,
   "outputs": [
    {
     "data": {
      "text/plain": "  param_batch_size param_epochs param_model__activation  \\\n0                3          130                    relu   \n1                3          130                    relu   \n2               20           90                    relu   \n3               20          130                    relu   \n4                3           90                    relu   \n5                3           90                    relu   \n6               20          130                    relu   \n7               20           90                    relu   \n\n  param_model__num_hidden param_optimizer  mean_train_score  mean_test_score  \n0                      30            adam          0.992874         0.890659  \n1                      75            adam          0.998904         0.888485  \n2                      75            adam          0.981912         0.886312  \n3                      75            adam          0.986846         0.884114  \n4                      75            adam          0.993423         0.881940  \n5                      30            adam          0.984655         0.862183  \n6                      30            adam          0.970948         0.862183  \n7                      30            adam          0.955603         0.855566  ",
      "text/html": "<div>\n<style scoped>\n    .dataframe tbody tr th:only-of-type {\n        vertical-align: middle;\n    }\n\n    .dataframe tbody tr th {\n        vertical-align: top;\n    }\n\n    .dataframe thead th {\n        text-align: right;\n    }\n</style>\n<table border=\"1\" class=\"dataframe\">\n  <thead>\n    <tr style=\"text-align: right;\">\n      <th></th>\n      <th>param_batch_size</th>\n      <th>param_epochs</th>\n      <th>param_model__activation</th>\n      <th>param_model__num_hidden</th>\n      <th>param_optimizer</th>\n      <th>mean_train_score</th>\n      <th>mean_test_score</th>\n    </tr>\n  </thead>\n  <tbody>\n    <tr>\n      <th>0</th>\n      <td>3</td>\n      <td>130</td>\n      <td>relu</td>\n      <td>30</td>\n      <td>adam</td>\n      <td>0.992874</td>\n      <td>0.890659</td>\n    </tr>\n    <tr>\n      <th>1</th>\n      <td>3</td>\n      <td>130</td>\n      <td>relu</td>\n      <td>75</td>\n      <td>adam</td>\n      <td>0.998904</td>\n      <td>0.888485</td>\n    </tr>\n    <tr>\n      <th>2</th>\n      <td>20</td>\n      <td>90</td>\n      <td>relu</td>\n      <td>75</td>\n      <td>adam</td>\n      <td>0.981912</td>\n      <td>0.886312</td>\n    </tr>\n    <tr>\n      <th>3</th>\n      <td>20</td>\n      <td>130</td>\n      <td>relu</td>\n      <td>75</td>\n      <td>adam</td>\n      <td>0.986846</td>\n      <td>0.884114</td>\n    </tr>\n    <tr>\n      <th>4</th>\n      <td>3</td>\n      <td>90</td>\n      <td>relu</td>\n      <td>75</td>\n      <td>adam</td>\n      <td>0.993423</td>\n      <td>0.881940</td>\n    </tr>\n    <tr>\n      <th>5</th>\n      <td>3</td>\n      <td>90</td>\n      <td>relu</td>\n      <td>30</td>\n      <td>adam</td>\n      <td>0.984655</td>\n      <td>0.862183</td>\n    </tr>\n    <tr>\n      <th>6</th>\n      <td>20</td>\n      <td>130</td>\n      <td>relu</td>\n      <td>30</td>\n      <td>adam</td>\n      <td>0.970948</td>\n      <td>0.862183</td>\n    </tr>\n    <tr>\n      <th>7</th>\n      <td>20</td>\n      <td>90</td>\n      <td>relu</td>\n      <td>30</td>\n      <td>adam</td>\n      <td>0.955603</td>\n      <td>0.855566</td>\n    </tr>\n  </tbody>\n</table>\n</div>"
     },
     "execution_count": 601,
     "metadata": {},
     "output_type": "execute_result"
    }
   ],
   "source": [
    "df_grid_results.sort_values('mean_test_score', ascending=False).reset_index(drop=True).loc[:,['param_batch_size', 'param_epochs', 'param_model__activation', 'param_model__num_hidden', 'param_optimizer', 'mean_train_score', 'mean_test_score']]"
   ],
   "metadata": {
    "collapsed": false
   }
  },
  {
   "cell_type": "markdown",
   "source": [
    "We can see that it is much more effective when we oversample the data before training the model. We will then test the best model by splitting the data into training and testing data."
   ],
   "metadata": {
    "collapsed": false
   }
  },
  {
   "cell_type": "code",
   "execution_count": 602,
   "outputs": [
    {
     "data": {
      "text/plain": "1    60\n2    60\n3    60\n5    60\n6    60\n7    60\nName: Type of glass, dtype: int64"
     },
     "execution_count": 602,
     "metadata": {},
     "output_type": "execute_result"
    }
   ],
   "source": [
    "# Split the data into 80% train and 20% test data\n",
    "X_train, X_test, y_train, y_test = \\\n",
    "    train_test_split(X_shuffled, y_shuffled, test_size=0.2, random_state=0)\n",
    "\n",
    "# Use SMOTE to oversample the training data so that each class has the same number of samples\n",
    "oversample = SMOTE()\n",
    "X_train_oversampled, y_train_oversampled = oversample.fit_resample(X_train, y_train)\n",
    "y_train_oversampled.value_counts()"
   ],
   "metadata": {
    "collapsed": false
   }
  },
  {
   "cell_type": "code",
   "execution_count": 603,
   "outputs": [
    {
     "data": {
      "text/plain": "(360, 6)"
     },
     "execution_count": 603,
     "metadata": {},
     "output_type": "execute_result"
    }
   ],
   "source": [
    "# Binarize the oversampled y\n",
    "y_train_oversampled = pd.get_dummies(y_train_oversampled)\n",
    "y_train_oversampled.shape"
   ],
   "metadata": {
    "collapsed": false
   }
  },
  {
   "cell_type": "code",
   "execution_count": 604,
   "outputs": [
    {
     "data": {
      "text/plain": "(360, 9)"
     },
     "execution_count": 604,
     "metadata": {},
     "output_type": "execute_result"
    }
   ],
   "source": [
    "X_train_oversampled.shape"
   ],
   "metadata": {
    "collapsed": false
   }
  },
  {
   "cell_type": "code",
   "execution_count": 605,
   "outputs": [],
   "source": [
    "# create the model using the relu activation function and 75 nodes in each hidden layer\n",
    "model = create_keras_model(75, 'relu')\n",
    "\n",
    "# compile the model using adam as the optimizer, categorical crossentropy as the loss, and weighted f1 as the performance metric\n",
    "model.compile(optimizer='adam', loss='categorical_crossentropy', metrics=['accuracy'])"
   ],
   "metadata": {
    "collapsed": false
   }
  },
  {
   "cell_type": "code",
   "execution_count": 606,
   "outputs": [
    {
     "name": "stdout",
     "output_type": "stream",
     "text": [
      "Epoch 1/35\n",
      "120/120 [==============================] - 1s 5ms/step - loss: 1.2771 - accuracy: 0.5750 - val_loss: 1.3471 - val_accuracy: 0.4186\n",
      "Epoch 2/35\n",
      "120/120 [==============================] - 0s 2ms/step - loss: 0.7279 - accuracy: 0.7667 - val_loss: 1.0922 - val_accuracy: 0.6977\n",
      "Epoch 3/35\n",
      "120/120 [==============================] - 0s 2ms/step - loss: 0.5444 - accuracy: 0.8000 - val_loss: 1.0072 - val_accuracy: 0.6512\n",
      "Epoch 4/35\n",
      "120/120 [==============================] - 0s 2ms/step - loss: 0.4531 - accuracy: 0.8417 - val_loss: 0.9895 - val_accuracy: 0.6744\n",
      "Epoch 5/35\n",
      "120/120 [==============================] - 0s 2ms/step - loss: 0.3931 - accuracy: 0.8667 - val_loss: 0.9600 - val_accuracy: 0.6744\n",
      "Epoch 6/35\n",
      "120/120 [==============================] - 0s 2ms/step - loss: 0.3561 - accuracy: 0.8806 - val_loss: 0.9244 - val_accuracy: 0.6279\n",
      "Epoch 7/35\n",
      "120/120 [==============================] - 0s 2ms/step - loss: 0.3158 - accuracy: 0.8833 - val_loss: 0.9548 - val_accuracy: 0.6512\n",
      "Epoch 8/35\n",
      "120/120 [==============================] - 0s 2ms/step - loss: 0.2899 - accuracy: 0.9111 - val_loss: 0.9641 - val_accuracy: 0.6977\n",
      "Epoch 9/35\n",
      "120/120 [==============================] - 0s 2ms/step - loss: 0.2707 - accuracy: 0.9083 - val_loss: 0.9488 - val_accuracy: 0.7209\n",
      "Epoch 10/35\n",
      "120/120 [==============================] - 0s 2ms/step - loss: 0.2564 - accuracy: 0.9056 - val_loss: 0.9506 - val_accuracy: 0.7209\n",
      "Epoch 11/35\n",
      "120/120 [==============================] - 0s 2ms/step - loss: 0.2322 - accuracy: 0.9250 - val_loss: 0.8862 - val_accuracy: 0.7442\n",
      "Epoch 12/35\n",
      "120/120 [==============================] - 0s 2ms/step - loss: 0.2212 - accuracy: 0.9222 - val_loss: 1.0189 - val_accuracy: 0.6744\n",
      "Epoch 13/35\n",
      "120/120 [==============================] - 0s 2ms/step - loss: 0.2008 - accuracy: 0.9250 - val_loss: 0.8691 - val_accuracy: 0.7442\n",
      "Epoch 14/35\n",
      "120/120 [==============================] - 0s 2ms/step - loss: 0.2016 - accuracy: 0.9278 - val_loss: 0.8524 - val_accuracy: 0.7209\n",
      "Epoch 15/35\n",
      "120/120 [==============================] - 0s 2ms/step - loss: 0.1933 - accuracy: 0.9444 - val_loss: 0.9497 - val_accuracy: 0.6512\n",
      "Epoch 16/35\n",
      "120/120 [==============================] - 0s 2ms/step - loss: 0.1797 - accuracy: 0.9444 - val_loss: 0.8268 - val_accuracy: 0.7442\n",
      "Epoch 17/35\n",
      "120/120 [==============================] - 0s 2ms/step - loss: 0.1733 - accuracy: 0.9444 - val_loss: 0.9843 - val_accuracy: 0.6977\n",
      "Epoch 18/35\n",
      "120/120 [==============================] - 0s 2ms/step - loss: 0.1731 - accuracy: 0.9444 - val_loss: 1.0191 - val_accuracy: 0.6744\n",
      "Epoch 19/35\n",
      "120/120 [==============================] - 0s 2ms/step - loss: 0.1613 - accuracy: 0.9556 - val_loss: 0.9099 - val_accuracy: 0.7442\n",
      "Epoch 20/35\n",
      "120/120 [==============================] - 0s 2ms/step - loss: 0.1638 - accuracy: 0.9417 - val_loss: 1.0766 - val_accuracy: 0.6744\n",
      "Epoch 21/35\n",
      "120/120 [==============================] - 0s 2ms/step - loss: 0.1489 - accuracy: 0.9472 - val_loss: 0.9484 - val_accuracy: 0.6977\n",
      "Epoch 22/35\n",
      "120/120 [==============================] - 0s 2ms/step - loss: 0.1410 - accuracy: 0.9583 - val_loss: 1.1141 - val_accuracy: 0.6744\n",
      "Epoch 23/35\n",
      "120/120 [==============================] - 0s 3ms/step - loss: 0.1408 - accuracy: 0.9528 - val_loss: 1.0702 - val_accuracy: 0.6744\n",
      "Epoch 24/35\n",
      "120/120 [==============================] - 0s 3ms/step - loss: 0.1321 - accuracy: 0.9583 - val_loss: 1.0147 - val_accuracy: 0.7209\n",
      "Epoch 25/35\n",
      "120/120 [==============================] - 0s 2ms/step - loss: 0.1299 - accuracy: 0.9611 - val_loss: 1.0605 - val_accuracy: 0.6977\n",
      "Epoch 26/35\n",
      "120/120 [==============================] - 0s 2ms/step - loss: 0.1360 - accuracy: 0.9528 - val_loss: 1.0558 - val_accuracy: 0.6744\n",
      "Epoch 27/35\n",
      "120/120 [==============================] - 0s 2ms/step - loss: 0.1309 - accuracy: 0.9556 - val_loss: 1.1023 - val_accuracy: 0.6977\n",
      "Epoch 28/35\n",
      "120/120 [==============================] - 0s 3ms/step - loss: 0.1233 - accuracy: 0.9528 - val_loss: 0.9568 - val_accuracy: 0.7442\n",
      "Epoch 29/35\n",
      "120/120 [==============================] - 0s 3ms/step - loss: 0.1288 - accuracy: 0.9500 - val_loss: 1.0574 - val_accuracy: 0.7442\n",
      "Epoch 30/35\n",
      "120/120 [==============================] - 0s 2ms/step - loss: 0.1194 - accuracy: 0.9611 - val_loss: 1.0787 - val_accuracy: 0.7674\n",
      "Epoch 31/35\n",
      "120/120 [==============================] - 0s 2ms/step - loss: 0.1248 - accuracy: 0.9556 - val_loss: 1.2152 - val_accuracy: 0.6744\n",
      "Epoch 32/35\n",
      "120/120 [==============================] - 0s 2ms/step - loss: 0.1114 - accuracy: 0.9667 - val_loss: 1.4542 - val_accuracy: 0.6744\n",
      "Epoch 33/35\n",
      "120/120 [==============================] - 0s 3ms/step - loss: 0.1156 - accuracy: 0.9528 - val_loss: 1.2336 - val_accuracy: 0.7209\n",
      "Epoch 34/35\n",
      "120/120 [==============================] - 0s 2ms/step - loss: 0.1139 - accuracy: 0.9611 - val_loss: 1.1084 - val_accuracy: 0.7442\n",
      "Epoch 35/35\n",
      "120/120 [==============================] - 0s 2ms/step - loss: 0.1153 - accuracy: 0.9528 - val_loss: 1.2632 - val_accuracy: 0.7442\n"
     ]
    }
   ],
   "source": [
    "# train the model, the output history is a dictionary containing\n",
    "# information of accuracy and loss for every step\n",
    "history = model.fit(X_train_oversampled, y_train_oversampled,\n",
    "                    epochs=35, batch_size=3, verbose=1,\n",
    "                    validation_data=(X_test, pd.get_dummies(y_test)))"
   ],
   "metadata": {
    "collapsed": false
   }
  },
  {
   "cell_type": "code",
   "execution_count": 607,
   "outputs": [
    {
     "data": {
      "text/plain": "<Figure size 640x480 with 1 Axes>",
      "image/png": "[encoded data removed]"
     },
     "metadata": {},
     "output_type": "display_data"
    },
    {
     "data": {
      "text/plain": "<Figure size 640x480 with 1 Axes>",
      "image/png": "[encoded data removed]"
     },
     "metadata": {},
     "output_type": "display_data"
    }
   ],
   "source": [
    "# summarize history for accuracy\n",
    "plt.plot(history.history['accuracy'])\n",
    "plt.plot(history.history['val_accuracy'])\n",
    "plt.title('model accuracy')\n",
    "plt.ylabel('accuracy')\n",
    "plt.xlabel('epoch')\n",
    "plt.legend(['train', 'test'], loc='upper left')\n",
    "plt.show()\n",
    "# summarize history for loss\n",
    "plt.plot(history.history['loss'])\n",
    "plt.plot(history.history['val_loss'])\n",
    "plt.title('model loss')\n",
    "plt.ylabel('loss')\n",
    "plt.xlabel('epoch')\n",
    "plt.legend(['train', 'test'], loc='upper left')\n",
    "plt.show()"
   ],
   "metadata": {
    "collapsed": false
   }
  },
  {
   "cell_type": "code",
   "execution_count": 608,
   "outputs": [
    {
     "name": "stdout",
     "output_type": "stream",
     "text": [
      "2/2 [==============================] - 0s 102ms/step\n"
     ]
    },
    {
     "data": {
      "text/plain": "0    1\n1    3\n2    2\n3    5\n4    1\n5    2\n6    2\n7    1\n8    2\n9    7\ndtype: category\nCategories (6, int64): [1, 2, 3, 5, 6, 7]"
     },
     "execution_count": 608,
     "metadata": {},
     "output_type": "execute_result"
    }
   ],
   "source": [
    "y_pred = model.predict(X_test)\n",
    "y_pred = pd.Series(np.argmax(y_pred, axis=1))\n",
    "y_pred = y_pred.astype('category')\n",
    "y_pred = y_pred.replace({0: '1', 1: '2', 2: '3', 3: '5', 4: '6', 5: '7'}).astype('int').astype('category')\n",
    "y_pred.head(10)"
   ],
   "metadata": {
    "collapsed": false
   }
  },
  {
   "cell_type": "code",
   "execution_count": 609,
   "outputs": [
    {
     "data": {
      "text/plain": "0    1\n1    3\n2    2\n3    5\n4    3\n5    2\n6    2\n7    1\n8    2\n9    7\nName: Type of glass, dtype: category\nCategories (6, int64): [1, 2, 3, 5, 6, 7]"
     },
     "execution_count": 609,
     "metadata": {},
     "output_type": "execute_result"
    }
   ],
   "source": [
    "y_test = y_test.reset_index(drop=True)\n",
    "y_test.head(10)"
   ],
   "metadata": {
    "collapsed": false
   }
  },
  {
   "cell_type": "code",
   "execution_count": 610,
   "outputs": [
    {
     "data": {
      "text/plain": "<Figure size 640x480 with 2 Axes>",
      "image/png": "[encoded data removed]"
     },
     "metadata": {},
     "output_type": "display_data"
    }
   ],
   "source": [
    "disp = ConfusionMatrixDisplay(confusion_matrix(y_test, y_pred),\n",
    "                              display_labels=['1', '2', '3', '5', '6', '7'])\n",
    "disp = disp.plot(include_values=True, ax=None, cmap=plt.cm.Blues)\n",
    "plt.tick_params(axis=u'both', which=u'both',length=0)\n",
    "plt.grid(visible=None)\n",
    "plt.show()"
   ],
   "metadata": {
    "collapsed": false
   }
  },
  {
   "cell_type": "markdown",
   "source": [
    "After trying it out on a train and test split data, I discovered that most of the hyperparameters are good, except the epoch. The epoch is too large and overfits the oversampled training data, so I adjusted it to a much smaller epoch. To my surprise, 2 had the biggest issue while having the least oversampling."
   ],
   "metadata": {
    "collapsed": false
   }
  }
 ],
 "metadata": {
  "kernelspec": {
   "display_name": "Python 3",
   "language": "python",
   "name": "python3"
  },
  "language_info": {
   "codemirror_mode": {
    "name": "ipython",
    "version": 2
   },
   "file_extension": ".py",
   "mimetype": "text/x-python",
   "name": "python",
   "nbconvert_exporter": "python",
   "pygments_lexer": "ipython2",
   "version": "2.7.6"
  }
 },
 "nbformat": 4,
 "nbformat_minor": 0
}
