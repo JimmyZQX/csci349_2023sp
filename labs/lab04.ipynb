{
 "cells": [
  {
   "cell_type": "markdown",
   "metadata": {},
   "source": [
    "# Lab04 - pandas II\n",
    "\n",
    "Name: Jimmy (Qixiao) Zhu\n",
    "Class: CSCI 349 - Intro to Data Mining\n",
    "Semester: 2023SP\n",
    "Instructor: Brian King"
   ]
  },
  {
   "cell_type": "code",
   "execution_count": 2583,
   "metadata": {
    "collapsed": false,
    "jupyter": {
     "outputs_hidden": false
    }
   },
   "outputs": [],
   "source": [
    "import sys\n",
    "import numpy as np\n",
    "import pandas as pd"
   ]
  },
  {
   "cell_type": "code",
   "execution_count": 2584,
   "metadata": {
    "collapsed": false,
    "jupyter": {
     "outputs_hidden": false
    }
   },
   "outputs": [
    {
     "data": {
      "text/plain": "          Mon  Tues    Wed    Thu   Fri Student\nweek_1   8.75  9.50   8.00  10.00  7.75     Bob\nweek_1   8.00  9.00  10.00   8.75  7.25    Jane\nweek_2   0.00  8.00   9.75   9.00  6.00     Bob\nweek_2   8.25  7.00   0.00   9.25  8.00    Jane\nweek_3   8.50  7.00   9.25   0.00  0.00     Bob\nweek_3   8.25  8.25   0.00   8.00  7.50    Jane\nweek_4   6.50  8.75   8.50   8.00  6.00     Bob\nweek_4  10.00  9.25   8.50   7.75  7.50    Jane",
      "text/html": "<div>\n<style scoped>\n    .dataframe tbody tr th:only-of-type {\n        vertical-align: middle;\n    }\n\n    .dataframe tbody tr th {\n        vertical-align: top;\n    }\n\n    .dataframe thead th {\n        text-align: right;\n    }\n</style>\n<table border=\"1\" class=\"dataframe\">\n  <thead>\n    <tr style=\"text-align: right;\">\n      <th></th>\n      <th>Mon</th>\n      <th>Tues</th>\n      <th>Wed</th>\n      <th>Thu</th>\n      <th>Fri</th>\n      <th>Student</th>\n    </tr>\n  </thead>\n  <tbody>\n    <tr>\n      <th>week_1</th>\n      <td>8.75</td>\n      <td>9.50</td>\n      <td>8.00</td>\n      <td>10.00</td>\n      <td>7.75</td>\n      <td>Bob</td>\n    </tr>\n    <tr>\n      <th>week_1</th>\n      <td>8.00</td>\n      <td>9.00</td>\n      <td>10.00</td>\n      <td>8.75</td>\n      <td>7.25</td>\n      <td>Jane</td>\n    </tr>\n    <tr>\n      <th>week_2</th>\n      <td>0.00</td>\n      <td>8.00</td>\n      <td>9.75</td>\n      <td>9.00</td>\n      <td>6.00</td>\n      <td>Bob</td>\n    </tr>\n    <tr>\n      <th>week_2</th>\n      <td>8.25</td>\n      <td>7.00</td>\n      <td>0.00</td>\n      <td>9.25</td>\n      <td>8.00</td>\n      <td>Jane</td>\n    </tr>\n    <tr>\n      <th>week_3</th>\n      <td>8.50</td>\n      <td>7.00</td>\n      <td>9.25</td>\n      <td>0.00</td>\n      <td>0.00</td>\n      <td>Bob</td>\n    </tr>\n    <tr>\n      <th>week_3</th>\n      <td>8.25</td>\n      <td>8.25</td>\n      <td>0.00</td>\n      <td>8.00</td>\n      <td>7.50</td>\n      <td>Jane</td>\n    </tr>\n    <tr>\n      <th>week_4</th>\n      <td>6.50</td>\n      <td>8.75</td>\n      <td>8.50</td>\n      <td>8.00</td>\n      <td>6.00</td>\n      <td>Bob</td>\n    </tr>\n    <tr>\n      <th>week_4</th>\n      <td>10.00</td>\n      <td>9.25</td>\n      <td>8.50</td>\n      <td>7.75</td>\n      <td>7.50</td>\n      <td>Jane</td>\n    </tr>\n  </tbody>\n</table>\n</div>"
     },
     "execution_count": 2584,
     "metadata": {},
     "output_type": "execute_result"
    }
   ],
   "source": [
    "days = [\"Mon\",\"Tues\",\"Wed\",\"Thu\",\"Fri\",\"Student\"]\n",
    "scores = pd.DataFrame([pd.Series([8.75, 9.5, 8, 10, 7.75, \"Bob\"],\n",
    "                                 index=days, name=\"week_1\"),\n",
    "pd.Series([8, 9, 10, 8.75, 7.25, \"Jane\"], index=days, name=\"week_1\"),\n",
    "pd.Series([0, 8, 9.75, 9, 6, \"Bob\"], index=days, name=\"week_2\"),\n",
    "pd.Series([8.25, 7, 0, 9.25, 8, \"Jane\"], index=days, name=\"week_2\"),\n",
    "pd.Series([8.5, 7, 9.25, 0, 0, \"Bob\"], index=days, name=\"week_3\"),\n",
    "pd.Series([8.25, 8.25, 0, 8, 7.5, \"Jane\"], index=days, name=\"week_3\"),\n",
    "pd.Series([6.5, 8.75, 8.5, 8, 6, \"Bob\"], index=days, name=\"week_4\"),\n",
    "pd.Series([10, 9.25, 8.5, 7.75, 7.5, \"Jane\"], index=days,name=\"week_4\"),])\n",
    "scores"
   ]
  },
  {
   "cell_type": "markdown",
   "metadata": {},
   "source": [
    "**1)** [P] Report the shape, the number of dimensions, the size of the data, and the data types of each column.\n",
    "Print each separately. Then create an additional code cell that shows the results of scores.info().\n",
    "Comment on what the info() method does on data frames."
   ]
  },
  {
   "cell_type": "code",
   "execution_count": 2585,
   "metadata": {
    "collapsed": false,
    "jupyter": {
     "outputs_hidden": false
    }
   },
   "outputs": [
    {
     "name": "stdout",
     "output_type": "stream",
     "text": [
      "shape: (8, 6)\n",
      "dimensions: 2\n",
      "size of DataFrame: 48\n",
      "size of data in bytes: 1324\n",
      "types by column: \n"
     ]
    },
    {
     "data": {
      "text/plain": "Mon        float64\nTues       float64\nWed        float64\nThu        float64\nFri        float64\nStudent     object\ndtype: object"
     },
     "execution_count": 2585,
     "metadata": {},
     "output_type": "execute_result"
    }
   ],
   "source": [
    "print(\"shape: \" + str(scores.shape))\n",
    "print(\"dimensions: \" + str(scores.ndim))\n",
    "print(\"size of DataFrame: \" + str(scores.size))\n",
    "print(\"size of data in bytes: \" + str(sys.getsizeof(scores)))\n",
    "print(\"types by column: \")\n",
    "scores.dtypes"
   ]
  },
  {
   "cell_type": "code",
   "execution_count": 2586,
   "metadata": {
    "collapsed": false,
    "jupyter": {
     "outputs_hidden": false
    }
   },
   "outputs": [
    {
     "name": "stdout",
     "output_type": "stream",
     "text": [
      "<class 'pandas.core.frame.DataFrame'>\n",
      "Index: 8 entries, week_1 to week_4\n",
      "Data columns (total 6 columns):\n",
      " #   Column   Non-Null Count  Dtype  \n",
      "---  ------   --------------  -----  \n",
      " 0   Mon      8 non-null      float64\n",
      " 1   Tues     8 non-null      float64\n",
      " 2   Wed      8 non-null      float64\n",
      " 3   Thu      8 non-null      float64\n",
      " 4   Fri      8 non-null      float64\n",
      " 5   Student  8 non-null      object \n",
      "dtypes: float64(5), object(1)\n",
      "memory usage: 448.0+ bytes\n"
     ]
    }
   ],
   "source": [
    "scores.info()\n",
    "# The info() method returns the information of the DatFrame.\n",
    "# It contains the type of the object, thenumber of index and\n",
    "# the names of the idex. It also provides the number of columns,\n",
    "# gives us the non-null count of each column, and gives us the\n",
    "# data type of each column. At last, it summarizes the number\n",
    "# of columns of each data type that is in this DataFrame."
   ]
  },
  {
   "cell_type": "markdown",
   "metadata": {},
   "source": [
    "**2)** [P] Show two different ways to report the number of observations in scores."
   ]
  },
  {
   "cell_type": "code",
   "execution_count": 2587,
   "metadata": {
    "collapsed": false,
    "jupyter": {
     "outputs_hidden": false
    }
   },
   "outputs": [
    {
     "name": "stdout",
     "output_type": "stream",
     "text": [
      "40\n",
      "40\n"
     ]
    }
   ],
   "source": [
    "print(scores.loc[:, \"Mon\":\"Fri\"].size)\n",
    "print(scores.iloc[:, 0:5].size)"
   ]
  },
  {
   "cell_type": "markdown",
   "metadata": {},
   "source": [
    "**3)** [P] Show the variables (i.e. columns) in scores"
   ]
  },
  {
   "cell_type": "code",
   "execution_count": 2588,
   "metadata": {
    "collapsed": false,
    "jupyter": {
     "outputs_hidden": false
    }
   },
   "outputs": [
    {
     "data": {
      "text/plain": "['Mon', 'Tues', 'Wed', 'Thu', 'Fri', 'Student']"
     },
     "execution_count": 2588,
     "metadata": {},
     "output_type": "execute_result"
    }
   ],
   "source": [
    "scores.columns.tolist()"
   ]
  },
  {
   "cell_type": "markdown",
   "metadata": {},
   "source": [
    "**4)** [P] There are repetitive names in the index. This happens quite a bit, depending on how the data is organized.\n",
    "For now. print the unique index names in scores"
   ]
  },
  {
   "cell_type": "code",
   "execution_count": 2589,
   "metadata": {
    "collapsed": false,
    "jupyter": {
     "outputs_hidden": false
    }
   },
   "outputs": [
    {
     "data": {
      "text/plain": "['week_1', 'week_2', 'week_3', 'week_4']"
     },
     "execution_count": 2589,
     "metadata": {},
     "output_type": "execute_result"
    }
   ],
   "source": [
    "scores.index.unique().tolist()"
   ]
  },
  {
   "cell_type": "markdown",
   "metadata": {},
   "source": [
    "**5)** [P] Rename the 'Tues' column header to be 'Tue' . (Hint: Changing scores.columns[1] directly will not work, not to mention it would be a poor approach to hard code a location this way! Magic numbers are never a good idea when referencing index or column locations. They may change!) Show the new scores data frame. This should be the same, except with Tues changed to Tue."
   ]
  },
  {
   "cell_type": "code",
   "execution_count": 2590,
   "metadata": {
    "collapsed": false,
    "jupyter": {
     "outputs_hidden": false
    }
   },
   "outputs": [
    {
     "data": {
      "text/plain": "          Mon   Tue    Wed    Thu   Fri Student\nweek_1   8.75  9.50   8.00  10.00  7.75     Bob\nweek_1   8.00  9.00  10.00   8.75  7.25    Jane\nweek_2   0.00  8.00   9.75   9.00  6.00     Bob\nweek_2   8.25  7.00   0.00   9.25  8.00    Jane\nweek_3   8.50  7.00   9.25   0.00  0.00     Bob\nweek_3   8.25  8.25   0.00   8.00  7.50    Jane\nweek_4   6.50  8.75   8.50   8.00  6.00     Bob\nweek_4  10.00  9.25   8.50   7.75  7.50    Jane",
      "text/html": "<div>\n<style scoped>\n    .dataframe tbody tr th:only-of-type {\n        vertical-align: middle;\n    }\n\n    .dataframe tbody tr th {\n        vertical-align: top;\n    }\n\n    .dataframe thead th {\n        text-align: right;\n    }\n</style>\n<table border=\"1\" class=\"dataframe\">\n  <thead>\n    <tr style=\"text-align: right;\">\n      <th></th>\n      <th>Mon</th>\n      <th>Tue</th>\n      <th>Wed</th>\n      <th>Thu</th>\n      <th>Fri</th>\n      <th>Student</th>\n    </tr>\n  </thead>\n  <tbody>\n    <tr>\n      <th>week_1</th>\n      <td>8.75</td>\n      <td>9.50</td>\n      <td>8.00</td>\n      <td>10.00</td>\n      <td>7.75</td>\n      <td>Bob</td>\n    </tr>\n    <tr>\n      <th>week_1</th>\n      <td>8.00</td>\n      <td>9.00</td>\n      <td>10.00</td>\n      <td>8.75</td>\n      <td>7.25</td>\n      <td>Jane</td>\n    </tr>\n    <tr>\n      <th>week_2</th>\n      <td>0.00</td>\n      <td>8.00</td>\n      <td>9.75</td>\n      <td>9.00</td>\n      <td>6.00</td>\n      <td>Bob</td>\n    </tr>\n    <tr>\n      <th>week_2</th>\n      <td>8.25</td>\n      <td>7.00</td>\n      <td>0.00</td>\n      <td>9.25</td>\n      <td>8.00</td>\n      <td>Jane</td>\n    </tr>\n    <tr>\n      <th>week_3</th>\n      <td>8.50</td>\n      <td>7.00</td>\n      <td>9.25</td>\n      <td>0.00</td>\n      <td>0.00</td>\n      <td>Bob</td>\n    </tr>\n    <tr>\n      <th>week_3</th>\n      <td>8.25</td>\n      <td>8.25</td>\n      <td>0.00</td>\n      <td>8.00</td>\n      <td>7.50</td>\n      <td>Jane</td>\n    </tr>\n    <tr>\n      <th>week_4</th>\n      <td>6.50</td>\n      <td>8.75</td>\n      <td>8.50</td>\n      <td>8.00</td>\n      <td>6.00</td>\n      <td>Bob</td>\n    </tr>\n    <tr>\n      <th>week_4</th>\n      <td>10.00</td>\n      <td>9.25</td>\n      <td>8.50</td>\n      <td>7.75</td>\n      <td>7.50</td>\n      <td>Jane</td>\n    </tr>\n  </tbody>\n</table>\n</div>"
     },
     "execution_count": 2590,
     "metadata": {},
     "output_type": "execute_result"
    }
   ],
   "source": [
    "scores = scores.rename(columns={'Tues': 'Tue'})\n",
    "scores"
   ]
  },
  {
   "cell_type": "markdown",
   "metadata": {},
   "source": [
    "**6)** [P] Now, make a bigger change. Let's rename 'week_1' to be 'w1', 'week_2' to be 'w2', and so on.\n",
    "Also, suppose you decide to use only 2 letter abbreviations for the days. Rename the days in the column names to be 'Mo', 'Tu', 'We', 'Th', 'Fr'. Show the updated scores dataframe."
   ]
  },
  {
   "cell_type": "code",
   "execution_count": 2591,
   "metadata": {
    "collapsed": false,
    "jupyter": {
     "outputs_hidden": false
    }
   },
   "outputs": [
    {
     "data": {
      "text/plain": "        Mo    Tu     We     Th    Fr Student\nwk1   8.75  9.50   8.00  10.00  7.75     Bob\nwk1   8.00  9.00  10.00   8.75  7.25    Jane\nwk2   0.00  8.00   9.75   9.00  6.00     Bob\nwk2   8.25  7.00   0.00   9.25  8.00    Jane\nwk3   8.50  7.00   9.25   0.00  0.00     Bob\nwk3   8.25  8.25   0.00   8.00  7.50    Jane\nwk4   6.50  8.75   8.50   8.00  6.00     Bob\nwk4  10.00  9.25   8.50   7.75  7.50    Jane",
      "text/html": "<div>\n<style scoped>\n    .dataframe tbody tr th:only-of-type {\n        vertical-align: middle;\n    }\n\n    .dataframe tbody tr th {\n        vertical-align: top;\n    }\n\n    .dataframe thead th {\n        text-align: right;\n    }\n</style>\n<table border=\"1\" class=\"dataframe\">\n  <thead>\n    <tr style=\"text-align: right;\">\n      <th></th>\n      <th>Mo</th>\n      <th>Tu</th>\n      <th>We</th>\n      <th>Th</th>\n      <th>Fr</th>\n      <th>Student</th>\n    </tr>\n  </thead>\n  <tbody>\n    <tr>\n      <th>wk1</th>\n      <td>8.75</td>\n      <td>9.50</td>\n      <td>8.00</td>\n      <td>10.00</td>\n      <td>7.75</td>\n      <td>Bob</td>\n    </tr>\n    <tr>\n      <th>wk1</th>\n      <td>8.00</td>\n      <td>9.00</td>\n      <td>10.00</td>\n      <td>8.75</td>\n      <td>7.25</td>\n      <td>Jane</td>\n    </tr>\n    <tr>\n      <th>wk2</th>\n      <td>0.00</td>\n      <td>8.00</td>\n      <td>9.75</td>\n      <td>9.00</td>\n      <td>6.00</td>\n      <td>Bob</td>\n    </tr>\n    <tr>\n      <th>wk2</th>\n      <td>8.25</td>\n      <td>7.00</td>\n      <td>0.00</td>\n      <td>9.25</td>\n      <td>8.00</td>\n      <td>Jane</td>\n    </tr>\n    <tr>\n      <th>wk3</th>\n      <td>8.50</td>\n      <td>7.00</td>\n      <td>9.25</td>\n      <td>0.00</td>\n      <td>0.00</td>\n      <td>Bob</td>\n    </tr>\n    <tr>\n      <th>wk3</th>\n      <td>8.25</td>\n      <td>8.25</td>\n      <td>0.00</td>\n      <td>8.00</td>\n      <td>7.50</td>\n      <td>Jane</td>\n    </tr>\n    <tr>\n      <th>wk4</th>\n      <td>6.50</td>\n      <td>8.75</td>\n      <td>8.50</td>\n      <td>8.00</td>\n      <td>6.00</td>\n      <td>Bob</td>\n    </tr>\n    <tr>\n      <th>wk4</th>\n      <td>10.00</td>\n      <td>9.25</td>\n      <td>8.50</td>\n      <td>7.75</td>\n      <td>7.50</td>\n      <td>Jane</td>\n    </tr>\n  </tbody>\n</table>\n</div>"
     },
     "execution_count": 2591,
     "metadata": {},
     "output_type": "execute_result"
    }
   ],
   "source": [
    "scores = scores.rename(index=lambda x: 'wk' + str(x[-1]),\n",
    "                       columns=lambda x: x[0:2] if x != 'Student' else x)\n",
    "scores"
   ]
  },
  {
   "cell_type": "markdown",
   "metadata": {},
   "source": [
    "**7)** [PM] Compare the type of the expression scores['Mo'] vs. scores\\[['Mo']\\]. What is the difference?\n",
    "(HINT: use the type() Python function on both.)"
   ]
  },
  {
   "cell_type": "code",
   "execution_count": 2592,
   "metadata": {
    "collapsed": false,
    "jupyter": {
     "outputs_hidden": false
    }
   },
   "outputs": [
    {
     "name": "stdout",
     "output_type": "stream",
     "text": [
      "<class 'pandas.core.series.Series'>\n",
      "<class 'pandas.core.frame.DataFrame'>\n"
     ]
    }
   ],
   "source": [
    "print(type(scores['Mo']))\n",
    "print(type(scores[['Mo']]))"
   ]
  },
  {
   "cell_type": "markdown",
   "metadata": {},
   "source": [
    "The first one-dimensional object is a Series and the second two-dimensional object is a DataFrame."
   ]
  },
  {
   "cell_type": "markdown",
   "metadata": {},
   "source": [
    "**8)** [P] Demonstrate the describe() method on scores. What type does it return?"
   ]
  },
  {
   "cell_type": "code",
   "execution_count": 2593,
   "metadata": {
    "collapsed": false,
    "jupyter": {
     "outputs_hidden": false
    }
   },
   "outputs": [
    {
     "name": "stdout",
     "output_type": "stream",
     "text": [
      "<class 'pandas.core.frame.DataFrame'>\n"
     ]
    },
    {
     "data": {
      "text/plain": "              Mo        Tu         We         Th        Fr\ncount   8.000000  8.000000   8.000000   8.000000  8.000000\nmean    7.281250  8.343750   6.750000   7.593750  6.250000\nstd     3.095035  0.963045   4.219428   3.159276  2.635608\nmin     0.000000  7.000000   0.000000   0.000000  0.000000\n25%     7.625000  7.750000   6.000000   7.937500  6.000000\n50%     8.250000  8.500000   8.500000   8.375000  7.375000\n75%     8.562500  9.062500   9.375000   9.062500  7.562500\nmax    10.000000  9.500000  10.000000  10.000000  8.000000",
      "text/html": "<div>\n<style scoped>\n    .dataframe tbody tr th:only-of-type {\n        vertical-align: middle;\n    }\n\n    .dataframe tbody tr th {\n        vertical-align: top;\n    }\n\n    .dataframe thead th {\n        text-align: right;\n    }\n</style>\n<table border=\"1\" class=\"dataframe\">\n  <thead>\n    <tr style=\"text-align: right;\">\n      <th></th>\n      <th>Mo</th>\n      <th>Tu</th>\n      <th>We</th>\n      <th>Th</th>\n      <th>Fr</th>\n    </tr>\n  </thead>\n  <tbody>\n    <tr>\n      <th>count</th>\n      <td>8.000000</td>\n      <td>8.000000</td>\n      <td>8.000000</td>\n      <td>8.000000</td>\n      <td>8.000000</td>\n    </tr>\n    <tr>\n      <th>mean</th>\n      <td>7.281250</td>\n      <td>8.343750</td>\n      <td>6.750000</td>\n      <td>7.593750</td>\n      <td>6.250000</td>\n    </tr>\n    <tr>\n      <th>std</th>\n      <td>3.095035</td>\n      <td>0.963045</td>\n      <td>4.219428</td>\n      <td>3.159276</td>\n      <td>2.635608</td>\n    </tr>\n    <tr>\n      <th>min</th>\n      <td>0.000000</td>\n      <td>7.000000</td>\n      <td>0.000000</td>\n      <td>0.000000</td>\n      <td>0.000000</td>\n    </tr>\n    <tr>\n      <th>25%</th>\n      <td>7.625000</td>\n      <td>7.750000</td>\n      <td>6.000000</td>\n      <td>7.937500</td>\n      <td>6.000000</td>\n    </tr>\n    <tr>\n      <th>50%</th>\n      <td>8.250000</td>\n      <td>8.500000</td>\n      <td>8.500000</td>\n      <td>8.375000</td>\n      <td>7.375000</td>\n    </tr>\n    <tr>\n      <th>75%</th>\n      <td>8.562500</td>\n      <td>9.062500</td>\n      <td>9.375000</td>\n      <td>9.062500</td>\n      <td>7.562500</td>\n    </tr>\n    <tr>\n      <th>max</th>\n      <td>10.000000</td>\n      <td>9.500000</td>\n      <td>10.000000</td>\n      <td>10.000000</td>\n      <td>8.000000</td>\n    </tr>\n  </tbody>\n</table>\n</div>"
     },
     "execution_count": 2593,
     "metadata": {},
     "output_type": "execute_result"
    }
   ],
   "source": [
    "print(type(scores.describe()))\n",
    "scores.describe()"
   ]
  },
  {
   "cell_type": "markdown",
   "metadata": {},
   "source": [
    "**9)** [P] Store the output of describe() as a variable. Then, using this data frame, report the day that had the largest standard deviation in quiz scores and its value. Clean your temporary variables when complete (i.e. use del)"
   ]
  },
  {
   "cell_type": "code",
   "execution_count": 2594,
   "metadata": {
    "collapsed": false,
    "jupyter": {
     "outputs_hidden": false
    }
   },
   "outputs": [
    {
     "name": "stdout",
     "output_type": "stream",
     "text": [
      "max std day: We\n",
      "max std: 4.219427855595049\n"
     ]
    }
   ],
   "source": [
    "des = scores.describe()\n",
    "print(\"max std day: \" + des.loc['std'].idxmax())\n",
    "print(\"max std: \" + str(des.loc['std'].max()))\n",
    "del des"
   ]
  },
  {
   "cell_type": "markdown",
   "metadata": {},
   "source": [
    "**10)** [P] Knowing that describe() is nothing more than another data frame is interesting. However, it's more important to write code to output the specific results you are looking for. Write the Python code to repeat the previous exercise without using describe()."
   ]
  },
  {
   "cell_type": "code",
   "execution_count": 2595,
   "metadata": {
    "collapsed": false,
    "jupyter": {
     "outputs_hidden": false
    }
   },
   "outputs": [
    {
     "name": "stdout",
     "output_type": "stream",
     "text": [
      "max std day: We\n",
      "max std: 4.219427855595049\n"
     ]
    }
   ],
   "source": [
    "print(\"max std day: \" + scores.loc[:, 'Mo':'Fr'].std().idxmax())\n",
    "print(\"max std: \" + str(scores.loc[:, 'Mo':'Fr'].std().max()))"
   ]
  },
  {
   "cell_type": "markdown",
   "metadata": {},
   "source": [
    "**11)** [P] Write the code that changes all 0.0 entries to np.nan. (NOTE: You should be able to do this with just one line of code using pandas selection techniques!) Then, show scores. All 0.0 entries should be replaced with NaN in the output."
   ]
  },
  {
   "cell_type": "code",
   "execution_count": 2596,
   "metadata": {
    "collapsed": false,
    "jupyter": {
     "outputs_hidden": false
    }
   },
   "outputs": [
    {
     "data": {
      "text/plain": "        Mo    Tu     We     Th    Fr Student\nwk1   8.75  9.50   8.00  10.00  7.75     Bob\nwk1   8.00  9.00  10.00   8.75  7.25    Jane\nwk2    NaN  8.00   9.75   9.00  6.00     Bob\nwk2   8.25  7.00    NaN   9.25  8.00    Jane\nwk3   8.50  7.00   9.25    NaN   NaN     Bob\nwk3   8.25  8.25    NaN   8.00  7.50    Jane\nwk4   6.50  8.75   8.50   8.00  6.00     Bob\nwk4  10.00  9.25   8.50   7.75  7.50    Jane",
      "text/html": "<div>\n<style scoped>\n    .dataframe tbody tr th:only-of-type {\n        vertical-align: middle;\n    }\n\n    .dataframe tbody tr th {\n        vertical-align: top;\n    }\n\n    .dataframe thead th {\n        text-align: right;\n    }\n</style>\n<table border=\"1\" class=\"dataframe\">\n  <thead>\n    <tr style=\"text-align: right;\">\n      <th></th>\n      <th>Mo</th>\n      <th>Tu</th>\n      <th>We</th>\n      <th>Th</th>\n      <th>Fr</th>\n      <th>Student</th>\n    </tr>\n  </thead>\n  <tbody>\n    <tr>\n      <th>wk1</th>\n      <td>8.75</td>\n      <td>9.50</td>\n      <td>8.00</td>\n      <td>10.00</td>\n      <td>7.75</td>\n      <td>Bob</td>\n    </tr>\n    <tr>\n      <th>wk1</th>\n      <td>8.00</td>\n      <td>9.00</td>\n      <td>10.00</td>\n      <td>8.75</td>\n      <td>7.25</td>\n      <td>Jane</td>\n    </tr>\n    <tr>\n      <th>wk2</th>\n      <td>NaN</td>\n      <td>8.00</td>\n      <td>9.75</td>\n      <td>9.00</td>\n      <td>6.00</td>\n      <td>Bob</td>\n    </tr>\n    <tr>\n      <th>wk2</th>\n      <td>8.25</td>\n      <td>7.00</td>\n      <td>NaN</td>\n      <td>9.25</td>\n      <td>8.00</td>\n      <td>Jane</td>\n    </tr>\n    <tr>\n      <th>wk3</th>\n      <td>8.50</td>\n      <td>7.00</td>\n      <td>9.25</td>\n      <td>NaN</td>\n      <td>NaN</td>\n      <td>Bob</td>\n    </tr>\n    <tr>\n      <th>wk3</th>\n      <td>8.25</td>\n      <td>8.25</td>\n      <td>NaN</td>\n      <td>8.00</td>\n      <td>7.50</td>\n      <td>Jane</td>\n    </tr>\n    <tr>\n      <th>wk4</th>\n      <td>6.50</td>\n      <td>8.75</td>\n      <td>8.50</td>\n      <td>8.00</td>\n      <td>6.00</td>\n      <td>Bob</td>\n    </tr>\n    <tr>\n      <th>wk4</th>\n      <td>10.00</td>\n      <td>9.25</td>\n      <td>8.50</td>\n      <td>7.75</td>\n      <td>7.50</td>\n      <td>Jane</td>\n    </tr>\n  </tbody>\n</table>\n</div>"
     },
     "execution_count": 2596,
     "metadata": {},
     "output_type": "execute_result"
    }
   ],
   "source": [
    "scores.replace(0, np.nan, inplace=True)\n",
    "scores"
   ]
  },
  {
   "cell_type": "markdown",
   "metadata": {},
   "source": [
    "**12)** [P] Show the output of describe() again. You should notice much more reasonable SD values. Note how much more informative this output is when properly dealing with missing data. Then, copy your code from above to output the day with the largest standard deviation in quiz scores. You should have a substantially different result than you did before."
   ]
  },
  {
   "cell_type": "code",
   "execution_count": 2597,
   "metadata": {
    "collapsed": false,
    "jupyter": {
     "outputs_hidden": false
    }
   },
   "outputs": [
    {
     "data": {
      "text/plain": "              Mo        Tu         We         Th        Fr\ncount   7.000000  8.000000   6.000000   7.000000  7.000000\nmean    8.321429  8.343750   9.000000   8.678571  7.142857\nstd     1.037970  0.963045   0.790569   0.812843  0.814672\nmin     6.500000  7.000000   8.000000   7.750000  6.000000\n25%     8.125000  7.750000   8.500000   8.000000  6.625000\n50%     8.250000  8.500000   8.875000   8.750000  7.500000\n75%     8.625000  9.062500   9.625000   9.125000  7.625000\nmax    10.000000  9.500000  10.000000  10.000000  8.000000",
      "text/html": "<div>\n<style scoped>\n    .dataframe tbody tr th:only-of-type {\n        vertical-align: middle;\n    }\n\n    .dataframe tbody tr th {\n        vertical-align: top;\n    }\n\n    .dataframe thead th {\n        text-align: right;\n    }\n</style>\n<table border=\"1\" class=\"dataframe\">\n  <thead>\n    <tr style=\"text-align: right;\">\n      <th></th>\n      <th>Mo</th>\n      <th>Tu</th>\n      <th>We</th>\n      <th>Th</th>\n      <th>Fr</th>\n    </tr>\n  </thead>\n  <tbody>\n    <tr>\n      <th>count</th>\n      <td>7.000000</td>\n      <td>8.000000</td>\n      <td>6.000000</td>\n      <td>7.000000</td>\n      <td>7.000000</td>\n    </tr>\n    <tr>\n      <th>mean</th>\n      <td>8.321429</td>\n      <td>8.343750</td>\n      <td>9.000000</td>\n      <td>8.678571</td>\n      <td>7.142857</td>\n    </tr>\n    <tr>\n      <th>std</th>\n      <td>1.037970</td>\n      <td>0.963045</td>\n      <td>0.790569</td>\n      <td>0.812843</td>\n      <td>0.814672</td>\n    </tr>\n    <tr>\n      <th>min</th>\n      <td>6.500000</td>\n      <td>7.000000</td>\n      <td>8.000000</td>\n      <td>7.750000</td>\n      <td>6.000000</td>\n    </tr>\n    <tr>\n      <th>25%</th>\n      <td>8.125000</td>\n      <td>7.750000</td>\n      <td>8.500000</td>\n      <td>8.000000</td>\n      <td>6.625000</td>\n    </tr>\n    <tr>\n      <th>50%</th>\n      <td>8.250000</td>\n      <td>8.500000</td>\n      <td>8.875000</td>\n      <td>8.750000</td>\n      <td>7.500000</td>\n    </tr>\n    <tr>\n      <th>75%</th>\n      <td>8.625000</td>\n      <td>9.062500</td>\n      <td>9.625000</td>\n      <td>9.125000</td>\n      <td>7.625000</td>\n    </tr>\n    <tr>\n      <th>max</th>\n      <td>10.000000</td>\n      <td>9.500000</td>\n      <td>10.000000</td>\n      <td>10.000000</td>\n      <td>8.000000</td>\n    </tr>\n  </tbody>\n</table>\n</div>"
     },
     "execution_count": 2597,
     "metadata": {},
     "output_type": "execute_result"
    }
   ],
   "source": [
    "des = scores.describe()\n",
    "des"
   ]
  },
  {
   "cell_type": "code",
   "execution_count": 2598,
   "metadata": {
    "collapsed": false,
    "jupyter": {
     "outputs_hidden": false
    }
   },
   "outputs": [
    {
     "name": "stdout",
     "output_type": "stream",
     "text": [
      "max std day: Mo\n",
      "max std: 1.0379696297970151\n"
     ]
    }
   ],
   "source": [
    "print(\"max std day: \" + des.loc['std'].idxmax())\n",
    "print(\"max std: \" + str(des.loc['std'].max()))\n",
    "del des"
   ]
  },
  {
   "cell_type": "markdown",
   "metadata": {},
   "source": [
    "**13)** [PM] Show the output of scores.values. What does the .values attribute do?"
   ]
  },
  {
   "cell_type": "code",
   "execution_count": 2599,
   "metadata": {
    "collapsed": false,
    "jupyter": {
     "outputs_hidden": false
    }
   },
   "outputs": [
    {
     "data": {
      "text/plain": "array([[8.75, 9.5, 8.0, 10.0, 7.75, 'Bob'],\n       [8.0, 9.0, 10.0, 8.75, 7.25, 'Jane'],\n       [nan, 8.0, 9.75, 9.0, 6.0, 'Bob'],\n       [8.25, 7.0, nan, 9.25, 8.0, 'Jane'],\n       [8.5, 7.0, 9.25, nan, nan, 'Bob'],\n       [8.25, 8.25, nan, 8.0, 7.5, 'Jane'],\n       [6.5, 8.75, 8.5, 8.0, 6.0, 'Bob'],\n       [10.0, 9.25, 8.5, 7.75, 7.5, 'Jane']], dtype=object)"
     },
     "execution_count": 2599,
     "metadata": {},
     "output_type": "execute_result"
    }
   ],
   "source": [
    "scores.values"
   ]
  },
  {
   "cell_type": "markdown",
   "metadata": {},
   "source": [
    "The .values attribute returns a Numpy copy of the original DataFrame."
   ]
  },
  {
   "cell_type": "markdown",
   "metadata": {},
   "source": [
    "**14)** [P] What is the mean quiz score for each day? Do not use describe()"
   ]
  },
  {
   "cell_type": "code",
   "execution_count": 2600,
   "metadata": {
    "collapsed": false,
    "jupyter": {
     "outputs_hidden": false
    }
   },
   "outputs": [
    {
     "data": {
      "text/plain": "Mo    8.321429\nTu    8.343750\nWe    9.000000\nTh    8.678571\nFr    7.142857\ndtype: float64"
     },
     "execution_count": 2600,
     "metadata": {},
     "output_type": "execute_result"
    }
   ],
   "source": [
    "scores.loc[:, 'Mo':'Fr'].mean()"
   ]
  },
  {
   "cell_type": "markdown",
   "metadata": {},
   "source": [
    "**15)** [P] What is the mean quiz score over the entire dataset, ignoring all missing values?"
   ]
  },
  {
   "cell_type": "code",
   "execution_count": 2601,
   "metadata": {
    "collapsed": false,
    "jupyter": {
     "outputs_hidden": false
    }
   },
   "outputs": [
    {
     "data": {
      "text/plain": "8.278571428571428"
     },
     "execution_count": 2601,
     "metadata": {},
     "output_type": "execute_result"
    }
   ],
   "source": [
    "scores.loc[:, 'Mo':'Fr'].stack().mean()"
   ]
  },
  {
   "cell_type": "markdown",
   "metadata": {},
   "source": [
    "**16)** [P] Show the mean for each week over all students. Again, you are not counting missing quizzes into the average. (Yes, technically you could write a loop to compute this exhaustively. However, you should rarely need to do that. Use pandas!)"
   ]
  },
  {
   "cell_type": "code",
   "execution_count": 2602,
   "metadata": {
    "collapsed": false,
    "jupyter": {
     "outputs_hidden": false
    }
   },
   "outputs": [
    {
     "data": {
      "text/plain": "wk1    8.700000\nwk2    8.156250\nwk3    8.107143\nwk4    8.075000\ndtype: float64"
     },
     "execution_count": 2602,
     "metadata": {},
     "output_type": "execute_result"
    }
   ],
   "source": [
    "# I could not find a better way after trying for hours.\n",
    "# Is there another simpler way? I tried stack()\n",
    "# and did not work. I also tried groupby and then mean,\n",
    "# but it should not be the correct way. I found this was\n",
    "# the only way to get the mean of a segment of data frame.\n",
    "scores.groupby(scores.index).sum(numeric_only=True).sum(axis=1) / \\\n",
    "scores.count(axis=1, numeric_only=True).groupby(scores.index).sum()"
   ]
  },
  {
   "cell_type": "markdown",
   "metadata": {},
   "source": [
    "**17)** [P] Show the mean score for each student. Again, ignore all missing values."
   ]
  },
  {
   "cell_type": "code",
   "execution_count": 2603,
   "metadata": {
    "collapsed": false,
    "jupyter": {
     "outputs_hidden": false
    }
   },
   "outputs": [
    {
     "data": {
      "text/plain": "Student\nBob     8.191176\nJane    8.361111\ndtype: float64"
     },
     "execution_count": 2603,
     "metadata": {},
     "output_type": "execute_result"
    }
   ],
   "source": [
    "scores.groupby('Student').sum().sum(axis=1) / \\\n",
    "scores.groupby('Student').count().sum(axis=1)"
   ]
  },
  {
   "cell_type": "markdown",
   "metadata": {},
   "source": [
    "**18)** [P] Select the data that includes only data for Monday and the Student variables using .loc, and again using .iloc"
   ]
  },
  {
   "cell_type": "code",
   "execution_count": 2604,
   "metadata": {
    "collapsed": false,
    "jupyter": {
     "outputs_hidden": false
    }
   },
   "outputs": [
    {
     "data": {
      "text/plain": "        Mo Student\nwk1   8.75     Bob\nwk1   8.00    Jane\nwk2    NaN     Bob\nwk2   8.25    Jane\nwk3   8.50     Bob\nwk3   8.25    Jane\nwk4   6.50     Bob\nwk4  10.00    Jane",
      "text/html": "<div>\n<style scoped>\n    .dataframe tbody tr th:only-of-type {\n        vertical-align: middle;\n    }\n\n    .dataframe tbody tr th {\n        vertical-align: top;\n    }\n\n    .dataframe thead th {\n        text-align: right;\n    }\n</style>\n<table border=\"1\" class=\"dataframe\">\n  <thead>\n    <tr style=\"text-align: right;\">\n      <th></th>\n      <th>Mo</th>\n      <th>Student</th>\n    </tr>\n  </thead>\n  <tbody>\n    <tr>\n      <th>wk1</th>\n      <td>8.75</td>\n      <td>Bob</td>\n    </tr>\n    <tr>\n      <th>wk1</th>\n      <td>8.00</td>\n      <td>Jane</td>\n    </tr>\n    <tr>\n      <th>wk2</th>\n      <td>NaN</td>\n      <td>Bob</td>\n    </tr>\n    <tr>\n      <th>wk2</th>\n      <td>8.25</td>\n      <td>Jane</td>\n    </tr>\n    <tr>\n      <th>wk3</th>\n      <td>8.50</td>\n      <td>Bob</td>\n    </tr>\n    <tr>\n      <th>wk3</th>\n      <td>8.25</td>\n      <td>Jane</td>\n    </tr>\n    <tr>\n      <th>wk4</th>\n      <td>6.50</td>\n      <td>Bob</td>\n    </tr>\n    <tr>\n      <th>wk4</th>\n      <td>10.00</td>\n      <td>Jane</td>\n    </tr>\n  </tbody>\n</table>\n</div>"
     },
     "execution_count": 2604,
     "metadata": {},
     "output_type": "execute_result"
    }
   ],
   "source": [
    "scores.loc[:, ['Mo', 'Student']]"
   ]
  },
  {
   "cell_type": "code",
   "execution_count": 2605,
   "metadata": {
    "collapsed": false,
    "jupyter": {
     "outputs_hidden": false
    }
   },
   "outputs": [
    {
     "data": {
      "text/plain": "        Mo Student\nwk1   8.75     Bob\nwk1   8.00    Jane\nwk2    NaN     Bob\nwk2   8.25    Jane\nwk3   8.50     Bob\nwk3   8.25    Jane\nwk4   6.50     Bob\nwk4  10.00    Jane",
      "text/html": "<div>\n<style scoped>\n    .dataframe tbody tr th:only-of-type {\n        vertical-align: middle;\n    }\n\n    .dataframe tbody tr th {\n        vertical-align: top;\n    }\n\n    .dataframe thead th {\n        text-align: right;\n    }\n</style>\n<table border=\"1\" class=\"dataframe\">\n  <thead>\n    <tr style=\"text-align: right;\">\n      <th></th>\n      <th>Mo</th>\n      <th>Student</th>\n    </tr>\n  </thead>\n  <tbody>\n    <tr>\n      <th>wk1</th>\n      <td>8.75</td>\n      <td>Bob</td>\n    </tr>\n    <tr>\n      <th>wk1</th>\n      <td>8.00</td>\n      <td>Jane</td>\n    </tr>\n    <tr>\n      <th>wk2</th>\n      <td>NaN</td>\n      <td>Bob</td>\n    </tr>\n    <tr>\n      <th>wk2</th>\n      <td>8.25</td>\n      <td>Jane</td>\n    </tr>\n    <tr>\n      <th>wk3</th>\n      <td>8.50</td>\n      <td>Bob</td>\n    </tr>\n    <tr>\n      <th>wk3</th>\n      <td>8.25</td>\n      <td>Jane</td>\n    </tr>\n    <tr>\n      <th>wk4</th>\n      <td>6.50</td>\n      <td>Bob</td>\n    </tr>\n    <tr>\n      <th>wk4</th>\n      <td>10.00</td>\n      <td>Jane</td>\n    </tr>\n  </tbody>\n</table>\n</div>"
     },
     "execution_count": 2605,
     "metadata": {},
     "output_type": "execute_result"
    }
   ],
   "source": [
    "scores.iloc[:, [0, 5]]"
   ]
  },
  {
   "cell_type": "markdown",
   "metadata": {},
   "source": [
    "**19)** [P] Show a new DataFrame containing the week as an index (like the original), but contains only each student with the count of their quizzes and the mean of their scores. (HINT: Sometimes, it's just easier to create a new data frame.)"
   ]
  },
  {
   "cell_type": "code",
   "execution_count": 2606,
   "metadata": {
    "collapsed": false,
    "jupyter": {
     "outputs_hidden": false
    }
   },
   "outputs": [
    {
     "data": {
      "text/plain": "    Student  count    mean\nwk1     Bob      5  8.8000\nwk1    Jane      5  8.6000\nwk2     Bob      4  8.1875\nwk2    Jane      4  8.1250\nwk3     Bob      3  8.2500\nwk3    Jane      4  8.0000\nwk4     Bob      5  7.5500\nwk4    Jane      5  8.6000",
      "text/html": "<div>\n<style scoped>\n    .dataframe tbody tr th:only-of-type {\n        vertical-align: middle;\n    }\n\n    .dataframe tbody tr th {\n        vertical-align: top;\n    }\n\n    .dataframe thead th {\n        text-align: right;\n    }\n</style>\n<table border=\"1\" class=\"dataframe\">\n  <thead>\n    <tr style=\"text-align: right;\">\n      <th></th>\n      <th>Student</th>\n      <th>count</th>\n      <th>mean</th>\n    </tr>\n  </thead>\n  <tbody>\n    <tr>\n      <th>wk1</th>\n      <td>Bob</td>\n      <td>5</td>\n      <td>8.8000</td>\n    </tr>\n    <tr>\n      <th>wk1</th>\n      <td>Jane</td>\n      <td>5</td>\n      <td>8.6000</td>\n    </tr>\n    <tr>\n      <th>wk2</th>\n      <td>Bob</td>\n      <td>4</td>\n      <td>8.1875</td>\n    </tr>\n    <tr>\n      <th>wk2</th>\n      <td>Jane</td>\n      <td>4</td>\n      <td>8.1250</td>\n    </tr>\n    <tr>\n      <th>wk3</th>\n      <td>Bob</td>\n      <td>3</td>\n      <td>8.2500</td>\n    </tr>\n    <tr>\n      <th>wk3</th>\n      <td>Jane</td>\n      <td>4</td>\n      <td>8.0000</td>\n    </tr>\n    <tr>\n      <th>wk4</th>\n      <td>Bob</td>\n      <td>5</td>\n      <td>7.5500</td>\n    </tr>\n    <tr>\n      <th>wk4</th>\n      <td>Jane</td>\n      <td>5</td>\n      <td>8.6000</td>\n    </tr>\n  </tbody>\n</table>\n</div>"
     },
     "execution_count": 2606,
     "metadata": {},
     "output_type": "execute_result"
    }
   ],
   "source": [
    "new_dataframe = scores.loc[:, 'Student']\n",
    "count = scores.count(axis=1, numeric_only=True)\n",
    "count = count.rename('count')\n",
    "mean = scores.mean(axis=1, numeric_only=True)\n",
    "mean = mean.rename('mean')\n",
    "new_dataframe =  pd.concat([new_dataframe, count], axis=1)\n",
    "new_dataframe =  pd.concat([new_dataframe, mean], axis=1)\n",
    "new_dataframe"
   ]
  },
  {
   "cell_type": "markdown",
   "metadata": {},
   "source": [
    "**20)** [P] This time, show the total number of quizzes taken each week by all students"
   ]
  },
  {
   "cell_type": "code",
   "execution_count": 2607,
   "metadata": {
    "collapsed": false,
    "jupyter": {
     "outputs_hidden": false
    }
   },
   "outputs": [
    {
     "data": {
      "text/plain": "wk1    10\nwk2     8\nwk3     7\nwk4    10\ndtype: int64"
     },
     "execution_count": 2607,
     "metadata": {},
     "output_type": "execute_result"
    }
   ],
   "source": [
    "scores.count(axis=1, numeric_only=True).groupby(scores.index).sum()"
   ]
  },
  {
   "cell_type": "markdown",
   "metadata": {},
   "source": [
    "**21)** [P] Show the number of times Friday's score was <= 7.5 for each student. Start by selecting a subset of observations, then use value_counts() on the Student variable of the selected data."
   ]
  },
  {
   "cell_type": "code",
   "execution_count": 2608,
   "metadata": {
    "collapsed": false,
    "jupyter": {
     "outputs_hidden": false
    }
   },
   "outputs": [
    {
     "data": {
      "text/plain": "Jane    3\nBob     2\nName: Student, dtype: int64"
     },
     "execution_count": 2608,
     "metadata": {},
     "output_type": "execute_result"
    }
   ],
   "source": [
    "scores[scores[\"Fr\"] <= 7.5]['Student'].value_counts()"
   ]
  },
  {
   "cell_type": "markdown",
   "metadata": {},
   "source": [
    "**22)** [P] Repeat the previous exercise, but this time use the where() method on scores to select your data. You should have the same output."
   ]
  },
  {
   "cell_type": "code",
   "execution_count": 2609,
   "metadata": {
    "collapsed": false,
    "jupyter": {
     "outputs_hidden": false
    }
   },
   "outputs": [
    {
     "data": {
      "text/plain": "Jane    3\nBob     2\nName: Student, dtype: int64"
     },
     "execution_count": 2609,
     "metadata": {},
     "output_type": "execute_result"
    }
   ],
   "source": [
    "scores.where(scores[\"Fr\"] <= 7.5)['Student'].value_counts()"
   ]
  },
  {
   "cell_type": "markdown",
   "metadata": {},
   "source": [
    "**23)** [P] Select the scores that were greater than the mean score over the entire dataset (without the missing values). Again, no hard coding values here (i.e. do NOT hard code the mean, but recompute it. Then, report the number of scores for each day that exceeded that global mean."
   ]
  },
  {
   "cell_type": "code",
   "execution_count": 2610,
   "metadata": {
    "collapsed": false,
    "jupyter": {
     "outputs_hidden": false
    }
   },
   "outputs": [
    {
     "data": {
      "text/plain": "Mo    3\nTu    4\nWe    5\nTh    4\nFr    0\ndtype: int64"
     },
     "execution_count": 2610,
     "metadata": {},
     "output_type": "execute_result"
    }
   ],
   "source": [
    "mean = scores.loc[:, 'Mo':'Fr'].stack().mean()\n",
    "(scores.loc[:, 'Mo':'Fr'] > mean).sum(axis=0)"
   ]
  },
  {
   "cell_type": "markdown",
   "metadata": {},
   "source": [
    "**24)** [P] Sometimes when we deal with enormous datasets for modeling, we drop all observations (rows!) that have any missing data. Show a new data frame that has only complete observations."
   ]
  },
  {
   "cell_type": "code",
   "execution_count": 2611,
   "metadata": {
    "collapsed": false,
    "jupyter": {
     "outputs_hidden": false
    }
   },
   "outputs": [
    {
     "data": {
      "text/plain": "        Mo    Tu    We     Th    Fr Student\nwk1   8.75  9.50   8.0  10.00  7.75     Bob\nwk1   8.00  9.00  10.0   8.75  7.25    Jane\nwk4   6.50  8.75   8.5   8.00  6.00     Bob\nwk4  10.00  9.25   8.5   7.75  7.50    Jane",
      "text/html": "<div>\n<style scoped>\n    .dataframe tbody tr th:only-of-type {\n        vertical-align: middle;\n    }\n\n    .dataframe tbody tr th {\n        vertical-align: top;\n    }\n\n    .dataframe thead th {\n        text-align: right;\n    }\n</style>\n<table border=\"1\" class=\"dataframe\">\n  <thead>\n    <tr style=\"text-align: right;\">\n      <th></th>\n      <th>Mo</th>\n      <th>Tu</th>\n      <th>We</th>\n      <th>Th</th>\n      <th>Fr</th>\n      <th>Student</th>\n    </tr>\n  </thead>\n  <tbody>\n    <tr>\n      <th>wk1</th>\n      <td>8.75</td>\n      <td>9.50</td>\n      <td>8.0</td>\n      <td>10.00</td>\n      <td>7.75</td>\n      <td>Bob</td>\n    </tr>\n    <tr>\n      <th>wk1</th>\n      <td>8.00</td>\n      <td>9.00</td>\n      <td>10.0</td>\n      <td>8.75</td>\n      <td>7.25</td>\n      <td>Jane</td>\n    </tr>\n    <tr>\n      <th>wk4</th>\n      <td>6.50</td>\n      <td>8.75</td>\n      <td>8.5</td>\n      <td>8.00</td>\n      <td>6.00</td>\n      <td>Bob</td>\n    </tr>\n    <tr>\n      <th>wk4</th>\n      <td>10.00</td>\n      <td>9.25</td>\n      <td>8.5</td>\n      <td>7.75</td>\n      <td>7.50</td>\n      <td>Jane</td>\n    </tr>\n  </tbody>\n</table>\n</div>"
     },
     "execution_count": 2611,
     "metadata": {},
     "output_type": "execute_result"
    }
   ],
   "source": [
    "new_frame = scores.dropna()\n",
    "new_frame"
   ]
  },
  {
   "cell_type": "markdown",
   "metadata": {},
   "source": []
  }
 ],
 "metadata": {
  "kernelspec": {
   "display_name": "Python 3 (ipykernel)",
   "language": "python",
   "name": "python3"
  },
  "language_info": {
   "codemirror_mode": {
    "name": "ipython",
    "version": 3
   },
   "file_extension": ".py",
   "mimetype": "text/x-python",
   "name": "python",
   "nbconvert_exporter": "python",
   "pygments_lexer": "ipython3",
   "version": "3.9.16"
  }
 },
 "nbformat": 4,
 "nbformat_minor": 4
}
