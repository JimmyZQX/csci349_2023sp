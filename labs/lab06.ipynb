{
 "cells": [
  {
   "cell_type": "markdown",
   "metadata": {},
   "source": [
    "# Lab 06 - Data Preprocessing I\n",
    "\n",
    "Name: Qixiao Zhu\n",
    "Class: CSCI 349 - Intro to Data Mining  \n",
    "Semester: Spring 2023\n",
    "Instructor: Brian King"
   ]
  },
  {
   "cell_type": "markdown",
   "metadata": {},
   "source": [
    "---\n",
    "# Objectives\n",
    "* Experience the \"joy\" that is data munging. Munge, munge, munge!\n",
    "* Start dealing with noisy, unclean, real-world data\n",
    "* Work with times and dates in your data\n",
    "\n",
    "## Pair programming\n",
    "Don't forget that pair programming is allowed and even encouraged on these labs moving forward.\n",
    "\n",
    "# Introduction\n",
    "As you learned in class, data cleaning represents a large part of the work of the data scientist.  You are going to download a real-world dataset, and do some preliminary cleaning, EDA, and reporting."
   ]
  },
  {
   "cell_type": "markdown",
   "metadata": {},
   "source": [
    "---\n",
    "# Preparing for your lab\n",
    "\n",
    "Do each of the following...\n",
    "\n",
    "* Modify the header cell above with your name(s).\n",
    "* If you haven't yet, create a new folder at the same level as your labs and hw folder you created, called `data`.\n",
    "    * This folder will store the data that you are working with through the semester. Sometimes the data we work with can be downloaded directly from an online URL, and other times (such as this exercise), the data will need to be downloaded from public repositories locally onto your laptop. And worse yet, most data are not cleaned and tidied up for you to play with!"
   ]
  },
  {
   "cell_type": "markdown",
   "metadata": {},
   "source": [
    "---\n",
    "## The Pennsylvania State Climatologist Database\n",
    "\n",
    "Penn State has an excellent public database of weather observations collected from a wide range of stations scattered throughout the state. Some of them go back to the 1940s. For this lab, we're going to explore one of those datasets – Williamsport, PA.\n",
    "\n",
    "Go to the [The Pennsylvania State Climatologist](http://climate.met.psu.edu). From this page:\n",
    "* Select **Data**\n",
    "* Select **Data Archive**\n",
    "* For **Select a network** select **FAA Hourly**.\n",
    "* You are going to investigate the weather observations *Williamsport, PA*, whose FAA code is **KIPT**. Select it.\n",
    "\n",
    "Now you need to select the range of observations and variables we're interested in. Enter the following:\n",
    "\n",
    "* Start and End Dates: **2000-01-01** to **2022-12-31**.\n",
    "* Select EVERY attribute to download (from Date/Time, Number of observations… etc… right through Max Wind Speed).\n",
    "* Output file type should be a CSV file\n",
    "* Select Yes to include Metadata. (Metadata is information about data. This usually contains valuable information, and you almost always want to retain this information unless you are provided with an explicit *schema*, which we are not.\n",
    "\n",
    "**Click Submit.**\n",
    "\n",
    "Download the data (which will most likely place your data into your Downloads folder.)  It'll be a long filename. That's fine. I usually always add the suffix \"_raw\" to indicate this is the raw data that I'm working with from my source. *Never lose track of your original dataset.*\n",
    "\n",
    "You are not done. Move that file over to your `data` directory you created (which should be at the same directly level as your `labs` directory.) If you placed the .csv file in the correct place, then your path should be:\n",
    "\n",
    "`../data/faa_hourly-KIPT_20000101-20221231_raw.csv`\n",
    "\n",
    "\n"
   ]
  },
  {
   "cell_type": "code",
   "execution_count": 1886,
   "metadata": {},
   "outputs": [],
   "source": [
    "import math\n",
    "# This magic command just allows the autocomplete <TAB>\n",
    "# feature to work properly.\n",
    "%config Completer.use_jedi = False"
   ]
  },
  {
   "cell_type": "code",
   "execution_count": 1887,
   "metadata": {
    "collapsed": false,
    "jupyter": {
     "outputs_hidden": false
    }
   },
   "outputs": [
    {
     "name": "stdout",
     "output_type": "stream",
     "text": [
      "\n",
      "INSTALLED VERSIONS\n",
      "------------------\n",
      "commit           : 8dab54d6573f7186ff0c3b6364d5e4dd635ff3e7\n",
      "python           : 3.9.16.final.0\n",
      "python-bits      : 64\n",
      "OS               : Windows\n",
      "OS-release       : 10\n",
      "Version          : 10.0.19045\n",
      "machine          : AMD64\n",
      "processor        : AMD64 Family 25 Model 80 Stepping 0, AuthenticAMD\n",
      "byteorder        : little\n",
      "LC_ALL           : en_US.UTF-8\n",
      "LANG             : en_US.UTF-8\n",
      "LOCALE           : Chinese (Simplified)_China.utf8\n",
      "\n",
      "pandas           : 1.5.2\n",
      "numpy            : 1.23.5\n",
      "pytz             : 2022.7\n",
      "dateutil         : 2.8.2\n",
      "setuptools       : 65.6.3\n",
      "pip              : 22.3.1\n",
      "Cython           : None\n",
      "pytest           : None\n",
      "hypothesis       : None\n",
      "sphinx           : None\n",
      "blosc            : None\n",
      "feather          : None\n",
      "xlsxwriter       : None\n",
      "lxml.etree       : 4.9.1\n",
      "html5lib         : None\n",
      "pymysql          : None\n",
      "psycopg2         : None\n",
      "jinja2           : 3.1.2\n",
      "IPython          : 8.7.0\n",
      "pandas_datareader: None\n",
      "bs4              : 4.11.1\n",
      "bottleneck       : 1.3.5\n",
      "brotli           : \n",
      "fastparquet      : None\n",
      "fsspec           : None\n",
      "gcsfs            : None\n",
      "matplotlib       : 3.6.2\n",
      "numba            : None\n",
      "numexpr          : 2.8.4\n",
      "odfpy            : None\n",
      "openpyxl         : None\n",
      "pandas_gbq       : None\n",
      "pyarrow          : None\n",
      "pyreadstat       : None\n",
      "pyxlsb           : None\n",
      "s3fs             : None\n",
      "scipy            : 1.9.3\n",
      "snappy           : None\n",
      "sqlalchemy       : None\n",
      "tables           : None\n",
      "tabulate         : None\n",
      "xarray           : None\n",
      "xlrd             : None\n",
      "xlwt             : None\n",
      "zstandard        : None\n",
      "tzdata           : None\n",
      "None\n"
     ]
    }
   ],
   "source": [
    "import sys\n",
    "import os\n",
    "import numpy as np\n",
    "import pandas as pd\n",
    "import matplotlib as mpl\n",
    "import matplotlib.pyplot as plt\n",
    "import seaborn as sns\n",
    "\n",
    "print(pd.show_versions())"
   ]
  },
  {
   "cell_type": "markdown",
   "metadata": {},
   "source": [
    "---\n",
    "**1)**\t [P] Use pandas to read in your data file you downloaded above, which you should have placed in your data directory. Call the data frame `df_temps`.  Read in the entire dataset, however, be sure to ignore the first 16 rows from the input (HINT: use the `skiprows=` option!)\n",
    "\n",
    "**NOTE:** ALWAYS BE SURE TO LOOK AT YOUR ACTUAL DATA AS PLAIN TEXT BEFORE TRYING TO READ IN A RAW DATASET! JUST BECAUSE A DATASET HAS A `.csv` EXTENSION DOES NOT MEAN THAT YOU CAN RELY ON EVERY ROW BEING A PROPERLY FORMATTED ROW! For instance, notice that the header row is scattered throughout your data! Notice that you have some extra columns at the end that are consistently empty! The inexperienced data scientists are tempted to manually edit the file to make it easy to read. *NO. WRONG! BAD DATA SCIENTIST!*\n",
    "\n",
    ">**Never change your raw data.**\n",
    ">\n",
    "> Write your Python cleaning code to always work with raw, uncleaned data. Why? In practice, your data file may be huge. You may need to repeatedly grab fresh data, and those data will only have the same issues. Do you really want to repeat your manual editing silliness every time you have a fresh file? No! It may take a bit more work up front, but ALWAYS strive to write code to preprocess every aspect of your raw data file! It will always save you work later!"
   ]
  },
  {
   "cell_type": "code",
   "execution_count": 1888,
   "metadata": {
    "collapsed": false,
    "jupyter": {
     "outputs_hidden": false
    }
   },
   "outputs": [],
   "source": [
    "# ANSWER\n",
    "\n",
    "df_temps = pd.read_csv(\"../data/faa_hourly-KIPT_20000101-20221231_raw.csv\", skiprows=16)"
   ]
  },
  {
   "cell_type": "markdown",
   "metadata": {},
   "source": [
    "---\n",
    "**2)**\tReport the general structure of the data frame using `df_temps.info()`. Notice any column that is read in as a plain `object` type. You should have one column with this problem."
   ]
  },
  {
   "cell_type": "code",
   "execution_count": 1889,
   "metadata": {
    "collapsed": false,
    "jupyter": {
     "outputs_hidden": false
    }
   },
   "outputs": [
    {
     "name": "stdout",
     "output_type": "stream",
     "text": [
      "<class 'pandas.core.frame.DataFrame'>\n",
      "RangeIndex: 199201 entries, 0 to 199200\n",
      "Data columns (total 14 columns):\n",
      " #   Column                         Non-Null Count   Dtype  \n",
      "---  ------                         --------------   -----  \n",
      " 0   Date/Time (GMT)                199201 non-null  object \n",
      " 1   Number of Observations (n/a)   199201 non-null  int64  \n",
      " 2   Average Temp (F)               198189 non-null  float64\n",
      " 3   Max Temp (F)                   198189 non-null  float64\n",
      " 4   Min Temp (F)                   198189 non-null  float64\n",
      " 5   Average Dewpoint Temp (F)      198067 non-null  float64\n",
      " 6   1 Hour Precip (in)             32345 non-null   float64\n",
      " 7   Max Wind Gust (mph)            26839 non-null   float64\n",
      " 8   Average Relative Humidity (%)  193828 non-null  float64\n",
      " 9   Average Wind Speed (mph)       198638 non-null  float64\n",
      " 10  Average Station Pressure (mb)  198852 non-null  float64\n",
      " 11  Average Wind Direction (deg)   165309 non-null  float64\n",
      " 12  Max Wind Speed (mph)           198638 non-null  float64\n",
      " 13  Unnamed: 13                    0 non-null       float64\n",
      "dtypes: float64(12), int64(1), object(1)\n",
      "memory usage: 21.3+ MB\n"
     ]
    }
   ],
   "source": [
    "# ANSWER\n",
    "\n",
    "df_temps.info()"
   ]
  },
  {
   "cell_type": "markdown",
   "metadata": {},
   "source": [
    "---\n",
    "This is a pretty good dataset with lots of real problems! It gives you a chance to understand how important it is to select the smallest, yet most accurate data type for every variable. This is particularly true with respect to your memory footprint. With enormous data involving millions of records, you often need to perform various paging exercises to load in chunks of data into memory, substantially slowing down the machine learning methods. In other words, the more data you can fit in memory, the better! (In reality, the above is quoting a relatively small amount of memory. But, it's never too early to develop good habits!)\n"
   ]
  },
  {
   "cell_type": "markdown",
   "metadata": {},
   "source": [
    "---\n",
    "**3)**\t[P] Read about the `memory_usage()` method of pandas data frames. Then, report the total memory in bytes for each variable of df_temps. Set the parameter drop=True, to get the most accurate assessment of your total memory usage."
   ]
  },
  {
   "cell_type": "code",
   "execution_count": 1890,
   "metadata": {
    "collapsed": false,
    "jupyter": {
     "outputs_hidden": false
    }
   },
   "outputs": [
    {
     "data": {
      "text/plain": [
       "Index                                 128\n",
       "Date/Time (GMT)                  15139276\n",
       "Number of Observations (n/a)      1593608\n",
       "Average Temp (F)                  1593608\n",
       "Max Temp (F)                      1593608\n",
       "Min Temp (F)                      1593608\n",
       "Average Dewpoint Temp (F)         1593608\n",
       "1 Hour Precip (in)                1593608\n",
       "Max Wind Gust (mph)               1593608\n",
       "Average Relative Humidity (%)     1593608\n",
       "Average Wind Speed (mph)          1593608\n",
       "Average Station Pressure (mb)     1593608\n",
       "Average Wind Direction (deg)      1593608\n",
       "Max Wind Speed (mph)              1593608\n",
       "Unnamed: 13                       1593608\n",
       "dtype: int64"
      ]
     },
     "execution_count": 1890,
     "metadata": {},
     "output_type": "execute_result"
    }
   ],
   "source": [
    "# ANSWER\n",
    "\n",
    "df_temps.memory_usage(deep=True)"
   ]
  },
  {
   "cell_type": "markdown",
   "metadata": {},
   "source": [
    "---\n",
    "**4)**\tReport the total memory required for the data frame in MB. (Just sum the previous answer and correct your units accordingly)"
   ]
  },
  {
   "cell_type": "code",
   "execution_count": 1891,
   "metadata": {
    "collapsed": false,
    "jupyter": {
     "outputs_hidden": false
    }
   },
   "outputs": [
    {
     "name": "stdout",
     "output_type": "stream",
     "text": [
      "total memory: 34.2 MB\n"
     ]
    }
   ],
   "source": [
    "# ANSWER\n",
    "\n",
    "original_memory = df_temps.memory_usage(deep=True).sum() / (1024**2)\n",
    "print(\"total memory: \" + str(original_memory.round(2)) + \" MB\")"
   ]
  },
  {
   "cell_type": "markdown",
   "metadata": {},
   "source": [
    "---\n",
    "**5)**\t[P] You have a rather annoying extra column that was read in in the last column position. (Look closely at the output of `info()` above!) You should always confirm that it's garbage before deleting it. Write the single line of code that reports the count of valid values in the last column (HINT: `count()`)\n",
    "\n",
    " "
   ]
  },
  {
   "cell_type": "code",
   "execution_count": 1892,
   "metadata": {
    "collapsed": false,
    "jupyter": {
     "outputs_hidden": false
    }
   },
   "outputs": [
    {
     "data": {
      "text/plain": [
       "0"
      ]
     },
     "execution_count": 1892,
     "metadata": {},
     "output_type": "execute_result"
    }
   ],
   "source": [
    "# ANSWER\n",
    "\n",
    "df_temps.iloc[:, -1].count()"
   ]
  },
  {
   "cell_type": "markdown",
   "metadata": {},
   "source": [
    "---\n",
    "**6)**\tDrop that last column from `df_temps`."
   ]
  },
  {
   "cell_type": "code",
   "execution_count": 1893,
   "metadata": {
    "collapsed": false,
    "jupyter": {
     "outputs_hidden": false
    }
   },
   "outputs": [],
   "source": [
    "# ANSWER\n",
    "\n",
    "df_temps = df_temps.drop(columns=df_temps.columns[-1])"
   ]
  },
  {
   "cell_type": "markdown",
   "metadata": {},
   "source": [
    "---\n",
    "**7)**\t[M] Look over the data type column in the `info()` output. ALWAYS pay attention to the types of each variable. In particular, pay attention to the variables that are read in as `object` type. This implies that pandas did not have enough confidence to convert the type itself, and you need to do it. Are there any `object` types? If so what? What format are the data in that column(s)?"
   ]
  },
  {
   "cell_type": "code",
   "execution_count": 1894,
   "metadata": {},
   "outputs": [
    {
     "name": "stdout",
     "output_type": "stream",
     "text": [
      "<class 'pandas.core.frame.DataFrame'>\n",
      "RangeIndex: 199201 entries, 0 to 199200\n",
      "Data columns (total 13 columns):\n",
      " #   Column                         Non-Null Count   Dtype  \n",
      "---  ------                         --------------   -----  \n",
      " 0   Date/Time (GMT)                199201 non-null  object \n",
      " 1   Number of Observations (n/a)   199201 non-null  int64  \n",
      " 2   Average Temp (F)               198189 non-null  float64\n",
      " 3   Max Temp (F)                   198189 non-null  float64\n",
      " 4   Min Temp (F)                   198189 non-null  float64\n",
      " 5   Average Dewpoint Temp (F)      198067 non-null  float64\n",
      " 6   1 Hour Precip (in)             32345 non-null   float64\n",
      " 7   Max Wind Gust (mph)            26839 non-null   float64\n",
      " 8   Average Relative Humidity (%)  193828 non-null  float64\n",
      " 9   Average Wind Speed (mph)       198638 non-null  float64\n",
      " 10  Average Station Pressure (mb)  198852 non-null  float64\n",
      " 11  Average Wind Direction (deg)   165309 non-null  float64\n",
      " 12  Max Wind Speed (mph)           198638 non-null  float64\n",
      "dtypes: float64(11), int64(1), object(1)\n",
      "memory usage: 19.8+ MB\n"
     ]
    }
   ],
   "source": [
    "# ANSWER\n",
    "\n",
    "df_temps.info()"
   ]
  },
  {
   "cell_type": "code",
   "execution_count": 1895,
   "metadata": {},
   "outputs": [
    {
     "data": {
      "text/plain": [
       "0    2000-01-01 00:00:00\n",
       "1    2000-01-01 01:00:00\n",
       "2    2000-01-01 02:00:00\n",
       "3    2000-01-01 03:00:00\n",
       "4    2000-01-01 04:00:00\n",
       "Name: Date/Time (GMT), dtype: object"
      ]
     },
     "execution_count": 1895,
     "metadata": {},
     "output_type": "execute_result"
    }
   ],
   "source": [
    "df_temps[\"Date/Time (GMT)\"].head()"
   ]
  },
  {
   "cell_type": "markdown",
   "metadata": {},
   "source": [
    "**ANSWER**\n",
    "\n",
    "I see that the Date/Time (GMT) column is of the type object. Its format is date and time."
   ]
  },
  {
   "cell_type": "markdown",
   "metadata": {},
   "source": [
    "---\n",
    "**8)**\t[P] How many NaN values are in each variable? (NOTE: Leave the NaN fields alone! The fact that they are missing is IMPORTANT! And, leave the date/time variable in the first column alone. Dates are very common in data, and it is important that you represent dates as actual date types. We'll deal with that shortly.)"
   ]
  },
  {
   "cell_type": "code",
   "execution_count": 1896,
   "metadata": {},
   "outputs": [
    {
     "data": {
      "text/plain": [
       "Date/Time (GMT)                       0\n",
       "Number of Observations (n/a)          0\n",
       "Average Temp (F)                   1012\n",
       "Max Temp (F)                       1012\n",
       "Min Temp (F)                       1012\n",
       "Average Dewpoint Temp (F)          1134\n",
       "1 Hour Precip (in)               166856\n",
       "Max Wind Gust (mph)              172362\n",
       "Average Relative Humidity (%)      5373\n",
       "Average Wind Speed (mph)            563\n",
       "Average Station Pressure (mb)       349\n",
       "Average Wind Direction (deg)      33892\n",
       "Max Wind Speed (mph)                563\n",
       "dtype: int64"
      ]
     },
     "execution_count": 1896,
     "metadata": {},
     "output_type": "execute_result"
    }
   ],
   "source": [
    "# ANSWER\n",
    "\n",
    "df_temps.isna().sum()"
   ]
  },
  {
   "cell_type": "markdown",
   "metadata": {},
   "source": [
    "---\n",
    "**9)**\t[P] Report the NaN output as a percentage of the total number of values that are missing for each variable"
   ]
  },
  {
   "cell_type": "code",
   "execution_count": 1897,
   "metadata": {},
   "outputs": [
    {
     "data": {
      "text/plain": [
       "Date/Time (GMT)                    0.0%\n",
       "Number of Observations (n/a)       0.0%\n",
       "Average Temp (F)                  0.26%\n",
       "Max Temp (F)                      0.26%\n",
       "Min Temp (F)                      0.26%\n",
       "Average Dewpoint Temp (F)          0.3%\n",
       "1 Hour Precip (in)               43.44%\n",
       "Max Wind Gust (mph)              44.87%\n",
       "Average Relative Humidity (%)      1.4%\n",
       "Average Wind Speed (mph)          0.15%\n",
       "Average Station Pressure (mb)     0.09%\n",
       "Average Wind Direction (deg)      8.82%\n",
       "Max Wind Speed (mph)              0.15%\n",
       "dtype: object"
      ]
     },
     "execution_count": 1897,
     "metadata": {},
     "output_type": "execute_result"
    }
   ],
   "source": [
    "# ANSWER\n",
    "\n",
    "(df_temps.isna().sum() / df_temps.isna().sum().sum() * 100)\\\n",
    "    .round(2).astype(str) + \"%\""
   ]
  },
  {
   "cell_type": "markdown",
   "metadata": {},
   "source": [
    "---\n",
    "**10)**\t[PM] Report the number of observations that are complete, meaning, they have NO missing variable in the observation. Report this as a raw number and as a percentage of the total number of observations. Then, clearly state why this is NOT a problem to be concerned about for this particular dataset. (HINT: Which variable(s) have most of the missing data and why?)\n"
   ]
  },
  {
   "cell_type": "code",
   "execution_count": 1898,
   "metadata": {
    "collapsed": false,
    "jupyter": {
     "outputs_hidden": false
    }
   },
   "outputs": [
    {
     "data": {
      "text/plain": [
       "2"
      ]
     },
     "execution_count": 1898,
     "metadata": {},
     "output_type": "execute_result"
    }
   ],
   "source": [
    "# ANSWER\n",
    "\n",
    "df_temps.notna().all().sum()"
   ]
  },
  {
   "cell_type": "code",
   "execution_count": 1899,
   "metadata": {
    "collapsed": false,
    "jupyter": {
     "outputs_hidden": false
    }
   },
   "outputs": [
    {
     "name": "stdout",
     "output_type": "stream",
     "text": [
      "15.38%\n"
     ]
    }
   ],
   "source": [
    "print(str((df_temps.notna().all().sum() /\n",
    "           df_temps.shape[1] * 100).round(2)) + \"%\")"
   ]
  },
  {
   "cell_type": "markdown",
   "metadata": {},
   "source": [
    "**ANSWER:**\n",
    "\n",
    "it's to be expected. Most hours over a year do not have recordable wind or precipitation."
   ]
  },
  {
   "cell_type": "markdown",
   "metadata": {},
   "source": [
    "---\n",
    "**11)**\t[P] Look over your data types. By default, most of the time pandas will convert your integer types to a 64-bit integer, and floating point types will use double precision numbers. You can do far better. Read over the `pd.to_numeric()` function. Did you notice the parameter called `downcast`? Go back and read about this parameter. Downcast your types accordingly. Then, look over the output of `info()` and report your latest memory usage in MB.\n",
    "\n",
    "\n",
    "\n"
   ]
  },
  {
   "cell_type": "code",
   "execution_count": 1923,
   "metadata": {
    "collapsed": false,
    "jupyter": {
     "outputs_hidden": false
    }
   },
   "outputs": [
    {
     "name": "stdout",
     "output_type": "stream",
     "text": [
      "<class 'pandas.core.frame.DataFrame'>\n",
      "DatetimeIndex: 191209 entries, 2001-01-01 00:00:00 to 2022-12-31 23:00:00\n",
      "Data columns (total 12 columns):\n",
      " #   Column                         Non-Null Count   Dtype  \n",
      "---  ------                         --------------   -----  \n",
      " 0   Number of Observations (n/a)   191209 non-null  int8   \n",
      " 1   Average Temp (F)               190237 non-null  float32\n",
      " 2   Max Temp (F)                   190237 non-null  float32\n",
      " 3   Min Temp (F)                   190237 non-null  float32\n",
      " 4   Average Dewpoint Temp (F)      190116 non-null  float32\n",
      " 5   1 Hour Precip (in)             29587 non-null   float32\n",
      " 6   Max Wind Gust (mph)            24470 non-null   float32\n",
      " 7   Average Relative Humidity (%)  185877 non-null  float32\n",
      " 8   Average Wind Speed (mph)       190646 non-null  float32\n",
      " 9   Average Station Pressure (mb)  190879 non-null  float32\n",
      " 10  Average Wind Direction (deg)   160993 non-null  float32\n",
      " 11  Max Wind Speed (mph)           190646 non-null  float32\n",
      "dtypes: float32(11), int8(1)\n",
      "memory usage: 9.7 MB\n"
     ]
    }
   ],
   "source": [
    "# ANSWER\n",
    "\n",
    "df_temps[\"Number of Observations (n/a)\"] = \\\n",
    "    pd.to_numeric(df_temps[\"Number of Observations (n/a)\"], downcast=\"integer\")\n",
    "df_temps.loc[:, \"Average Temp (F)\" :] =  \\\n",
    "    df_temps.loc[:, \"Average Temp (F)\" :].apply(pd.to_numeric, downcast=\"float\")\n",
    "df_temps.info()"
   ]
  },
  {
   "cell_type": "markdown",
   "metadata": {},
   "source": [
    "---\n",
    "**12)**\t[P] How much did our memory footprint improve? (Show the total memory usage using `deep=True`). Report the total memory usage in MB, and report the percentage improvement."
   ]
  },
  {
   "cell_type": "code",
   "execution_count": 1901,
   "metadata": {
    "collapsed": false,
    "jupyter": {
     "outputs_hidden": false
    }
   },
   "outputs": [
    {
     "name": "stdout",
     "output_type": "stream",
     "text": [
      "new memory: 22.99 MB\n",
      "percentage improved: 32.78%\n"
     ]
    }
   ],
   "source": [
    "# ANSWER\n",
    "\n",
    "new_memory = df_temps.memory_usage(deep=True).sum() / (1024**2)\n",
    "print(\"new memory: \" + str(new_memory.round(2)) + \" MB\")\n",
    "print(\"percentage improved: \" +\n",
    "      str(((original_memory - new_memory) / original_memory * 100).round(2)) + \"%\")"
   ]
  },
  {
   "cell_type": "markdown",
   "metadata": {},
   "source": [
    "---\n",
    "# Data Transformations with Dates\n",
    "\n",
    "It is very common to deal with dates in data. Unfortunately, few organizations around the world have agreed to one format for universally representing dates in data. Adding to the complexity are time zones that you must deal with. We'll discuss that later. Let's suppose we wanted to represent February 6, 2023, depending on your location in the world, the date might be stored in the data as:\n",
    "\n",
    "* 02/06/2023\n",
    "* 06/02/23\n",
    "* 06/02/2023\n",
    "* 06.02.2023\n",
    "* 2023-Feb-06\n",
    "* February 06, 2023\n",
    "* 06-Feb-2023\n",
    "* 20230206\n",
    "\n",
    "And, there are others! Insanity! Can't we all just get along??? (Apparently not, especially when it comes to dates and times, and currencies, and food, and etc.) The fact is that these are all acceptable formats for dates. Sometimes pandas can do a pretty good just detecting date fields. However, as we noticed in this case, not always. It's up to YOU to make sure you convert your data to the most appropriate type.\n",
    "\n",
    "Generally speaking, when your data consists of a series of observations recorded over time, we refer to these types of data as **time series** data. And, usually every observation will have a time or a date variable that identifies when the observation was recorded.\n",
    "\n",
    "[Time series / date functionality](https://pandas.pydata.org/pandas-docs/stable/user_guide/timeseries.html) has just about everything you need to deal with dates with time series data. It has far more than you'll need   . As with most of the API with core packages like pandas, there is a LOT to absorb, and at best, you'll just become familiar with how to find the answers you are after in their documentation!\n",
    "\n",
    "This portion of the lab will help you learn how to confidently work with dates and times in data.\n",
    "\n"
   ]
  },
  {
   "cell_type": "markdown",
   "metadata": {},
   "source": [
    "---\n",
    "**13)**\t[M] There are four primary classes in pandas for working with dates and times? Consider the Scalar Class for each, and state what concept each is representing."
   ]
  },
  {
   "cell_type": "markdown",
   "metadata": {},
   "source": [
    "**ANSWER:**\n",
    "\n",
    "From https://pandas.pydata.org/pandas-docs/stable/user_guide/timeseries.html:\n",
    "\n",
    "Timestamp: A specific date and time with timezone support. Similar to datetime.datetime from the standard library.\n",
    "\n",
    "Timedelta: An absolute time duration. Similar to datetime.timedelta from the standard library.\n",
    "\n",
    "Period: A span of time defined by a point in time and its associated frequency.\n",
    "\n",
    "DateOffset: A relative time duration that respects calendar arithmetic. Similar to dateutil.relativedelta.relativedelta from the dateutil package."
   ]
  },
  {
   "cell_type": "markdown",
   "metadata": {},
   "source": [
    "---\n",
    "**14)**\t[M] For each above, state the primary creation method used to create each type of data"
   ]
  },
  {
   "cell_type": "markdown",
   "metadata": {},
   "source": [
    "**ANSWER:**\n",
    "\n",
    "Timestamp: to_datetime or date_range\n",
    "\n",
    "Timedelta: to_timedelta or timedelta_range\n",
    "\n",
    "Period: Period or period_range\n",
    "\n",
    "DateOffset: DateOffset"
   ]
  },
  {
   "cell_type": "markdown",
   "metadata": {},
   "source": [
    "---\n",
    "**15)**\t[P] Create a Timestamp object from the string \"07/04/19\", which is a date representing July 4, 2019. Store the object as `d1` and show it."
   ]
  },
  {
   "cell_type": "code",
   "execution_count": 1902,
   "metadata": {
    "collapsed": false,
    "jupyter": {
     "outputs_hidden": false
    }
   },
   "outputs": [
    {
     "data": {
      "text/plain": [
       "Timestamp('2019-07-04 00:00:00')"
      ]
     },
     "execution_count": 1902,
     "metadata": {},
     "output_type": "execute_result"
    }
   ],
   "source": [
    "# ANSWER\n",
    "\n",
    "d1 = pd.to_datetime(\"07/04/19\")\n",
    "d1"
   ]
  },
  {
   "cell_type": "markdown",
   "metadata": {},
   "source": [
    "---\n",
    "**16)**\t[P] Using `d1` and string formatting codes, print the string from `d1`:\n",
    "\n",
    "\"Today's date is Thursday, July 4, 2019\". "
   ]
  },
  {
   "cell_type": "code",
   "execution_count": 1903,
   "metadata": {
    "collapsed": false,
    "jupyter": {
     "outputs_hidden": false
    }
   },
   "outputs": [
    {
     "name": "stdout",
     "output_type": "stream",
     "text": [
      "Today's date is Thursday, July 4, 2019.\n"
     ]
    }
   ],
   "source": [
    "# ANSWER\n",
    "\n",
    "# ChatGPT:\n",
    "print(\"Today's date is {0:%A}, {0:%B} {0:%#d}, {0:%Y}.\".format(d1))"
   ]
  },
  {
   "cell_type": "markdown",
   "metadata": {},
   "source": [
    "---\n",
    "**17)**\t[P] Create another Timestamp object representing Sept 7, 2019 at 3pm, called `d2`. Report it"
   ]
  },
  {
   "cell_type": "code",
   "execution_count": 1904,
   "metadata": {
    "collapsed": false,
    "jupyter": {
     "outputs_hidden": false
    }
   },
   "outputs": [
    {
     "data": {
      "text/plain": [
       "Timestamp('2019-09-07 15:00:00')"
      ]
     },
     "execution_count": 1904,
     "metadata": {},
     "output_type": "execute_result"
    }
   ],
   "source": [
    "# ANSWER\n",
    "\n",
    "d2 = pd.to_datetime(\"Sept 7, 2019 at 3pm\")\n",
    "d2"
   ]
  },
  {
   "cell_type": "markdown",
   "metadata": {},
   "source": [
    "---\n",
    "**18)**\t[P] Subtract `d1` from the value of `d2` (i.e `d2 - d1`) and report the difference as the number of days and seconds between these two. Also report the difference as total seconds.  (NOTE: The difference should be 65 days, 54000 seconds. Or 5670000 total seconds.)"
   ]
  },
  {
   "cell_type": "code",
   "execution_count": 1905,
   "metadata": {
    "collapsed": false,
    "jupyter": {
     "outputs_hidden": false
    }
   },
   "outputs": [
    {
     "name": "stdout",
     "output_type": "stream",
     "text": [
      "difference in days and seconds: 65 days and 54000 seconds\n",
      "difference in seconds: 5670000\n"
     ]
    }
   ],
   "source": [
    "# ANSWER\n",
    "import math\n",
    "\n",
    "days = (d2 - d1).total_seconds() / (24*3600)\n",
    "seconds = (days - math.floor(days)) * (24*3600)\n",
    "days = math.floor(days)\n",
    "print(\"difference in days and seconds: \" +\n",
    "      str(days) + \" days and \" + str(int(seconds)) + \" seconds\")\n",
    "print(\"difference in seconds: \" + str(int((d2-d1).total_seconds())))"
   ]
  },
  {
   "cell_type": "markdown",
   "metadata": {},
   "source": [
    "---\n",
    "**19)**\t[P] Create a new Timestamp object from the string \"2019-07-01 08:30pm\", but, localize the time stamp to represent the time in the US Eastern Time Zone. Store the result as `d3` and output it."
   ]
  },
  {
   "cell_type": "code",
   "execution_count": 1906,
   "metadata": {
    "collapsed": false,
    "jupyter": {
     "outputs_hidden": false
    }
   },
   "outputs": [
    {
     "data": {
      "text/plain": [
       "Timestamp('2019-07-01 20:30:00-0400', tz='US/Eastern')"
      ]
     },
     "execution_count": 1906,
     "metadata": {},
     "output_type": "execute_result"
    }
   ],
   "source": [
    "# ANSWER\n",
    "\n",
    "# ChatGPT:\n",
    "d3 = pd.to_datetime(\"2019-07-01 08:30pm\").tz_localize(\"US/Eastern\")\n",
    "d3"
   ]
  },
  {
   "cell_type": "markdown",
   "metadata": {},
   "source": [
    "---\n",
    "**20)**\t[P] Show time represented by `d3`, but converted to the US / Pacific Time Zone. The time reported should be three hours earlier than EST shown in the previous question."
   ]
  },
  {
   "cell_type": "code",
   "execution_count": 1907,
   "metadata": {
    "collapsed": false,
    "jupyter": {
     "outputs_hidden": false
    }
   },
   "outputs": [
    {
     "data": {
      "text/plain": [
       "Timestamp('2019-07-01 17:30:00-0700', tz='US/Pacific')"
      ]
     },
     "execution_count": 1907,
     "metadata": {},
     "output_type": "execute_result"
    }
   ],
   "source": [
    "# ANSWER\n",
    "\n",
    "d3.tz_convert(\"US/Pacific\")"
   ]
  },
  {
   "cell_type": "markdown",
   "metadata": {},
   "source": [
    "---\n",
    "**21)**\t[P] Create a Timestamp object representing right now, stored as `ts_now`. Report the result.\n"
   ]
  },
  {
   "cell_type": "code",
   "execution_count": 1908,
   "metadata": {
    "collapsed": false,
    "jupyter": {
     "outputs_hidden": false
    }
   },
   "outputs": [
    {
     "data": {
      "text/plain": [
       "Timestamp('2023-02-12 22:56:12.760152')"
      ]
     },
     "execution_count": 1908,
     "metadata": {},
     "output_type": "execute_result"
    }
   ],
   "source": [
    "# ANSWER\n",
    "\n",
    "# ChatGPT:\n",
    "ts_now = pd.Timestamp.now()\n",
    "ts_now"
   ]
  },
  {
   "cell_type": "markdown",
   "metadata": {},
   "source": [
    "---\n",
    "**22)**\t[P] Create a Timedelta object representing 1 hour, stored as `td_hour`. Report the result."
   ]
  },
  {
   "cell_type": "code",
   "execution_count": 1909,
   "metadata": {
    "collapsed": false,
    "jupyter": {
     "outputs_hidden": false
    }
   },
   "outputs": [
    {
     "data": {
      "text/plain": [
       "Timedelta('0 days 01:00:00')"
      ]
     },
     "execution_count": 1909,
     "metadata": {},
     "output_type": "execute_result"
    }
   ],
   "source": [
    "# ANSWER\n",
    "\n",
    "# ChatGPT:\n",
    "td_hour = pd.Timedelta(hours=1)\n",
    "td_hour"
   ]
  },
  {
   "cell_type": "markdown",
   "metadata": {},
   "source": [
    "---\n",
    "**23)**\t[P] Demonstrate how you can do basic mathematical operations by adding 6 hours to `ts_now` using `td_hour` and basic math operations. (i.e. No loops or further calculations necessary!)"
   ]
  },
  {
   "cell_type": "code",
   "execution_count": 1910,
   "metadata": {
    "collapsed": false,
    "jupyter": {
     "outputs_hidden": false
    }
   },
   "outputs": [
    {
     "data": {
      "text/plain": [
       "Timestamp('2023-02-13 04:56:12.760152')"
      ]
     },
     "execution_count": 1910,
     "metadata": {},
     "output_type": "execute_result"
    }
   ],
   "source": [
    "# ANSWER\n",
    "\n",
    "ts_now + 6 * td_hour"
   ]
  },
  {
   "cell_type": "markdown",
   "metadata": {},
   "source": [
    "---\n",
    "**24)**\t[P] Create a DatetimeIndex object that represents every hour during the month of January, 2020. The first index should be midnight, January 1, 2020, and the last index should be January 31, 2020 at 11pm. Store the object as `dr`. (HINT – use the `pd.date_range()` method)"
   ]
  },
  {
   "cell_type": "code",
   "execution_count": 1911,
   "metadata": {
    "collapsed": false,
    "jupyter": {
     "outputs_hidden": false
    }
   },
   "outputs": [
    {
     "data": {
      "text/plain": [
       "DatetimeIndex(['2020-01-01 00:00:00', '2020-01-01 01:00:00',\n",
       "               '2020-01-01 02:00:00', '2020-01-01 03:00:00',\n",
       "               '2020-01-01 04:00:00', '2020-01-01 05:00:00',\n",
       "               '2020-01-01 06:00:00', '2020-01-01 07:00:00',\n",
       "               '2020-01-01 08:00:00', '2020-01-01 09:00:00',\n",
       "               ...\n",
       "               '2020-01-31 14:00:00', '2020-01-31 15:00:00',\n",
       "               '2020-01-31 16:00:00', '2020-01-31 17:00:00',\n",
       "               '2020-01-31 18:00:00', '2020-01-31 19:00:00',\n",
       "               '2020-01-31 20:00:00', '2020-01-31 21:00:00',\n",
       "               '2020-01-31 22:00:00', '2020-01-31 23:00:00'],\n",
       "              dtype='datetime64[ns]', length=744, freq='H')"
      ]
     },
     "execution_count": 1911,
     "metadata": {},
     "output_type": "execute_result"
    }
   ],
   "source": [
    "# ANSWER\n",
    "\n",
    "dr = pd.date_range(start=\"January 1, 2020 at 12am\",\n",
    "                   end=\"January 31, 2020 at 11pm\", freq=\"H\")\n",
    "dr"
   ]
  },
  {
   "cell_type": "markdown",
   "metadata": {},
   "source": [
    "---\n",
    "OK, so that was a little practice with understanding how to work a bit with dates and times. They are objects, with lots of methods to help you access those timestamps in different ways.\n",
    "\n",
    "Back to our weather data. Usually, the index to a dataframe represents the data you will use most often to access and select your data. In the case of a time series dataset, the index is usually the time. In other words, every observation should be indexed by a Timestamp object! You'll make that happen next…"
   ]
  },
  {
   "cell_type": "markdown",
   "metadata": {},
   "source": [
    "---\n",
    "**25)**\t[P] The first variable in our data is currently an object. But, notice the name and its units? It's a date/time in the GMT time zone! Convert the first column of data into an actual time stamp.\n",
    "\n",
    "NOTE: You can NOT simply generate this column using your own date range object! You must generate it directly from the actual time/date stamp in the data! Why? **This is very important. Do NOT ever be fooled into thinking any real-world dataset you are dealing with is 100% complete.** There are **missing observations** in these data, and your data will be massively flawed if you neglect this! If you simply try to use a date range between 1/1 – 12/31, with every hour, you are making an incorrect assumption that every observation is present.\n",
    "\n",
    "(HINT: Go back to your reference table. You are creating an array of timestamps. Which function? Either `to_datetime` or `date_range`. We already told you that `date_range` is wrong above.)\n"
   ]
  },
  {
   "cell_type": "code",
   "execution_count": 1912,
   "metadata": {
    "collapsed": false,
    "jupyter": {
     "outputs_hidden": false
    }
   },
   "outputs": [],
   "source": [
    "# ANSWER\n",
    "\n",
    "df_temps[\"Date/Time (GMT)\"] = \\\n",
    "    pd.to_datetime(df_temps[\"Date/Time (GMT)\"])"
   ]
  },
  {
   "cell_type": "markdown",
   "metadata": {},
   "source": [
    "---\n",
    "**26)**\t[P] Confirm that your first column data type is now a timestamp by showing the output of `df_temps.info()`. (It should show that it is datetime64, to be exact) .  Then, show the values of the first column of the first AND last row only.  Your result should look like:\n",
    "\n",
    "```\n",
    "0        2000-01-01 00:00:00\n",
    "199200   2022-12-31 23:00:00\n",
    "```"
   ]
  },
  {
   "cell_type": "code",
   "execution_count": 1913,
   "metadata": {
    "collapsed": false,
    "jupyter": {
     "outputs_hidden": false
    }
   },
   "outputs": [
    {
     "name": "stdout",
     "output_type": "stream",
     "text": [
      "<class 'pandas.core.frame.DataFrame'>\n",
      "RangeIndex: 199201 entries, 0 to 199200\n",
      "Data columns (total 13 columns):\n",
      " #   Column                         Non-Null Count   Dtype         \n",
      "---  ------                         --------------   -----         \n",
      " 0   Date/Time (GMT)                199201 non-null  datetime64[ns]\n",
      " 1   Number of Observations (n/a)   199201 non-null  int8          \n",
      " 2   Average Temp (F)               198189 non-null  float32       \n",
      " 3   Max Temp (F)                   198189 non-null  float32       \n",
      " 4   Min Temp (F)                   198189 non-null  float32       \n",
      " 5   Average Dewpoint Temp (F)      198067 non-null  float32       \n",
      " 6   1 Hour Precip (in)             32345 non-null   float32       \n",
      " 7   Max Wind Gust (mph)            26839 non-null   float32       \n",
      " 8   Average Relative Humidity (%)  193828 non-null  float32       \n",
      " 9   Average Wind Speed (mph)       198638 non-null  float32       \n",
      " 10  Average Station Pressure (mb)  198852 non-null  float32       \n",
      " 11  Average Wind Direction (deg)   165309 non-null  float32       \n",
      " 12  Max Wind Speed (mph)           198638 non-null  float32       \n",
      "dtypes: datetime64[ns](1), float32(11), int8(1)\n",
      "memory usage: 10.1 MB\n"
     ]
    }
   ],
   "source": [
    "# ANSWER\n",
    "\n",
    "df_temps.info()"
   ]
  },
  {
   "cell_type": "code",
   "execution_count": 1914,
   "metadata": {
    "collapsed": false,
    "jupyter": {
     "outputs_hidden": false
    }
   },
   "outputs": [
    {
     "name": "stdout",
     "output_type": "stream",
     "text": [
      "2000-01-01 00:00:00\n",
      "2022-12-31 23:00:00\n"
     ]
    }
   ],
   "source": [
    "print(df_temps[\"Date/Time (GMT)\"].iat[0])\n",
    "print(df_temps[\"Date/Time (GMT)\"].iat[-1])"
   ]
  },
  {
   "cell_type": "markdown",
   "metadata": {},
   "source": [
    "---\n",
    "**27)**\tFinally, let's move that first column to be the new index for your dataframe. Use the `set_index` method of `df_temps` to be the first column of data, then use the `drop` method to eliminate the first column. It is now your index, and thus there is no need to keep this information twice."
   ]
  },
  {
   "cell_type": "code",
   "execution_count": 1915,
   "metadata": {
    "collapsed": false,
    "jupyter": {
     "outputs_hidden": false
    }
   },
   "outputs": [],
   "source": [
    "# ANSWER\n",
    "\n",
    "df_temps = df_temps.set_index(keys=\"Date/Time (GMT)\", drop=True)"
   ]
  },
  {
   "cell_type": "markdown",
   "metadata": {},
   "source": [
    "---\n",
    "\n",
    "**28)**\t[P] Give one final report on the total memory usage, and also show the % memory reduction made compared to when you first loaded the data.\n",
    "\n",
    "Again, please take this seriously. This is a substantial amount of memory saved! Why? Because you took the time to properly process every column to have it represent its most accurate type, using the smallest type necessary. HUGE savings!"
   ]
  },
  {
   "cell_type": "code",
   "execution_count": 1916,
   "metadata": {
    "collapsed": false,
    "jupyter": {
     "outputs_hidden": false
    }
   },
   "outputs": [
    {
     "name": "stdout",
     "output_type": "stream",
     "text": [
      "total memory usage: 10.07 MB\n",
      "memory reduction: 70.56%\n"
     ]
    }
   ],
   "source": [
    "# ANSWER\n",
    "\n",
    "new_memory = df_temps.memory_usage(deep=True).sum() / (1024**2)\n",
    "print(\"total memory usage: \" + str(new_memory.round(2)) + \" MB\")\n",
    "print(\"memory reduction: \" +\n",
    "      str(((original_memory - new_memory) / original_memory * 100).round(2)) + \"%\")"
   ]
  },
  {
   "cell_type": "markdown",
   "metadata": {},
   "source": [
    "---\n",
    "**29)**\t [P] This dataset has missing observations. But, how many? First, calculate how many observations SHOULD be there. Use the difference between the first and last index value to compute this.\n",
    "\n",
    "HINT: You should have well over 2000 missing hourly observations."
   ]
  },
  {
   "cell_type": "code",
   "execution_count": 1917,
   "metadata": {
    "collapsed": false,
    "jupyter": {
     "outputs_hidden": false
    }
   },
   "outputs": [
    {
     "data": {
      "text/plain": [
       "2423.0"
      ]
     },
     "execution_count": 1917,
     "metadata": {},
     "output_type": "execute_result"
    }
   ],
   "source": [
    "# ANSWER\n",
    "\n",
    "expected = (df_temps.index[-1] - df_temps.index[0])\\\n",
    "               .total_seconds() / 3600 + 1\n",
    "expected - df_temps.shape[0]"
   ]
  },
  {
   "cell_type": "markdown",
   "metadata": {},
   "source": [
    "---\n",
    "**30)**\t[P] There are quite a lot! It's time to investigate. Create a data frame called df_missing that has an index of the time stamp of every missing date, with a simple variable called \"missing\" that has a value of 1 for every entry. (i.e. it should only contain the missing dates.) Report the number of rows in df_missing. It should match the number you computed previously."
   ]
  },
  {
   "cell_type": "code",
   "execution_count": 1918,
   "metadata": {
    "collapsed": false,
    "jupyter": {
     "outputs_hidden": false
    }
   },
   "outputs": [
    {
     "data": {
      "text/html": [
       "<div>\n",
       "<style scoped>\n",
       "    .dataframe tbody tr th:only-of-type {\n",
       "        vertical-align: middle;\n",
       "    }\n",
       "\n",
       "    .dataframe tbody tr th {\n",
       "        vertical-align: top;\n",
       "    }\n",
       "\n",
       "    .dataframe thead th {\n",
       "        text-align: right;\n",
       "    }\n",
       "</style>\n",
       "<table border=\"1\" class=\"dataframe\">\n",
       "  <thead>\n",
       "    <tr style=\"text-align: right;\">\n",
       "      <th></th>\n",
       "      <th>variable</th>\n",
       "    </tr>\n",
       "  </thead>\n",
       "  <tbody>\n",
       "    <tr>\n",
       "      <th>2000-01-03 18:00:00</th>\n",
       "      <td>1</td>\n",
       "    </tr>\n",
       "    <tr>\n",
       "      <th>2000-01-05 17:00:00</th>\n",
       "      <td>1</td>\n",
       "    </tr>\n",
       "    <tr>\n",
       "      <th>2000-01-06 20:00:00</th>\n",
       "      <td>1</td>\n",
       "    </tr>\n",
       "    <tr>\n",
       "      <th>2000-01-07 14:00:00</th>\n",
       "      <td>1</td>\n",
       "    </tr>\n",
       "    <tr>\n",
       "      <th>2000-01-11 20:00:00</th>\n",
       "      <td>1</td>\n",
       "    </tr>\n",
       "    <tr>\n",
       "      <th>2000-01-11 21:00:00</th>\n",
       "      <td>1</td>\n",
       "    </tr>\n",
       "    <tr>\n",
       "      <th>2000-01-14 18:00:00</th>\n",
       "      <td>1</td>\n",
       "    </tr>\n",
       "    <tr>\n",
       "      <th>2000-01-19 18:00:00</th>\n",
       "      <td>1</td>\n",
       "    </tr>\n",
       "    <tr>\n",
       "      <th>2000-01-26 07:00:00</th>\n",
       "      <td>1</td>\n",
       "    </tr>\n",
       "    <tr>\n",
       "      <th>2000-01-26 08:00:00</th>\n",
       "      <td>1</td>\n",
       "    </tr>\n",
       "  </tbody>\n",
       "</table>\n",
       "</div>"
      ],
      "text/plain": [
       "                    variable\n",
       "2000-01-03 18:00:00        1\n",
       "2000-01-05 17:00:00        1\n",
       "2000-01-06 20:00:00        1\n",
       "2000-01-07 14:00:00        1\n",
       "2000-01-11 20:00:00        1\n",
       "2000-01-11 21:00:00        1\n",
       "2000-01-14 18:00:00        1\n",
       "2000-01-19 18:00:00        1\n",
       "2000-01-26 07:00:00        1\n",
       "2000-01-26 08:00:00        1"
      ]
     },
     "execution_count": 1918,
     "metadata": {},
     "output_type": "execute_result"
    }
   ],
   "source": [
    "# ANSWER\n",
    "\n",
    "df_missing = pd.DataFrame(columns=[\"variable\"])\n",
    "\n",
    "for i in range(len(df_temps.index)):\n",
    "    if i != 0 and (df_temps.index[i] - td_hour) != df_temps.index[i-1]:\n",
    "        for j in pd.date_range(df_temps.index[i-1]+td_hour,\n",
    "                               df_temps.index[i]-td_hour, freq=\"H\"):\n",
    "            df_missing.loc[j , \"variable\"] = 1\n",
    "\n",
    "df_missing.head(10)"
   ]
  },
  {
   "cell_type": "markdown",
   "metadata": {},
   "source": [
    "---\n",
    "**31)**\tLet's get a sense of which years seem to be missing the most data. How? Well, the easiest approach is probably to use the `resample()` method of data frames. Check out [this section on resampling](https://pandas.pydata.org/pandas-docs/stable/user_guide/timeseries.html#resampling). This method works phenomenally well for grouping and aggregating your data when you have a datetime index type.\n",
    "\n",
    "We're going to resample our data by year, and perform a count aggregation all in one line:\n",
    "\n",
    "Enter the following:\n",
    "`df_missing_by_year = df_missing.resample('Y').count()`\n",
    "\n",
    "There are many, many ways you can resample your data. You need to jump over to the options for dateoffset objects. Check out [DateOffset information](https://pandas.pydata.org/pandas-docs/stable/user_guide/timeseries.html#dateoffset-objects) you'll need.\n",
    "\n",
    "Show the result of `df_missing_by_year`\n",
    "\n",
    "HINT - your first four rows should something like the following...\n",
    "```\n",
    "                           missing\n",
    "2000-12-31 00:00:00+00:00      792\n",
    "2001-12-31 00:00:00+00:00       54\n",
    "2002-12-31 00:00:00+00:00       30\n",
    "2003-12-31 00:00:00+00:00       39\n",
    "```\n"
   ]
  },
  {
   "cell_type": "code",
   "execution_count": 1919,
   "metadata": {
    "collapsed": false,
    "jupyter": {
     "outputs_hidden": false
    }
   },
   "outputs": [
    {
     "data": {
      "text/html": [
       "<div>\n",
       "<style scoped>\n",
       "    .dataframe tbody tr th:only-of-type {\n",
       "        vertical-align: middle;\n",
       "    }\n",
       "\n",
       "    .dataframe tbody tr th {\n",
       "        vertical-align: top;\n",
       "    }\n",
       "\n",
       "    .dataframe thead th {\n",
       "        text-align: right;\n",
       "    }\n",
       "</style>\n",
       "<table border=\"1\" class=\"dataframe\">\n",
       "  <thead>\n",
       "    <tr style=\"text-align: right;\">\n",
       "      <th></th>\n",
       "      <th>variable</th>\n",
       "    </tr>\n",
       "  </thead>\n",
       "  <tbody>\n",
       "    <tr>\n",
       "      <th>2000-12-31</th>\n",
       "      <td>792</td>\n",
       "    </tr>\n",
       "    <tr>\n",
       "      <th>2001-12-31</th>\n",
       "      <td>54</td>\n",
       "    </tr>\n",
       "    <tr>\n",
       "      <th>2002-12-31</th>\n",
       "      <td>30</td>\n",
       "    </tr>\n",
       "    <tr>\n",
       "      <th>2003-12-31</th>\n",
       "      <td>39</td>\n",
       "    </tr>\n",
       "    <tr>\n",
       "      <th>2004-12-31</th>\n",
       "      <td>72</td>\n",
       "    </tr>\n",
       "    <tr>\n",
       "      <th>2005-12-31</th>\n",
       "      <td>119</td>\n",
       "    </tr>\n",
       "    <tr>\n",
       "      <th>2006-12-31</th>\n",
       "      <td>32</td>\n",
       "    </tr>\n",
       "    <tr>\n",
       "      <th>2007-12-31</th>\n",
       "      <td>64</td>\n",
       "    </tr>\n",
       "    <tr>\n",
       "      <th>2008-12-31</th>\n",
       "      <td>193</td>\n",
       "    </tr>\n",
       "    <tr>\n",
       "      <th>2009-12-31</th>\n",
       "      <td>82</td>\n",
       "    </tr>\n",
       "    <tr>\n",
       "      <th>2010-12-31</th>\n",
       "      <td>40</td>\n",
       "    </tr>\n",
       "    <tr>\n",
       "      <th>2011-12-31</th>\n",
       "      <td>32</td>\n",
       "    </tr>\n",
       "    <tr>\n",
       "      <th>2012-12-31</th>\n",
       "      <td>152</td>\n",
       "    </tr>\n",
       "    <tr>\n",
       "      <th>2013-12-31</th>\n",
       "      <td>45</td>\n",
       "    </tr>\n",
       "    <tr>\n",
       "      <th>2014-12-31</th>\n",
       "      <td>38</td>\n",
       "    </tr>\n",
       "    <tr>\n",
       "      <th>2015-12-31</th>\n",
       "      <td>37</td>\n",
       "    </tr>\n",
       "    <tr>\n",
       "      <th>2016-12-31</th>\n",
       "      <td>27</td>\n",
       "    </tr>\n",
       "    <tr>\n",
       "      <th>2017-12-31</th>\n",
       "      <td>119</td>\n",
       "    </tr>\n",
       "    <tr>\n",
       "      <th>2018-12-31</th>\n",
       "      <td>67</td>\n",
       "    </tr>\n",
       "    <tr>\n",
       "      <th>2019-12-31</th>\n",
       "      <td>34</td>\n",
       "    </tr>\n",
       "    <tr>\n",
       "      <th>2020-12-31</th>\n",
       "      <td>93</td>\n",
       "    </tr>\n",
       "    <tr>\n",
       "      <th>2021-12-31</th>\n",
       "      <td>152</td>\n",
       "    </tr>\n",
       "    <tr>\n",
       "      <th>2022-12-31</th>\n",
       "      <td>110</td>\n",
       "    </tr>\n",
       "  </tbody>\n",
       "</table>\n",
       "</div>"
      ],
      "text/plain": [
       "            variable\n",
       "2000-12-31       792\n",
       "2001-12-31        54\n",
       "2002-12-31        30\n",
       "2003-12-31        39\n",
       "2004-12-31        72\n",
       "2005-12-31       119\n",
       "2006-12-31        32\n",
       "2007-12-31        64\n",
       "2008-12-31       193\n",
       "2009-12-31        82\n",
       "2010-12-31        40\n",
       "2011-12-31        32\n",
       "2012-12-31       152\n",
       "2013-12-31        45\n",
       "2014-12-31        38\n",
       "2015-12-31        37\n",
       "2016-12-31        27\n",
       "2017-12-31       119\n",
       "2018-12-31        67\n",
       "2019-12-31        34\n",
       "2020-12-31        93\n",
       "2021-12-31       152\n",
       "2022-12-31       110"
      ]
     },
     "execution_count": 1919,
     "metadata": {},
     "output_type": "execute_result"
    }
   ],
   "source": [
    "# ANSWER\n",
    "\n",
    "df_missing_by_year = df_missing.resample('Y').count()\n",
    "df_missing_by_year"
   ]
  },
  {
   "cell_type": "markdown",
   "metadata": {},
   "source": [
    "---\n",
    "**32)**\t[P] You can see that pretty much every year has missing data. Not uncommon. However, one year in particular is really bad. Which one? Write the code to eliminate that entire year from `df_temps`."
   ]
  },
  {
   "cell_type": "code",
   "execution_count": 1920,
   "metadata": {
    "collapsed": false,
    "jupyter": {
     "outputs_hidden": false
    }
   },
   "outputs": [
    {
     "data": {
      "text/html": [
       "<div>\n",
       "<style scoped>\n",
       "    .dataframe tbody tr th:only-of-type {\n",
       "        vertical-align: middle;\n",
       "    }\n",
       "\n",
       "    .dataframe tbody tr th {\n",
       "        vertical-align: top;\n",
       "    }\n",
       "\n",
       "    .dataframe thead th {\n",
       "        text-align: right;\n",
       "    }\n",
       "</style>\n",
       "<table border=\"1\" class=\"dataframe\">\n",
       "  <thead>\n",
       "    <tr style=\"text-align: right;\">\n",
       "      <th></th>\n",
       "      <th>Number of Observations (n/a)</th>\n",
       "      <th>Average Temp (F)</th>\n",
       "      <th>Max Temp (F)</th>\n",
       "      <th>Min Temp (F)</th>\n",
       "      <th>Average Dewpoint Temp (F)</th>\n",
       "      <th>1 Hour Precip (in)</th>\n",
       "      <th>Max Wind Gust (mph)</th>\n",
       "      <th>Average Relative Humidity (%)</th>\n",
       "      <th>Average Wind Speed (mph)</th>\n",
       "      <th>Average Station Pressure (mb)</th>\n",
       "      <th>Average Wind Direction (deg)</th>\n",
       "      <th>Max Wind Speed (mph)</th>\n",
       "    </tr>\n",
       "    <tr>\n",
       "      <th>Date/Time (GMT)</th>\n",
       "      <th></th>\n",
       "      <th></th>\n",
       "      <th></th>\n",
       "      <th></th>\n",
       "      <th></th>\n",
       "      <th></th>\n",
       "      <th></th>\n",
       "      <th></th>\n",
       "      <th></th>\n",
       "      <th></th>\n",
       "      <th></th>\n",
       "      <th></th>\n",
       "    </tr>\n",
       "  </thead>\n",
       "  <tbody>\n",
       "    <tr>\n",
       "      <th>2001-01-01 00:00:00</th>\n",
       "      <td>1</td>\n",
       "      <td>21.0</td>\n",
       "      <td>21.0</td>\n",
       "      <td>21.0</td>\n",
       "      <td>6.1</td>\n",
       "      <td>NaN</td>\n",
       "      <td>NaN</td>\n",
       "      <td>51.0</td>\n",
       "      <td>12.7</td>\n",
       "      <td>1019.000000</td>\n",
       "      <td>270.0</td>\n",
       "      <td>12.7</td>\n",
       "    </tr>\n",
       "    <tr>\n",
       "      <th>2001-01-01 01:00:00</th>\n",
       "      <td>1</td>\n",
       "      <td>19.9</td>\n",
       "      <td>19.9</td>\n",
       "      <td>19.9</td>\n",
       "      <td>7.0</td>\n",
       "      <td>NaN</td>\n",
       "      <td>NaN</td>\n",
       "      <td>56.0</td>\n",
       "      <td>10.4</td>\n",
       "      <td>1019.000000</td>\n",
       "      <td>270.0</td>\n",
       "      <td>10.4</td>\n",
       "    </tr>\n",
       "    <tr>\n",
       "      <th>2001-01-01 02:00:00</th>\n",
       "      <td>1</td>\n",
       "      <td>19.0</td>\n",
       "      <td>19.0</td>\n",
       "      <td>19.0</td>\n",
       "      <td>7.0</td>\n",
       "      <td>NaN</td>\n",
       "      <td>NaN</td>\n",
       "      <td>58.0</td>\n",
       "      <td>16.1</td>\n",
       "      <td>1019.000000</td>\n",
       "      <td>270.0</td>\n",
       "      <td>16.1</td>\n",
       "    </tr>\n",
       "    <tr>\n",
       "      <th>2001-01-01 03:00:00</th>\n",
       "      <td>1</td>\n",
       "      <td>19.0</td>\n",
       "      <td>19.0</td>\n",
       "      <td>19.0</td>\n",
       "      <td>7.0</td>\n",
       "      <td>NaN</td>\n",
       "      <td>NaN</td>\n",
       "      <td>58.0</td>\n",
       "      <td>15.0</td>\n",
       "      <td>1018.599976</td>\n",
       "      <td>260.0</td>\n",
       "      <td>15.0</td>\n",
       "    </tr>\n",
       "    <tr>\n",
       "      <th>2001-01-01 04:00:00</th>\n",
       "      <td>1</td>\n",
       "      <td>19.0</td>\n",
       "      <td>19.0</td>\n",
       "      <td>19.0</td>\n",
       "      <td>6.1</td>\n",
       "      <td>NaN</td>\n",
       "      <td>NaN</td>\n",
       "      <td>56.0</td>\n",
       "      <td>16.1</td>\n",
       "      <td>1018.599976</td>\n",
       "      <td>280.0</td>\n",
       "      <td>16.1</td>\n",
       "    </tr>\n",
       "    <tr>\n",
       "      <th>2001-01-01 05:00:00</th>\n",
       "      <td>1</td>\n",
       "      <td>25.0</td>\n",
       "      <td>25.0</td>\n",
       "      <td>25.0</td>\n",
       "      <td>14.0</td>\n",
       "      <td>NaN</td>\n",
       "      <td>NaN</td>\n",
       "      <td>62.0</td>\n",
       "      <td>9.2</td>\n",
       "      <td>1017.900024</td>\n",
       "      <td>280.0</td>\n",
       "      <td>9.2</td>\n",
       "    </tr>\n",
       "    <tr>\n",
       "      <th>2001-01-01 06:00:00</th>\n",
       "      <td>1</td>\n",
       "      <td>23.0</td>\n",
       "      <td>23.0</td>\n",
       "      <td>23.0</td>\n",
       "      <td>12.9</td>\n",
       "      <td>NaN</td>\n",
       "      <td>NaN</td>\n",
       "      <td>64.0</td>\n",
       "      <td>8.1</td>\n",
       "      <td>1019.000000</td>\n",
       "      <td>290.0</td>\n",
       "      <td>8.1</td>\n",
       "    </tr>\n",
       "    <tr>\n",
       "      <th>2001-01-01 07:00:00</th>\n",
       "      <td>1</td>\n",
       "      <td>23.0</td>\n",
       "      <td>23.0</td>\n",
       "      <td>23.0</td>\n",
       "      <td>14.0</td>\n",
       "      <td>NaN</td>\n",
       "      <td>NaN</td>\n",
       "      <td>67.0</td>\n",
       "      <td>3.5</td>\n",
       "      <td>1019.599976</td>\n",
       "      <td>30.0</td>\n",
       "      <td>3.5</td>\n",
       "    </tr>\n",
       "    <tr>\n",
       "      <th>2001-01-01 08:00:00</th>\n",
       "      <td>1</td>\n",
       "      <td>23.0</td>\n",
       "      <td>23.0</td>\n",
       "      <td>23.0</td>\n",
       "      <td>14.0</td>\n",
       "      <td>NaN</td>\n",
       "      <td>NaN</td>\n",
       "      <td>67.0</td>\n",
       "      <td>4.6</td>\n",
       "      <td>1019.599976</td>\n",
       "      <td>330.0</td>\n",
       "      <td>4.6</td>\n",
       "    </tr>\n",
       "    <tr>\n",
       "      <th>2001-01-01 09:00:00</th>\n",
       "      <td>1</td>\n",
       "      <td>19.9</td>\n",
       "      <td>19.9</td>\n",
       "      <td>19.9</td>\n",
       "      <td>14.0</td>\n",
       "      <td>NaN</td>\n",
       "      <td>NaN</td>\n",
       "      <td>77.0</td>\n",
       "      <td>6.9</td>\n",
       "      <td>1020.000000</td>\n",
       "      <td>340.0</td>\n",
       "      <td>6.9</td>\n",
       "    </tr>\n",
       "  </tbody>\n",
       "</table>\n",
       "</div>"
      ],
      "text/plain": [
       "                     Number of Observations (n/a)  Average Temp (F)  \\\n",
       "Date/Time (GMT)                                                       \n",
       "2001-01-01 00:00:00                             1              21.0   \n",
       "2001-01-01 01:00:00                             1              19.9   \n",
       "2001-01-01 02:00:00                             1              19.0   \n",
       "2001-01-01 03:00:00                             1              19.0   \n",
       "2001-01-01 04:00:00                             1              19.0   \n",
       "2001-01-01 05:00:00                             1              25.0   \n",
       "2001-01-01 06:00:00                             1              23.0   \n",
       "2001-01-01 07:00:00                             1              23.0   \n",
       "2001-01-01 08:00:00                             1              23.0   \n",
       "2001-01-01 09:00:00                             1              19.9   \n",
       "\n",
       "                     Max Temp (F)  Min Temp (F)  Average Dewpoint Temp (F)  \\\n",
       "Date/Time (GMT)                                                              \n",
       "2001-01-01 00:00:00          21.0          21.0                        6.1   \n",
       "2001-01-01 01:00:00          19.9          19.9                        7.0   \n",
       "2001-01-01 02:00:00          19.0          19.0                        7.0   \n",
       "2001-01-01 03:00:00          19.0          19.0                        7.0   \n",
       "2001-01-01 04:00:00          19.0          19.0                        6.1   \n",
       "2001-01-01 05:00:00          25.0          25.0                       14.0   \n",
       "2001-01-01 06:00:00          23.0          23.0                       12.9   \n",
       "2001-01-01 07:00:00          23.0          23.0                       14.0   \n",
       "2001-01-01 08:00:00          23.0          23.0                       14.0   \n",
       "2001-01-01 09:00:00          19.9          19.9                       14.0   \n",
       "\n",
       "                     1 Hour Precip (in)  Max Wind Gust (mph)  \\\n",
       "Date/Time (GMT)                                                \n",
       "2001-01-01 00:00:00                 NaN                  NaN   \n",
       "2001-01-01 01:00:00                 NaN                  NaN   \n",
       "2001-01-01 02:00:00                 NaN                  NaN   \n",
       "2001-01-01 03:00:00                 NaN                  NaN   \n",
       "2001-01-01 04:00:00                 NaN                  NaN   \n",
       "2001-01-01 05:00:00                 NaN                  NaN   \n",
       "2001-01-01 06:00:00                 NaN                  NaN   \n",
       "2001-01-01 07:00:00                 NaN                  NaN   \n",
       "2001-01-01 08:00:00                 NaN                  NaN   \n",
       "2001-01-01 09:00:00                 NaN                  NaN   \n",
       "\n",
       "                     Average Relative Humidity (%)  Average Wind Speed (mph)  \\\n",
       "Date/Time (GMT)                                                                \n",
       "2001-01-01 00:00:00                           51.0                      12.7   \n",
       "2001-01-01 01:00:00                           56.0                      10.4   \n",
       "2001-01-01 02:00:00                           58.0                      16.1   \n",
       "2001-01-01 03:00:00                           58.0                      15.0   \n",
       "2001-01-01 04:00:00                           56.0                      16.1   \n",
       "2001-01-01 05:00:00                           62.0                       9.2   \n",
       "2001-01-01 06:00:00                           64.0                       8.1   \n",
       "2001-01-01 07:00:00                           67.0                       3.5   \n",
       "2001-01-01 08:00:00                           67.0                       4.6   \n",
       "2001-01-01 09:00:00                           77.0                       6.9   \n",
       "\n",
       "                     Average Station Pressure (mb)  \\\n",
       "Date/Time (GMT)                                      \n",
       "2001-01-01 00:00:00                    1019.000000   \n",
       "2001-01-01 01:00:00                    1019.000000   \n",
       "2001-01-01 02:00:00                    1019.000000   \n",
       "2001-01-01 03:00:00                    1018.599976   \n",
       "2001-01-01 04:00:00                    1018.599976   \n",
       "2001-01-01 05:00:00                    1017.900024   \n",
       "2001-01-01 06:00:00                    1019.000000   \n",
       "2001-01-01 07:00:00                    1019.599976   \n",
       "2001-01-01 08:00:00                    1019.599976   \n",
       "2001-01-01 09:00:00                    1020.000000   \n",
       "\n",
       "                     Average Wind Direction (deg)  Max Wind Speed (mph)  \n",
       "Date/Time (GMT)                                                          \n",
       "2001-01-01 00:00:00                         270.0                  12.7  \n",
       "2001-01-01 01:00:00                         270.0                  10.4  \n",
       "2001-01-01 02:00:00                         270.0                  16.1  \n",
       "2001-01-01 03:00:00                         260.0                  15.0  \n",
       "2001-01-01 04:00:00                         280.0                  16.1  \n",
       "2001-01-01 05:00:00                         280.0                   9.2  \n",
       "2001-01-01 06:00:00                         290.0                   8.1  \n",
       "2001-01-01 07:00:00                          30.0                   3.5  \n",
       "2001-01-01 08:00:00                         330.0                   4.6  \n",
       "2001-01-01 09:00:00                         340.0                   6.9  "
      ]
     },
     "execution_count": 1920,
     "metadata": {},
     "output_type": "execute_result"
    }
   ],
   "source": [
    "# ANSWER\n",
    "\n",
    "# 2000 is the worst\n",
    "df_temps = df_temps.loc[df_temps.index.year != 2000]\n",
    "df_temps.head(10)"
   ]
  },
  {
   "cell_type": "markdown",
   "metadata": {},
   "source": [
    "---\n",
    "**33)**\t[P] Use Seaborn to generate a line plot of the average temperature over the entire time period contained in the data. It's a lot of data, so it may take a few seconds or so to generate.\n"
   ]
  },
  {
   "cell_type": "code",
   "execution_count": 1921,
   "metadata": {
    "collapsed": false,
    "jupyter": {
     "outputs_hidden": false
    }
   },
   "outputs": [
    {
     "data": {
      "image/png": "[encoded data removed]",
      "text/plain": [
       "<Figure size 640x480 with 1 Axes>"
      ]
     },
     "metadata": {},
     "output_type": "display_data"
    }
   ],
   "source": [
    "# ANSWER\n",
    "\n",
    "sns.lineplot(data=df_temps[\"Average Temp (F)\"])\n",
    "plt.title(\"Average Temperature from 2001 to 2022\")\n",
    "plt.show()"
   ]
  },
  {
   "cell_type": "markdown",
   "metadata": {},
   "source": [
    "---\n",
    "**34)**\t[P] That previous plot is a bit ridiculous. You really need to aggregate your data over some time interval. The most meaningful one will be by year. Compute the mean of the hourly average temperature for each year plot this annual value. (HINT: The `resample()` method will again make this incredibly easy to do!)"
   ]
  },
  {
   "cell_type": "code",
   "execution_count": 1922,
   "metadata": {
    "collapsed": false,
    "jupyter": {
     "outputs_hidden": false
    }
   },
   "outputs": [
    {
     "data": {
      "image/png": "[encoded data removed]",
      "text/plain": [
       "<Figure size 640x480 with 1 Axes>"
      ]
     },
     "metadata": {},
     "output_type": "display_data"
    }
   ],
   "source": [
    "# ANSWER\n",
    "\n",
    "df_average_by_year = df_temps[\"Average Temp (F)\"].resample('Y').mean()\n",
    "sns.lineplot(data=df_average_by_year)\n",
    "plt.title(\"Average Temperature from 2001 to 2022\")\n",
    "plt.show()"
   ]
  },
  {
   "cell_type": "markdown",
   "metadata": {},
   "source": [
    "---\n",
    "Congratulations! At this point, you performed your first real-world example of what you need to go through to complete basic preprocessing steps!\n",
    "\n",
    "---\n",
    "# Deliverables\n",
    "1.\tBe sure you have every cell run, and output generated.\n",
    "2.\tCommit and push `lab06.ipynb`. Verify that your file is pushed properly on Gitlab.\n",
    "3.\tGenerate a paginated PDF file of your notebook and upload to Gradescope\n",
    "4.\tBe sure to select the pages that have the specified questions, and submit when done\n"
   ]
  }
 ],
 "metadata": {
  "kernelspec": {
   "display_name": "Python 3 (ipykernel)",
   "language": "python",
   "name": "python3"
  },
  "language_info": {
   "codemirror_mode": {
    "name": "ipython",
    "version": 3
   },
   "file_extension": ".py",
   "mimetype": "text/x-python",
   "name": "python",
   "nbconvert_exporter": "python",
   "pygments_lexer": "ipython3",
   "version": "3.9.16"
  }
 },
 "nbformat": 4,
 "nbformat_minor": 4
}
