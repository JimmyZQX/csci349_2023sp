{
 "cells": [
  {
   "cell_type": "markdown",
   "id": "298f4101-9d23-4813-af14-15e27a4cefaf",
   "metadata": {},
   "source": [
    "# Lab 11 – Tensorflow / Keras\n",
    "\n",
    "- Name: Qixiao Zhu\n",
    "- Class: CSCI 349 - Intro to Data Mining  \n",
    "- Semester: Spring 2023\n",
    "- Instructor: Brian King  "
   ]
  },
  {
   "cell_type": "markdown",
   "id": "ad0f86e6-a212-4bae-9686-6e694185849f",
   "metadata": {},
   "source": [
    "**Exercise 1 - Interview questions about deep learning and keras**"
   ]
  },
  {
   "cell_type": "markdown",
   "id": "299deb58-eeb9-46fa-93a7-864f5a71a032",
   "metadata": {},
   "source": [
    "**1)** What is an artificial neural network (ANN)?"
   ]
  },
  {
   "cell_type": "markdown",
   "id": "390d8b86-a369-4b20-ab89-44bb73502b84",
   "metadata": {},
   "source": [
    "IBM: https://www.ibm.com/topics/neural-networks\n",
    "\n",
    "Neural networks, also known as artificial neural networks (ANNs) or simulated neural networks (SNNs), are a subset of machine learning and are at the heart of deep learning algorithms. Their name and structure are inspired by the human brain, mimicking the way that biological neurons signal to one another.\n",
    "\n",
    "Artificial neural networks (ANNs) are comprised of a node layers, containing an input layer, one or more hidden layers, and an output layer. Each node, or artificial neuron, connects to another and has an associated weight and threshold. If the output of any individual node is above the specified threshold value, that node is activated, sending data to the next layer of the network. Otherwise, no data is passed along to the next layer of the network."
   ]
  },
  {
   "cell_type": "markdown",
   "id": "f07785b4-e453-4a86-bf04-02eab3ec29d3",
   "metadata": {},
   "source": [
    "**2)** What is deep learning? How does it relate to an ANN?"
   ]
  },
  {
   "cell_type": "markdown",
   "id": "f5b34be9-4dc4-4ec7-b41a-c0feee56fd22",
   "metadata": {},
   "source": [
    "Deep learning is a part of machine learning, and ANN is the most important part a deep learning algorithm must have."
   ]
  },
  {
   "cell_type": "markdown",
   "id": "3e711f8f-c20b-4c44-8321-41fbfd83bb48",
   "metadata": {},
   "source": [
    "**3)** Name a couple of examples where deep learning has made a tremendous impact."
   ]
  },
  {
   "cell_type": "markdown",
   "id": "7839c068-3772-40f8-bd76-dea1554482b5",
   "metadata": {},
   "source": [
    "ChatGPT made a tremendous impact this year, and it is a deep learning algorithm. Tesla's self-driving algorithm is also deep learning. Facial recognition, medical image processing are all deep learning and have made a tremendous impact on the society."
   ]
  },
  {
   "cell_type": "markdown",
   "id": "b12368e4-c8fb-4eb2-856d-eb684feb258a",
   "metadata": {},
   "source": [
    "**4)** Briefly, what is the feedforward algorithm with a neural net?"
   ]
  },
  {
   "cell_type": "markdown",
   "id": "58709dc6-351d-4ed4-81f3-8fbc7175007f",
   "metadata": {},
   "source": [
    "The feedforward algorithm is basically feeding input to neurons and calculating outputs."
   ]
  },
  {
   "cell_type": "markdown",
   "id": "6f6af4c6-1c59-4db0-b80d-4dda40f32ce5",
   "metadata": {},
   "source": [
    "**5)** In the context of machine learning, what is a loss function?"
   ]
  },
  {
   "cell_type": "markdown",
   "id": "c95b3d80-3abf-4782-871e-13d65a7fb74f",
   "metadata": {},
   "source": [
    "It is a function that measures the difference between the predicted output and the actual output."
   ]
  },
  {
   "cell_type": "markdown",
   "id": "98f0c889-c9b8-4c6f-bf3f-c0e6788d444c",
   "metadata": {},
   "source": [
    "**6)** What is gradient descent? And how is the loss function a critical part of gradient descent?"
   ]
  },
  {
   "cell_type": "markdown",
   "id": "d0adaf07-7256-4de9-b057-ef8251dcad13",
   "metadata": {},
   "source": [
    "Gradient descent uses the number calculated using the loss function, calculate gradient, and updates the weights of the neurons according to that gradient so that the difference between the predicted output and the actual output gets smaller."
   ]
  },
  {
   "cell_type": "markdown",
   "id": "2564ffa1-e730-42a7-af77-2d1bbb52a33a",
   "metadata": {},
   "source": [
    "**7)** Training a neural net involves the backpropagation algorithm. In a few sentences, describe what this algorithm does."
   ]
  },
  {
   "cell_type": "markdown",
   "id": "36870989-b307-48ff-9fd9-20ea057e0f1d",
   "metadata": {},
   "source": [
    "This algorithm uses the error produced by the loss function, traverses backwards, and calculates the gradient of each layer of neurons using chain rule."
   ]
  },
  {
   "cell_type": "markdown",
   "id": "1f72dda0-91bc-4709-949a-a62b48a064c7",
   "metadata": {},
   "source": [
    "**8)** What is the difference between batch gradient descent and stochastic gradient descent?"
   ]
  },
  {
   "cell_type": "markdown",
   "id": "9d64f265-226e-43f7-9fe5-21420779b63e",
   "metadata": {},
   "source": [
    "ChatGPT:\n",
    "\n",
    "Batch Gradient Descent: In batch gradient descent, the entire dataset of training examples is used to compute the gradients of the loss function with respect to the weights at each iteration. The gradients are then averaged over the entire dataset, and the weights are updated once per iteration based on the averaged gradients. Batch gradient descent is guaranteed to converge to the global minimum of the loss function, but it can be slow for large datasets because it requires computing the gradients over the entire dataset at each iteration.\n",
    "\n",
    "Stochastic Gradient Descent: In stochastic gradient descent, the weights are updated after processing each training example. The gradients are computed for a single training example at a time and the weights are updated based on that example's gradient. Stochastic gradient descent is much faster than batch gradient descent because it updates the weights more frequently and requires less memory, but it may not converge to the global minimum of the loss function due to the high variance in the gradients at each iteration."
   ]
  },
  {
   "cell_type": "markdown",
   "id": "632ab17b-2fb5-4fb6-bf07-1f29a5f4a48e",
   "metadata": {},
   "source": [
    "**9)** In the context of neural network training, explain the terms epoch and batch."
   ]
  },
  {
   "cell_type": "markdown",
   "id": "cede3e14-62d3-409e-a25e-d2867db2e9f0",
   "metadata": {},
   "source": [
    "Batch determines the number of samples we feed into the model before backpropagation and gradient descent.\n",
    "Epoch determines the number of times we run the whole training set to train the model."
   ]
  },
  {
   "cell_type": "markdown",
   "id": "0856658e-b8ea-4591-a41a-ec463dc69fa8",
   "metadata": {},
   "source": [
    "**10)** In the context of machine learning, what is a hyperparameter? "
   ]
  },
  {
   "cell_type": "markdown",
   "id": "218ae134-5ace-4164-9898-abc3fb56f63d",
   "metadata": {},
   "source": [
    "A hyperparameter is a machine learning parameter whose value is chosen before a learning algorithm is trained."
   ]
  },
  {
   "cell_type": "markdown",
   "id": "ed899827-b42b-41c0-a3ec-d5744ea016d0",
   "metadata": {},
   "source": [
    "**11)** In the context of neural nets training, what are examples of hyperparameters that can affect model \n",
    "performance?"
   ]
  },
  {
   "cell_type": "markdown",
   "id": "81b38b1f-234e-4c94-8773-5461ca5e6f5e",
   "metadata": {},
   "source": [
    "ChatGPT:\n",
    "\n",
    "Batch size, number of epocchs, learning rate, number of hidden layers, number of neurons per layer, activation functions, etc."
   ]
  },
  {
   "cell_type": "markdown",
   "id": "5bb51e43-6ba1-4979-9f7f-e3e7a8a760fa",
   "metadata": {},
   "source": [
    "**12)** What is an activation function?"
   ]
  },
  {
   "cell_type": "markdown",
   "id": "f7527dfd-0e07-4471-b230-6ce98a2fcb6c",
   "metadata": {},
   "source": [
    "https://towardsdatascience.com/what-is-activation-function-1464a629cdca\n",
    "\n",
    "The activation function defines the output of a neuron / node given an input or set of input (output of multiple neurons). It’s the mimic of the stimulation of a biological neuron.\n",
    "\n",
    "The output of the activation function to the next layer (in shallow neural network: input layer and output layer, and in deep network to the next hidden layer) is called forward propagation (information propagation). It’s considered as a non-linearity transformation of a neural network."
   ]
  },
  {
   "cell_type": "markdown",
   "id": "793fc047-1d26-4487-8a00-71680ee47d16",
   "metadata": {},
   "source": [
    "**13)** Most agree that the most popular activation functions are sigmoid, hyperbolic tangent (tanh), softmax, and ReLu (rectified linear unit). Compare and contrast each, using whatever resources you want. Again, 1-2 sentences for each Is sufficient."
   ]
  },
  {
   "cell_type": "markdown",
   "id": "c48b54ec-5f6e-43f8-9b06-ec86110eb768",
   "metadata": {},
   "source": [
    "ChatGPT:\n",
    "\n",
    "Sigmoid: The sigmoid function is a non-linear function that maps any input value to a value between 0 and 1. It's commonly used in binary classification problems as an output activation function.\n",
    "\n",
    "Tanh: Tanh, or hyperbolic tangent, is similar to sigmoid but maps input values to a range between -1 and 1. It can be used in hidden layers of feedforward neural networks.\n",
    "\n",
    "Softmax: Softmax is a function that maps input values to a probability distribution over multiple classes. It's often used as an output activation function for multi-class classification problems.\n",
    "\n",
    "ReLu: ReLu, or rectified linear unit, is a simple non-linear function that returns the input value if it's positive and 0 otherwise. It's commonly used in hidden layers of deep neural networks due to its ability to speed up training by reducing vanishing gradients."
   ]
  },
  {
   "cell_type": "markdown",
   "id": "b314be7b-b783-426a-85fe-49db9368f0b8",
   "metadata": {},
   "source": [
    "**14)** Why is ReLu so popular for large, deep learning networks?"
   ]
  },
  {
   "cell_type": "markdown",
   "id": "47907d0d-d2e9-45a2-8eb6-c91ceb09d3f8",
   "metadata": {},
   "source": [
    "ChatGPT:\n",
    "\n",
    "Sparsity: ReLu activations have a sparsity property where only a subset of neurons are activated and contribute to the network output during forward propagation. This can lead to more efficient computation and memory usage as there are fewer calculations to perform.\n",
    "\n",
    "Vanishing gradient problem: ReLu activations can help mitigate the problem of vanishing gradients, which occurs when the gradients of weight updates become very small in deeper parts of the network. ReLu activations maintain a constant gradient for positive values of the input, allowing for efficient and rapid learning.\n",
    "\n",
    "Simplicity: ReLu is a simple function that can be computed efficiently and does not require complex mathematical operations. This makes it easy to implement and use in deep learning frameworks.\n",
    "\n",
    "Effectiveness: ReLu has been shown to be effective in a wide range of tasks, including computer vision, natural language processing, and speech recognition. Its effectiveness, combined with its simplicity and computational efficiency, has made it a popular choice for deep learning practitioners."
   ]
  },
  {
   "cell_type": "markdown",
   "id": "cf06afcd-7134-4505-928e-b12f13c07a8f",
   "metadata": {},
   "source": [
    "**15)** Why is softmax most appropriate for the output layer, especially for classification problems?"
   ]
  },
  {
   "cell_type": "markdown",
   "id": "c94d45a6-1f2d-4803-968f-cb0accab7962",
   "metadata": {},
   "source": [
    "ChatGPT:\n",
    "\n",
    "Softmax is most appropriate for the output layer of neural networks in classification problems because it can be used to generate a probability distribution over multiple classes. Specifically, softmax provides a way to convert the output of the final layer of the network (which typically consists of a vector of real-valued scores) into a vector of probabilities that sum to 1, with each element representing the probability of the input belonging to a particular class.\n",
    "\n",
    "This makes softmax an ideal choice for multi-class classification problems where the goal is to predict the probability distribution of the input belonging to each of the possible classes. Softmax can also help in making predictions during the inference phase by returning the class with the highest probability as the final prediction.\n",
    "\n",
    "Softmax is designed to handle multi-class classification problems well because it not only returns the class label with the highest score but also provides some uncertainty information in the form of probabilities. This can be useful in cases where multiple classes may seem equally likely based on the output of the network, or when the network is unsure about which class the input belongs to."
   ]
  },
  {
   "cell_type": "markdown",
   "id": "0e7fe23a-9e76-402d-88e1-bfc8fa753da0",
   "metadata": {},
   "source": [
    "**16)** What does ReLu sometimes suffer from, and how does a Leaky ReLu activation address it?"
   ]
  },
  {
   "cell_type": "markdown",
   "id": "455f11ab-2efd-4a30-8f55-59d5f144dcf7",
   "metadata": {},
   "source": [
    "ChatGPT:\n",
    "\n",
    "ReLu activations can suffer from a problem called \"dying ReLu,\" which occurs when the activation function outputs zero for all positive input values. This can happen during training when the weights in the network become unbalanced and cause some neurons to become highly negative, resulting in a zero output value from ReLu.\n",
    "\n",
    "To address this issue, variants of ReLu have been proposed, such as leaky ReLu. Leaky ReLu is a modification of ReLu that adds a small slope to negative input values so that the function never completely zeros out. The slope can be a small positive value (e.g., 0.01) or a trainable parameter, allowing the network to learn the optimal slope during training.\n",
    "\n",
    "Leaky ReLu can help to prevent the \"dying ReLu\" problem by ensuring that a non-zero gradient is always propagated through the network. Additionally, it can lead to better model performance since the small negative slope allows the activation function to learn more complex and expressive features compared to traditional ReLu."
   ]
  },
  {
   "cell_type": "markdown",
   "id": "6f0f96d7-b354-4560-acd3-e35b1eb813a5",
   "metadata": {},
   "source": [
    "**17)** What is Tensorflow? Who created it?"
   ]
  },
  {
   "cell_type": "markdown",
   "id": "d83d1e5c-9310-4ca8-bcd8-f36368d8f41e",
   "metadata": {},
   "source": [
    "https://www.techtarget.com/searchdatamanagement/definition/TensorFlow#:~:text=TensorFlow%20is%20an%20open%20source,statistical%20and%20predictive%20analytics%20workloads.\n",
    "\n",
    "TensorFlow is an open source framework developed by Google researchers to run machine learning, deep learning and other statistical and predictive analytics workloads."
   ]
  },
  {
   "cell_type": "markdown",
   "id": "d23fdeac-5b34-4c4f-8ce4-7c6e1900deaa",
   "metadata": {},
   "source": [
    "**18)** What are tensors?"
   ]
  },
  {
   "cell_type": "markdown",
   "id": "029e893a-b054-4fa4-9ccd-1325e8b9900a",
   "metadata": {},
   "source": [
    "ChatGPT:\n",
    "\n",
    "Tensors are a generalization of matrices and vectors that are used to represent multi-dimensional arrays in mathematics and computer science. In deep learning and other areas of machine learning, tensors are a fundamental data structure that is used to store and manipulate data.\n",
    "\n",
    "In general, tensors can have an arbitrary number of dimensions (also called \"axes\" or \"rank\"), and each element of the tensor can be represented by a unique set of indices. For example, a scalar (i.e., a single value) can be thought of as a 0-dimensional tensor, a vector can be represented as a 1-dimensional tensor, a matrix can be represented as a 2-dimensional tensor, and so on."
   ]
  },
  {
   "cell_type": "markdown",
   "id": "54f04dc7-63cf-4aaa-ba52-d8e1bede4aec",
   "metadata": {},
   "source": [
    "**19)** What is keras? Who created it?"
   ]
  },
  {
   "cell_type": "markdown",
   "id": "b7559eb9-a712-45f5-b4b1-99b5512b292e",
   "metadata": {},
   "source": [
    "Keras is a popular open-source neural network library written in Python. It provides a high-level, user-friendly interface for building and training deep learning models, which makes it easy for developers to quickly prototype and experiment with different architectures.\n",
    "\n",
    "Keras was created by François Chollet, a software engineer at Google, and first released in March 2015. In 2017, Keras became part of TensorFlow, Google's popular deep learning framework, and has since become one of the most widely-used interfaces for building deep learning models."
   ]
  },
  {
   "cell_type": "markdown",
   "id": "d9edee00-7623-4968-a71c-3742a5040e98",
   "metadata": {},
   "source": [
    "**20)** Explain the relationship between keras and tensorflow. How are they similar? Different?"
   ]
  },
  {
   "cell_type": "markdown",
   "id": "c1e8ebb5-1cf3-481b-98dc-2e514bb714b3",
   "metadata": {},
   "source": [
    "ChatGPT:\n",
    "\n",
    "Keras is a high-level API that can be used as a front-end API for TensorFlow and other deep learning libraries. TensorFlow is an open-source library that is for building and training machine learning models.\n",
    "\n",
    "Similarities: Both of them have support for both CPU and GPU. Both of them can build and train deep neural networks.\n",
    "\n",
    "Differences: Keras is high-level and TensorFlow is low-level. Keras is more like a user interface. TensorFlow, being more low-level, is more customizable, while Keras is more user-friendly. Keras also supports other neural network architectures.\n"
   ]
  },
  {
   "cell_type": "markdown",
   "id": "7be8017d-acf5-4ffa-bf73-b37b5c48fd1b",
   "metadata": {},
   "source": [
    "**21)** Describe at a very top level what the Functional API is"
   ]
  },
  {
   "cell_type": "markdown",
   "id": "43b1388c-85d5-4bae-a4b2-8293372d8138",
   "metadata": {},
   "source": [
    "ChatGPT:\n",
    "\n",
    "Functional API is a way of building complex models in Keras that allows for more flexibility and control over the input and output layers of the network."
   ]
  },
  {
   "cell_type": "markdown",
   "id": "a0f773ce-f05a-4d63-a511-9ff72c604796",
   "metadata": {},
   "source": [
    "**22)** What is the Sequential class, and how does it compare / contrast to the Functional API?"
   ]
  },
  {
   "cell_type": "markdown",
   "id": "6aadff37-d5d9-4cd9-ad9f-3db49ef92b91",
   "metadata": {},
   "source": [
    "ChatGPT and https://www.analyticsvidhya.com/blog/2021/07/understanding-sequential-vs-functional-api-in-keras/#:~:text=using%20Functional%20API,have%20multiple%20inputs%20and%20outputs.\n",
    "\n",
    "In Keras, the Sequential model is a linear stack of layers where you can simply add layers one after the other using the add() method. It is a simple way to create a neural network, but doesn't allow for more complex architectures.\n",
    "\n",
    "Functional API is a way of building complex models in Keras (a deep learning framework) by connecting layers directly, rather than using the sequential model. It allows for more flexibility in creating models with multiple inputs and outputs, as well as sharing layers between different parts of the model. It is more flexible than the sequential API. It is more powerful than the sequential API in the sense branching or sharing of layers is allowed here. And also it can have multiple inputs and outputs."
   ]
  },
  {
   "cell_type": "markdown",
   "id": "45912a63-bd09-44da-8ab5-c18bb852953f",
   "metadata": {},
   "source": [
    "**23)** What is a layer? How is a layer added to a model?"
   ]
  },
  {
   "cell_type": "markdown",
   "id": "1983c852-08cd-4775-b713-1a948b20c520",
   "metadata": {},
   "source": [
    "ChatGPT:\n",
    "\n",
    "In deep learning, a layer is the fundamental building block of a neural network. A layer can be thought of as a processing block that takes input data, performs some computation on the input, and produces an output. Layers are stacked together to form a neural network, which can then be trained to recognize patterns or make predictions."
   ]
  },
  {
   "cell_type": "markdown",
   "id": "7710e288-91a8-4cd1-a2cc-a4325a206b46",
   "metadata": {},
   "source": [
    "**24)** What is a Dense layer?"
   ]
  },
  {
   "cell_type": "markdown",
   "id": "5a80a62f-3bdc-4751-9a12-c74a6da0d99e",
   "metadata": {},
   "source": [
    "ChatGPT:\n",
    "\n",
    "In deep learning, a dense layer is a type of neural network layer that is fully connected, meaning each neuron in the layer is connected to every neuron in the previous layer. In a dense layer, each neuron takes input from all neurons in the previous layer, applies a set of weights and biases, and produces a single output value that is passed on to every neuron in the next layer."
   ]
  },
  {
   "cell_type": "markdown",
   "id": "a3d49ce4-ddb8-4222-9895-0f33d234b528",
   "metadata": {},
   "source": [
    "**25)** What does the compile method do for a model, and what two parameters are required to compile every model?"
   ]
  },
  {
   "cell_type": "markdown",
   "id": "73350b1b-be0e-4961-a7ea-e6bb9eee76f4",
   "metadata": {},
   "source": [
    "ChatGPT:\n",
    "\n",
    "The compile method in Keras is used to configure the learning process of a model. It takes two mandatory parameters:\n",
    "\n",
    "1. optimizer: The algorithm used for optimizing the model's weights during training (e.g., adam, rmsprop, sgd).\n",
    "2. loss: The objective function that the model will attempt to minimize during training (e.g., mean_squared_error, categorical_crossentropy, binary_crossentropy)."
   ]
  },
  {
   "cell_type": "markdown",
   "id": "d468b43d-d87a-41f0-b952-57d2c3c43955",
   "metadata": {},
   "source": [
    "**Exercise\t2 – The\treturn\tof\tiris**"
   ]
  },
  {
   "cell_type": "code",
   "execution_count": 187,
   "outputs": [
    {
     "name": "stdout",
     "output_type": "stream",
     "text": [
      "2.10.0\n",
      "2.10.0\n"
     ]
    }
   ],
   "source": [
    "import time\n",
    "\n",
    "import pandas as pd\n",
    "import seaborn as sns\n",
    "import numpy as np\n",
    "import matplotlib.pyplot as plt\n",
    "from scipy.stats import zscore\n",
    "from sklearn.utils import shuffle\n",
    "from sklearn.model_selection import train_test_split, KFold\n",
    "from sklearn.metrics import classification_report, confusion_matrix, ConfusionMatrixDisplay\n",
    "import tensorflow as tf\n",
    "from tensorflow import keras\n",
    "from keras.optimizers import SGD\n",
    "from keras.models import Model, Sequential\n",
    "from keras.layers import Input, Dense, Activation\n",
    "from scikeras.wrappers import KerasClassifier\n",
    "print(tf.__version__)\n",
    "print(keras.__version__)"
   ],
   "metadata": {
    "collapsed": false
   }
  },
  {
   "cell_type": "markdown",
   "id": "de955f5b-00e8-4d74-a606-256f03cd1ec1",
   "metadata": {},
   "source": [
    "**1)** [P] Copy over your code from the previous lab that read in and pre-processed the iris dataset from seaborn. \n",
    "You should have a pandas dataframe that contains four numeric variables and one categorical variable \n",
    "representing the target class. You should have one dataframe X and a dataframe y representing the target \n",
    "class. Do not split your data into training and testing data yet.\n",
    "NORMALLY, I would always expect some EDA tasks to be performed to understand the distributions of your \n",
    "data (i.e. the center, shape, spread of your variables, etc). However, you did a lot of that in the previous lab. \n",
    "Generally, these variables have very similar distributions, with centers that are near each other. Thus, \n",
    "technically, you really don't need to standardize your variables. However, for most models we've learned \n",
    "about, it's a good idea. So, if you did not standardize, go ahead and do that to your X dataframe now using a z\u0002score standardization. (All variables are numeric, so this is quite straightforward.)"
   ]
  },
  {
   "cell_type": "code",
   "execution_count": 188,
   "id": "c983bc6a-7f5e-4596-9fc6-c190006c44d0",
   "metadata": {},
   "outputs": [
    {
     "name": "stdout",
     "output_type": "stream",
     "text": [
      "<class 'pandas.core.frame.DataFrame'>\n",
      "RangeIndex: 150 entries, 0 to 149\n",
      "Data columns (total 5 columns):\n",
      " #   Column        Non-Null Count  Dtype   \n",
      "---  ------        --------------  -----   \n",
      " 0   sepal_length  150 non-null    float64 \n",
      " 1   sepal_width   150 non-null    float64 \n",
      " 2   petal_length  150 non-null    float64 \n",
      " 3   petal_width   150 non-null    float64 \n",
      " 4   species       150 non-null    category\n",
      "dtypes: category(1), float64(4)\n",
      "memory usage: 5.1 KB\n"
     ]
    }
   ],
   "source": [
    "df_iris = sns.load_dataset('iris')\n",
    "df_iris[\"species\"] = df_iris[\"species\"].astype(\"category\")\n",
    "df_iris.info()"
   ]
  },
  {
   "cell_type": "code",
   "execution_count": 189,
   "outputs": [
    {
     "data": {
      "text/plain": "   sepal_length  sepal_width  petal_length  petal_width\n0     -0.900681     1.019004     -1.340227    -1.315444\n1     -1.143017    -0.131979     -1.340227    -1.315444\n2     -1.385353     0.328414     -1.397064    -1.315444\n3     -1.506521     0.098217     -1.283389    -1.315444\n4     -1.021849     1.249201     -1.340227    -1.315444\n5     -0.537178     1.939791     -1.169714    -1.052180\n6     -1.506521     0.788808     -1.340227    -1.183812\n7     -1.021849     0.788808     -1.283389    -1.315444\n8     -1.748856    -0.362176     -1.340227    -1.315444\n9     -1.143017     0.098217     -1.283389    -1.447076",
      "text/html": "<div>\n<style scoped>\n    .dataframe tbody tr th:only-of-type {\n        vertical-align: middle;\n    }\n\n    .dataframe tbody tr th {\n        vertical-align: top;\n    }\n\n    .dataframe thead th {\n        text-align: right;\n    }\n</style>\n<table border=\"1\" class=\"dataframe\">\n  <thead>\n    <tr style=\"text-align: right;\">\n      <th></th>\n      <th>sepal_length</th>\n      <th>sepal_width</th>\n      <th>petal_length</th>\n      <th>petal_width</th>\n    </tr>\n  </thead>\n  <tbody>\n    <tr>\n      <th>0</th>\n      <td>-0.900681</td>\n      <td>1.019004</td>\n      <td>-1.340227</td>\n      <td>-1.315444</td>\n    </tr>\n    <tr>\n      <th>1</th>\n      <td>-1.143017</td>\n      <td>-0.131979</td>\n      <td>-1.340227</td>\n      <td>-1.315444</td>\n    </tr>\n    <tr>\n      <th>2</th>\n      <td>-1.385353</td>\n      <td>0.328414</td>\n      <td>-1.397064</td>\n      <td>-1.315444</td>\n    </tr>\n    <tr>\n      <th>3</th>\n      <td>-1.506521</td>\n      <td>0.098217</td>\n      <td>-1.283389</td>\n      <td>-1.315444</td>\n    </tr>\n    <tr>\n      <th>4</th>\n      <td>-1.021849</td>\n      <td>1.249201</td>\n      <td>-1.340227</td>\n      <td>-1.315444</td>\n    </tr>\n    <tr>\n      <th>5</th>\n      <td>-0.537178</td>\n      <td>1.939791</td>\n      <td>-1.169714</td>\n      <td>-1.052180</td>\n    </tr>\n    <tr>\n      <th>6</th>\n      <td>-1.506521</td>\n      <td>0.788808</td>\n      <td>-1.340227</td>\n      <td>-1.183812</td>\n    </tr>\n    <tr>\n      <th>7</th>\n      <td>-1.021849</td>\n      <td>0.788808</td>\n      <td>-1.283389</td>\n      <td>-1.315444</td>\n    </tr>\n    <tr>\n      <th>8</th>\n      <td>-1.748856</td>\n      <td>-0.362176</td>\n      <td>-1.340227</td>\n      <td>-1.315444</td>\n    </tr>\n    <tr>\n      <th>9</th>\n      <td>-1.143017</td>\n      <td>0.098217</td>\n      <td>-1.283389</td>\n      <td>-1.447076</td>\n    </tr>\n  </tbody>\n</table>\n</div>"
     },
     "execution_count": 189,
     "metadata": {},
     "output_type": "execute_result"
    }
   ],
   "source": [
    "X = df_iris.loc[:, \"sepal_length\":\"petal_width\"]\n",
    "y = df_iris.loc[:, \"species\"]\n",
    "X = zscore(X)\n",
    "X.head(10)"
   ],
   "metadata": {
    "collapsed": false
   }
  },
  {
   "cell_type": "markdown",
   "id": "70f8a9ad-7be1-4b1f-a245-c0cf643409ad",
   "metadata": {},
   "source": [
    "**2)** [P] Shuffle your data in your data frames. This will be important for later exercises. Read about the \n",
    "shuffle() function in sklearn.utils. Import it, and use it to shuffle your X and y data frames. Use random_state=0. Remember – it returns the shuffled data! So, be sure to reassign X and y.\n"
   ]
  },
  {
   "cell_type": "code",
   "execution_count": 190,
   "id": "4792a36e-10ed-4f6c-9f94-14328303e256",
   "metadata": {},
   "outputs": [],
   "source": [
    "X_shuffled, y_shuffled = shuffle(X, y, random_state=0)"
   ]
  },
  {
   "cell_type": "markdown",
   "id": "916aa7fd-8c00-480f-a8da-6562941faacd",
   "metadata": {},
   "source": [
    "**3)** [P] Use train_test_split to split your data, but this time, let's use an even smaller split, using a 50/50\n",
    "split, initializing with a random state of 0. (Why? This is a relatively simple dataset. Let's make the problem a \n",
    "bit more challenging by introducing a smaller training data size.)\n",
    "Completing this will result in X_train, X_test, y_train and y_test data frames, both with 75 \n",
    "instances."
   ]
  },
  {
   "cell_type": "code",
   "execution_count": 191,
   "id": "a1969e3e-f8fc-4686-98d7-8b9c1f3caeaa",
   "metadata": {},
   "outputs": [],
   "source": [
    "X_train, X_test, y_train, y_test = \\\n",
    "    train_test_split(X_shuffled, y_shuffled, test_size=0.5, random_state=0)"
   ]
  },
  {
   "cell_type": "markdown",
   "id": "16dd0f82-8405-4528-b443-428d151fd9b5",
   "metadata": {},
   "source": [
    "**4)** [M] How many inputs will your network need to have?"
   ]
  },
  {
   "cell_type": "markdown",
   "id": "528d7e9c-ef62-47c6-8823-1cbb31509f13",
   "metadata": {},
   "source": [
    "My network needs to have 4 inputs, they are sepal_length, sepal_width, petal_length, and petal_width."
   ]
  },
  {
   "cell_type": "markdown",
   "id": "7cc68103-f7f4-441a-9c83-e9438df7ca32",
   "metadata": {},
   "source": [
    "**5)** [M] Consider the outputs required for a neural network. Remember that the iris dataset is a multi-class\n",
    "dataset. It has to predict three different, categorical values. How do you represent a multi-class target variable \n",
    "in a model like a neural net? For the iris data, what does the final layer of your neural net structure need to \n",
    "look like?"
   ]
  },
  {
   "cell_type": "markdown",
   "id": "947b33e7-c654-4786-8d4c-ebcbcd1db1e7",
   "metadata": {},
   "source": [
    "Use the softmax activation function in the output layer. My final layer will have 3 nodes for setosa, versicolor, and verginica. Each of the nodes uses a softmax activation function for the final classification."
   ]
  },
  {
   "cell_type": "markdown",
   "id": "7593909a-ea87-460d-93b5-db3a794399a8",
   "metadata": {},
   "source": [
    "**6)** [P] Write the code to convert the iris target variables (i.e. y_train and y_test) to a set of binarized\n",
    "variables derived from the target class variable (why? Hopefully you figured out why based on your previous \n",
    "answer!)\n",
    "With iris, this means that the \"species\" variable should be converted to a data frame (or numpy array) \n",
    "of three variables, one representing each species. (HINT: as usual, there are many ways to do this. I like pandas \n",
    "get_dummies() or scikit-learn's OneHotEncoder.) "
   ]
  },
  {
   "cell_type": "code",
   "execution_count": 192,
   "id": "5217bdd5-ed23-48a9-8c97-ecbf3d391496",
   "metadata": {},
   "outputs": [],
   "source": [
    "y_train_binarized = pd.get_dummies(y_train)\n",
    "y_test_binarized = pd.get_dummies(y_test)"
   ]
  },
  {
   "cell_type": "markdown",
   "id": "87d022e5-f192-44cd-93e8-fcc39ef7b77a",
   "metadata": {},
   "source": [
    "**7)** [P] Create your input node using Input. Usually, these are simply called inputs. When you create your \n",
    "model, you will need a distinct reference to the input later, so clearly name this. Remember how many inputs \n",
    "your network will have. Specify this here using the shape= parameter.\n"
   ]
  },
  {
   "cell_type": "code",
   "execution_count": 193,
   "id": "2b3bb5b2-53d0-4883-aa54-e4819a844c38",
   "metadata": {},
   "outputs": [],
   "source": [
    "# input layer with four inputs\n",
    "inputs = Input(shape=(4,))"
   ]
  },
  {
   "cell_type": "markdown",
   "id": "dc6efdf2-3d8f-4e1f-96f0-64b08156543a",
   "metadata": {},
   "source": [
    "**8)** [P] Add the hidden layer(s), and specify the input as you move along that each layer should receive. We will \n",
    "keep it simple: we will just have one hidden layer, which is a Dense object. Specify the number of units in the \n",
    "layer (e.g. 9-12 is a good start for these simple data.) Specify an activation function of your choosing. Most \n",
    "basic nets use a 'sigmoid' or 'tanh' activation, though deep learning emphasizes 'relu'. (Be sure you \n",
    "understand why. It's explained in the second video on neural nets posted!) Any of the above activations are\n",
    "fine."
   ]
  },
  {
   "cell_type": "code",
   "execution_count": 194,
   "id": "650ed0ac-1ba2-43cf-b657-6977de564f37",
   "metadata": {},
   "outputs": [],
   "source": [
    "# hidden layer with twelve units, using relu as the activation function\n",
    "# (it is mostly good for large neural nets because it only activates when\n",
    "# the number is not negative), and then connect the previous input layer\n",
    "dense = Dense(12, activation='relu')(inputs)"
   ]
  },
  {
   "cell_type": "markdown",
   "id": "a5ebf66e-a555-4394-a44a-533007bce7e0",
   "metadata": {},
   "source": [
    "**9)** [P] Add one more Dense layer representing the output layer. Be sure to specify the correct number of \n",
    "outputs. Use a 'softmax' activation here. Be sure to connect the previous layer."
   ]
  },
  {
   "cell_type": "code",
   "execution_count": 195,
   "id": "10d02d9e-e7f2-4d94-b92e-58b85a68bbfa",
   "metadata": {},
   "outputs": [],
   "source": [
    "# output layer with three categories, using softmax because it\n",
    "# provides multiple categorical outputs, and it also outputs the\n",
    "# probability of each output, adding up to 100%\n",
    "outputs = Dense(3, activation='softmax')(dense)"
   ]
  },
  {
   "cell_type": "markdown",
   "id": "2a891fee-d6ae-4ab7-9c44-1967efc084b9",
   "metadata": {},
   "source": [
    "**10)** [P] Create an instance of Model. Specify the inputs, the outputs, and name the model \n",
    "\"simple_iris_model\". Then, report a summary of your model using the summary() function. "
   ]
  },
  {
   "cell_type": "code",
   "execution_count": 196,
   "id": "514462b4-446a-462d-97d1-07e23a2f8ae7",
   "metadata": {},
   "outputs": [
    {
     "name": "stdout",
     "output_type": "stream",
     "text": [
      "Model: \"simple_iris_model\"\n",
      "_________________________________________________________________\n",
      " Layer (type)                Output Shape              Param #   \n",
      "=================================================================\n",
      " input_47 (InputLayer)       [(None, 4)]               0         \n",
      "                                                                 \n",
      " dense_97 (Dense)            (None, 12)                60        \n",
      "                                                                 \n",
      " dense_98 (Dense)            (None, 3)                 39        \n",
      "                                                                 \n",
      "=================================================================\n",
      "Total params: 99\n",
      "Trainable params: 99\n",
      "Non-trainable params: 0\n",
      "_________________________________________________________________\n"
     ]
    }
   ],
   "source": [
    "model = Model(inputs=inputs, outputs=outputs, name=\"simple_iris_model\")\n",
    "model.summary()"
   ]
  },
  {
   "cell_type": "markdown",
   "id": "a52fdd91-72ee-47f2-b71d-8c5711055a74",
   "metadata": {},
   "source": [
    "**11)** [P] OK. Now compile your model. Look at the documentation for the compile() method. You'll need to specify the following parameters:\n",
    "\n",
    "a) Choose an optimizer – This is a GREATLY HEATED TOPIC on deep learning and ANN blogs. The facts:\n",
    "Stochastic Gradient Descent (SGD) is the quintessential standard. It is the basis of neural net learning. It is mathematically sound; however, it can suffer from the worst computational performance (i.e. timing to convergence.) All enhancements and newer methods are based on SGD. For SGD, an appropriate selection of a momentum parameter makes a huge difference, and papers have come out demonstrating that SGD + a good momentum parameter are as effective as the most hyped optimization techniques, if you can identify good parameters. (For example: https://arxiv.org/abs/1705.08292 ) Selecting good learning rates, momentum and other parameters is not easy. Theoretically, there are an infinite number of combinations you could choose. So, several other methods have come out to help address the challenges of selecting good parameters. Adam is most commonly used optimizer in practice for deep learning. So, use optimizer='sgd' to start, but then go back and set it to optimizer = 'adam'.\n",
    "\n",
    "b) Choose the loss function – This is the function that gives you the error that is backpropagated. Use loss='categorical_crossentropy' for this problem.\n",
    "\n",
    "c) Choose the performance metrics – Typically, you will stick with metrics=['accuracy'] here. You can do far more with your predictions later."
   ]
  },
  {
   "cell_type": "code",
   "execution_count": 197,
   "id": "4d1b5a5c-c367-4d93-bb3a-58fd1da0e73c",
   "metadata": {},
   "outputs": [],
   "source": [
    "# compile the model\n",
    "model.compile(optimizer='sgd', loss='categorical_crossentropy', metrics=['accuracy'])"
   ]
  },
  {
   "cell_type": "markdown",
   "id": "52464fd5-8f5b-4e36-8bf9-4fb7832d7aa0",
   "metadata": {},
   "source": [
    "**12)** [P] OK, your structure is set. Now you need to train the model. Look at the documentation for the fit()\n",
    "method. Use fit to train your model with X_train and your binarized y_train data. There are many \n",
    "additional parameters available that basically control how you perform weight updates. This is where, \n",
    "depending on your data size and your selection of parameters, you could be waiting a while. This is a SIMPLE \n",
    "dataset, and should take no more than a 5-10 seconds to get good results.\n",
    "\n",
    "You can start with the following:\n",
    "a) epochs = number of epochs to train the model. An epoch is an iteration over all your training data. You\n",
    "will need to experiment. Start with a value of 100.\n",
    "\n",
    "b) batch_size = number of samples per gradient update. Updating every instance will usually converge\n",
    "the earliest, but with high variance. At the other extreme, batch_size using the entire dataset is slow, but\n",
    "very smooth convergence. Experiment. Use 1, 5, 15. You'll need to select the number of epochs in\n",
    "conjunction with this parameter. For this simple problem, batch_size = 1 will likely work just fine.\n",
    "\n",
    "c) verbose = 1 will show output as training progresses. Very useful!\n",
    "\n",
    "d) Use validation_data to pass your test data for model validation purposes. This will make it easy to\n",
    "understand if your model is overfitting your data. (This slows things down a bit more, but it's so important\n",
    "to capture how your model is doing on BOTH training and test data!)\n",
    "The fit() method returns a History object. Look up what this is, and store this result! You'll use it in the\n",
    "next step!"
   ]
  },
  {
   "cell_type": "code",
   "execution_count": 198,
   "id": "843146ab-982e-4c2f-bec5-2ffb1764ac70",
   "metadata": {},
   "outputs": [
    {
     "name": "stdout",
     "output_type": "stream",
     "text": [
      "Epoch 1/100\n",
      "75/75 [==============================] - 1s 9ms/step - loss: 0.8332 - accuracy: 0.7333 - val_loss: 0.8111 - val_accuracy: 0.6533\n",
      "Epoch 2/100\n",
      "75/75 [==============================] - 0s 4ms/step - loss: 0.5900 - accuracy: 0.8267 - val_loss: 0.6581 - val_accuracy: 0.7200\n",
      "Epoch 3/100\n",
      "75/75 [==============================] - 0s 4ms/step - loss: 0.4702 - accuracy: 0.8667 - val_loss: 0.5807 - val_accuracy: 0.7333\n",
      "Epoch 4/100\n",
      "75/75 [==============================] - 0s 4ms/step - loss: 0.3994 - accuracy: 0.8667 - val_loss: 0.5327 - val_accuracy: 0.7467\n",
      "Epoch 5/100\n",
      "75/75 [==============================] - 0s 4ms/step - loss: 0.3491 - accuracy: 0.8667 - val_loss: 0.4917 - val_accuracy: 0.7733\n",
      "Epoch 6/100\n",
      "75/75 [==============================] - 0s 4ms/step - loss: 0.3128 - accuracy: 0.8800 - val_loss: 0.4699 - val_accuracy: 0.7733\n",
      "Epoch 7/100\n",
      "75/75 [==============================] - 0s 4ms/step - loss: 0.2839 - accuracy: 0.8933 - val_loss: 0.4533 - val_accuracy: 0.7733\n",
      "Epoch 8/100\n",
      "75/75 [==============================] - 0s 4ms/step - loss: 0.2602 - accuracy: 0.8800 - val_loss: 0.4371 - val_accuracy: 0.7867\n",
      "Epoch 9/100\n",
      "75/75 [==============================] - 0s 4ms/step - loss: 0.2395 - accuracy: 0.9067 - val_loss: 0.4223 - val_accuracy: 0.7867\n",
      "Epoch 10/100\n",
      "75/75 [==============================] - 0s 4ms/step - loss: 0.2212 - accuracy: 0.9200 - val_loss: 0.4135 - val_accuracy: 0.8000\n",
      "Epoch 11/100\n",
      "75/75 [==============================] - 0s 4ms/step - loss: 0.2065 - accuracy: 0.9200 - val_loss: 0.3991 - val_accuracy: 0.8133\n",
      "Epoch 12/100\n",
      "75/75 [==============================] - 0s 4ms/step - loss: 0.1926 - accuracy: 0.9467 - val_loss: 0.3868 - val_accuracy: 0.8133\n",
      "Epoch 13/100\n",
      "75/75 [==============================] - 0s 4ms/step - loss: 0.1797 - accuracy: 0.9467 - val_loss: 0.3761 - val_accuracy: 0.8133\n",
      "Epoch 14/100\n",
      "75/75 [==============================] - 0s 4ms/step - loss: 0.1679 - accuracy: 0.9467 - val_loss: 0.3720 - val_accuracy: 0.8400\n",
      "Epoch 15/100\n",
      "75/75 [==============================] - 0s 4ms/step - loss: 0.1579 - accuracy: 0.9600 - val_loss: 0.3563 - val_accuracy: 0.8133\n",
      "Epoch 16/100\n",
      "75/75 [==============================] - 0s 4ms/step - loss: 0.1489 - accuracy: 0.9733 - val_loss: 0.3485 - val_accuracy: 0.8533\n",
      "Epoch 17/100\n",
      "75/75 [==============================] - 0s 4ms/step - loss: 0.1392 - accuracy: 0.9733 - val_loss: 0.3369 - val_accuracy: 0.8267\n",
      "Epoch 18/100\n",
      "75/75 [==============================] - 0s 4ms/step - loss: 0.1326 - accuracy: 0.9733 - val_loss: 0.3295 - val_accuracy: 0.8533\n",
      "Epoch 19/100\n",
      "75/75 [==============================] - 0s 4ms/step - loss: 0.1259 - accuracy: 0.9733 - val_loss: 0.3246 - val_accuracy: 0.8667\n",
      "Epoch 20/100\n",
      "75/75 [==============================] - 0s 4ms/step - loss: 0.1189 - accuracy: 0.9733 - val_loss: 0.3185 - val_accuracy: 0.8667\n",
      "Epoch 21/100\n",
      "75/75 [==============================] - 0s 4ms/step - loss: 0.1133 - accuracy: 0.9733 - val_loss: 0.3119 - val_accuracy: 0.8667\n",
      "Epoch 22/100\n",
      "75/75 [==============================] - 0s 4ms/step - loss: 0.1080 - accuracy: 0.9867 - val_loss: 0.3087 - val_accuracy: 0.8667\n",
      "Epoch 23/100\n",
      "75/75 [==============================] - 0s 4ms/step - loss: 0.1031 - accuracy: 0.9867 - val_loss: 0.3013 - val_accuracy: 0.8933\n",
      "Epoch 24/100\n",
      "75/75 [==============================] - 0s 4ms/step - loss: 0.0984 - accuracy: 0.9867 - val_loss: 0.2947 - val_accuracy: 0.8933\n",
      "Epoch 25/100\n",
      "75/75 [==============================] - 0s 4ms/step - loss: 0.0943 - accuracy: 0.9867 - val_loss: 0.2926 - val_accuracy: 0.8933\n",
      "Epoch 26/100\n",
      "75/75 [==============================] - 0s 4ms/step - loss: 0.0903 - accuracy: 0.9867 - val_loss: 0.2853 - val_accuracy: 0.9067\n",
      "Epoch 27/100\n",
      "75/75 [==============================] - 0s 4ms/step - loss: 0.0869 - accuracy: 0.9867 - val_loss: 0.2817 - val_accuracy: 0.9067\n",
      "Epoch 28/100\n",
      "75/75 [==============================] - 0s 4ms/step - loss: 0.0840 - accuracy: 0.9867 - val_loss: 0.2802 - val_accuracy: 0.9067\n",
      "Epoch 29/100\n",
      "75/75 [==============================] - 0s 4ms/step - loss: 0.0807 - accuracy: 0.9867 - val_loss: 0.2756 - val_accuracy: 0.9200\n",
      "Epoch 30/100\n",
      "75/75 [==============================] - 0s 4ms/step - loss: 0.0780 - accuracy: 0.9867 - val_loss: 0.2732 - val_accuracy: 0.9200\n",
      "Epoch 31/100\n",
      "75/75 [==============================] - 0s 4ms/step - loss: 0.0752 - accuracy: 0.9867 - val_loss: 0.2695 - val_accuracy: 0.9200\n",
      "Epoch 32/100\n",
      "75/75 [==============================] - 0s 4ms/step - loss: 0.0725 - accuracy: 0.9867 - val_loss: 0.2703 - val_accuracy: 0.9200\n",
      "Epoch 33/100\n",
      "75/75 [==============================] - 0s 4ms/step - loss: 0.0704 - accuracy: 0.9867 - val_loss: 0.2644 - val_accuracy: 0.9200\n",
      "Epoch 34/100\n",
      "75/75 [==============================] - 0s 4ms/step - loss: 0.0682 - accuracy: 0.9867 - val_loss: 0.2642 - val_accuracy: 0.9200\n",
      "Epoch 35/100\n",
      "75/75 [==============================] - 0s 4ms/step - loss: 0.0662 - accuracy: 0.9867 - val_loss: 0.2628 - val_accuracy: 0.9200\n",
      "Epoch 36/100\n",
      "75/75 [==============================] - 0s 4ms/step - loss: 0.0645 - accuracy: 0.9867 - val_loss: 0.2584 - val_accuracy: 0.9200\n",
      "Epoch 37/100\n",
      "75/75 [==============================] - 0s 4ms/step - loss: 0.0624 - accuracy: 0.9867 - val_loss: 0.2542 - val_accuracy: 0.9200\n",
      "Epoch 38/100\n",
      "75/75 [==============================] - 0s 4ms/step - loss: 0.0605 - accuracy: 0.9867 - val_loss: 0.2536 - val_accuracy: 0.9200\n",
      "Epoch 39/100\n",
      "75/75 [==============================] - 0s 4ms/step - loss: 0.0592 - accuracy: 0.9867 - val_loss: 0.2497 - val_accuracy: 0.9200\n",
      "Epoch 40/100\n",
      "75/75 [==============================] - 0s 4ms/step - loss: 0.0576 - accuracy: 0.9867 - val_loss: 0.2482 - val_accuracy: 0.9200\n",
      "Epoch 41/100\n",
      "75/75 [==============================] - 0s 4ms/step - loss: 0.0559 - accuracy: 0.9867 - val_loss: 0.2475 - val_accuracy: 0.9200\n",
      "Epoch 42/100\n",
      "75/75 [==============================] - 0s 4ms/step - loss: 0.0547 - accuracy: 0.9867 - val_loss: 0.2452 - val_accuracy: 0.9200\n",
      "Epoch 43/100\n",
      "75/75 [==============================] - 0s 4ms/step - loss: 0.0535 - accuracy: 0.9867 - val_loss: 0.2433 - val_accuracy: 0.9200\n",
      "Epoch 44/100\n",
      "75/75 [==============================] - 0s 4ms/step - loss: 0.0522 - accuracy: 0.9867 - val_loss: 0.2410 - val_accuracy: 0.9200\n",
      "Epoch 45/100\n",
      "75/75 [==============================] - 0s 4ms/step - loss: 0.0510 - accuracy: 0.9867 - val_loss: 0.2394 - val_accuracy: 0.9200\n",
      "Epoch 46/100\n",
      "75/75 [==============================] - 0s 4ms/step - loss: 0.0499 - accuracy: 0.9867 - val_loss: 0.2373 - val_accuracy: 0.9200\n",
      "Epoch 47/100\n",
      "75/75 [==============================] - 0s 4ms/step - loss: 0.0488 - accuracy: 0.9867 - val_loss: 0.2365 - val_accuracy: 0.9200\n",
      "Epoch 48/100\n",
      "75/75 [==============================] - 0s 4ms/step - loss: 0.0476 - accuracy: 0.9867 - val_loss: 0.2364 - val_accuracy: 0.9200\n",
      "Epoch 49/100\n",
      "75/75 [==============================] - 0s 4ms/step - loss: 0.0470 - accuracy: 0.9867 - val_loss: 0.2347 - val_accuracy: 0.9200\n",
      "Epoch 50/100\n",
      "75/75 [==============================] - 0s 4ms/step - loss: 0.0458 - accuracy: 0.9867 - val_loss: 0.2326 - val_accuracy: 0.9200\n",
      "Epoch 51/100\n",
      "75/75 [==============================] - 0s 4ms/step - loss: 0.0447 - accuracy: 0.9867 - val_loss: 0.2331 - val_accuracy: 0.9200\n",
      "Epoch 52/100\n",
      "75/75 [==============================] - 0s 4ms/step - loss: 0.0443 - accuracy: 0.9867 - val_loss: 0.2314 - val_accuracy: 0.9200\n",
      "Epoch 53/100\n",
      "75/75 [==============================] - 0s 4ms/step - loss: 0.0435 - accuracy: 0.9867 - val_loss: 0.2307 - val_accuracy: 0.9200\n",
      "Epoch 54/100\n",
      "75/75 [==============================] - 0s 4ms/step - loss: 0.0426 - accuracy: 0.9867 - val_loss: 0.2288 - val_accuracy: 0.9200\n",
      "Epoch 55/100\n",
      "75/75 [==============================] - 0s 4ms/step - loss: 0.0418 - accuracy: 0.9867 - val_loss: 0.2274 - val_accuracy: 0.9200\n",
      "Epoch 56/100\n",
      "75/75 [==============================] - 0s 4ms/step - loss: 0.0411 - accuracy: 0.9867 - val_loss: 0.2273 - val_accuracy: 0.9200\n",
      "Epoch 57/100\n",
      "75/75 [==============================] - 0s 4ms/step - loss: 0.0403 - accuracy: 0.9867 - val_loss: 0.2270 - val_accuracy: 0.9200\n",
      "Epoch 58/100\n",
      "75/75 [==============================] - 0s 4ms/step - loss: 0.0398 - accuracy: 0.9867 - val_loss: 0.2253 - val_accuracy: 0.9200\n",
      "Epoch 59/100\n",
      "75/75 [==============================] - 0s 4ms/step - loss: 0.0392 - accuracy: 0.9867 - val_loss: 0.2242 - val_accuracy: 0.9200\n",
      "Epoch 60/100\n",
      "75/75 [==============================] - 0s 4ms/step - loss: 0.0385 - accuracy: 0.9867 - val_loss: 0.2238 - val_accuracy: 0.9200\n",
      "Epoch 61/100\n",
      "75/75 [==============================] - 0s 4ms/step - loss: 0.0378 - accuracy: 0.9867 - val_loss: 0.2234 - val_accuracy: 0.9200\n",
      "Epoch 62/100\n",
      "75/75 [==============================] - 0s 4ms/step - loss: 0.0373 - accuracy: 0.9867 - val_loss: 0.2231 - val_accuracy: 0.9200\n",
      "Epoch 63/100\n",
      "75/75 [==============================] - 0s 4ms/step - loss: 0.0367 - accuracy: 0.9867 - val_loss: 0.2224 - val_accuracy: 0.9200\n",
      "Epoch 64/100\n",
      "75/75 [==============================] - 0s 4ms/step - loss: 0.0360 - accuracy: 0.9867 - val_loss: 0.2212 - val_accuracy: 0.9067\n",
      "Epoch 65/100\n",
      "75/75 [==============================] - 0s 4ms/step - loss: 0.0352 - accuracy: 0.9867 - val_loss: 0.2210 - val_accuracy: 0.9200\n",
      "Epoch 66/100\n",
      "75/75 [==============================] - 0s 4ms/step - loss: 0.0351 - accuracy: 0.9867 - val_loss: 0.2210 - val_accuracy: 0.9200\n",
      "Epoch 67/100\n",
      "75/75 [==============================] - 0s 4ms/step - loss: 0.0346 - accuracy: 0.9867 - val_loss: 0.2206 - val_accuracy: 0.9200\n",
      "Epoch 68/100\n",
      "75/75 [==============================] - 0s 4ms/step - loss: 0.0341 - accuracy: 0.9867 - val_loss: 0.2192 - val_accuracy: 0.9067\n",
      "Epoch 69/100\n",
      "75/75 [==============================] - 0s 4ms/step - loss: 0.0336 - accuracy: 0.9867 - val_loss: 0.2185 - val_accuracy: 0.9067\n",
      "Epoch 70/100\n",
      "75/75 [==============================] - 0s 4ms/step - loss: 0.0332 - accuracy: 0.9867 - val_loss: 0.2178 - val_accuracy: 0.9067\n",
      "Epoch 71/100\n",
      "75/75 [==============================] - 0s 4ms/step - loss: 0.0327 - accuracy: 0.9867 - val_loss: 0.2174 - val_accuracy: 0.9067\n",
      "Epoch 72/100\n",
      "75/75 [==============================] - 0s 4ms/step - loss: 0.0322 - accuracy: 0.9867 - val_loss: 0.2173 - val_accuracy: 0.9067\n",
      "Epoch 73/100\n",
      "75/75 [==============================] - 0s 4ms/step - loss: 0.0316 - accuracy: 1.0000 - val_loss: 0.2167 - val_accuracy: 0.9067\n",
      "Epoch 74/100\n",
      "75/75 [==============================] - 0s 4ms/step - loss: 0.0314 - accuracy: 0.9867 - val_loss: 0.2162 - val_accuracy: 0.9067\n",
      "Epoch 75/100\n",
      "75/75 [==============================] - 0s 4ms/step - loss: 0.0309 - accuracy: 1.0000 - val_loss: 0.2160 - val_accuracy: 0.9067\n",
      "Epoch 76/100\n",
      "75/75 [==============================] - 0s 4ms/step - loss: 0.0306 - accuracy: 0.9867 - val_loss: 0.2151 - val_accuracy: 0.9067\n",
      "Epoch 77/100\n",
      "75/75 [==============================] - 0s 4ms/step - loss: 0.0302 - accuracy: 1.0000 - val_loss: 0.2148 - val_accuracy: 0.9067\n",
      "Epoch 78/100\n",
      "75/75 [==============================] - 0s 4ms/step - loss: 0.0297 - accuracy: 0.9867 - val_loss: 0.2147 - val_accuracy: 0.9067\n",
      "Epoch 79/100\n",
      "75/75 [==============================] - 0s 4ms/step - loss: 0.0294 - accuracy: 0.9867 - val_loss: 0.2148 - val_accuracy: 0.9067\n",
      "Epoch 80/100\n",
      "75/75 [==============================] - 0s 4ms/step - loss: 0.0290 - accuracy: 0.9867 - val_loss: 0.2139 - val_accuracy: 0.9067\n",
      "Epoch 81/100\n",
      "75/75 [==============================] - 0s 4ms/step - loss: 0.0286 - accuracy: 0.9867 - val_loss: 0.2135 - val_accuracy: 0.9200\n",
      "Epoch 82/100\n",
      "75/75 [==============================] - 0s 4ms/step - loss: 0.0283 - accuracy: 0.9867 - val_loss: 0.2134 - val_accuracy: 0.9200\n",
      "Epoch 83/100\n",
      "75/75 [==============================] - 0s 4ms/step - loss: 0.0279 - accuracy: 1.0000 - val_loss: 0.2130 - val_accuracy: 0.9200\n",
      "Epoch 84/100\n",
      "75/75 [==============================] - 0s 4ms/step - loss: 0.0277 - accuracy: 1.0000 - val_loss: 0.2129 - val_accuracy: 0.9200\n",
      "Epoch 85/100\n",
      "75/75 [==============================] - 0s 4ms/step - loss: 0.0273 - accuracy: 1.0000 - val_loss: 0.2128 - val_accuracy: 0.9200\n",
      "Epoch 86/100\n",
      "75/75 [==============================] - 0s 4ms/step - loss: 0.0270 - accuracy: 0.9867 - val_loss: 0.2123 - val_accuracy: 0.9200\n",
      "Epoch 87/100\n",
      "75/75 [==============================] - 0s 4ms/step - loss: 0.0267 - accuracy: 1.0000 - val_loss: 0.2117 - val_accuracy: 0.9200\n",
      "Epoch 88/100\n",
      "75/75 [==============================] - 0s 4ms/step - loss: 0.0263 - accuracy: 1.0000 - val_loss: 0.2117 - val_accuracy: 0.9200\n",
      "Epoch 89/100\n",
      "75/75 [==============================] - 0s 4ms/step - loss: 0.0260 - accuracy: 1.0000 - val_loss: 0.2112 - val_accuracy: 0.9200\n",
      "Epoch 90/100\n",
      "75/75 [==============================] - 0s 4ms/step - loss: 0.0256 - accuracy: 1.0000 - val_loss: 0.2114 - val_accuracy: 0.9200\n",
      "Epoch 91/100\n",
      "75/75 [==============================] - 0s 4ms/step - loss: 0.0254 - accuracy: 1.0000 - val_loss: 0.2111 - val_accuracy: 0.9200\n",
      "Epoch 92/100\n",
      "75/75 [==============================] - 0s 4ms/step - loss: 0.0252 - accuracy: 1.0000 - val_loss: 0.2110 - val_accuracy: 0.9200\n",
      "Epoch 93/100\n",
      "75/75 [==============================] - 0s 4ms/step - loss: 0.0247 - accuracy: 1.0000 - val_loss: 0.2109 - val_accuracy: 0.9200\n",
      "Epoch 94/100\n",
      "75/75 [==============================] - 0s 4ms/step - loss: 0.0245 - accuracy: 1.0000 - val_loss: 0.2109 - val_accuracy: 0.9200\n",
      "Epoch 95/100\n",
      "75/75 [==============================] - 0s 4ms/step - loss: 0.0242 - accuracy: 1.0000 - val_loss: 0.2107 - val_accuracy: 0.9200\n",
      "Epoch 96/100\n",
      "75/75 [==============================] - 0s 4ms/step - loss: 0.0241 - accuracy: 1.0000 - val_loss: 0.2111 - val_accuracy: 0.9200\n",
      "Epoch 97/100\n",
      "75/75 [==============================] - 0s 4ms/step - loss: 0.0237 - accuracy: 1.0000 - val_loss: 0.2109 - val_accuracy: 0.9200\n",
      "Epoch 98/100\n",
      "75/75 [==============================] - 0s 4ms/step - loss: 0.0235 - accuracy: 1.0000 - val_loss: 0.2106 - val_accuracy: 0.9200\n",
      "Epoch 99/100\n",
      "75/75 [==============================] - 0s 4ms/step - loss: 0.0233 - accuracy: 1.0000 - val_loss: 0.2103 - val_accuracy: 0.9200\n",
      "Epoch 100/100\n",
      "75/75 [==============================] - 0s 4ms/step - loss: 0.0231 - accuracy: 1.0000 - val_loss: 0.2101 - val_accuracy: 0.9200\n"
     ]
    }
   ],
   "source": [
    "# train the model, the output history is a dictionary containing\n",
    "# information of accuracy and loss for every step\n",
    "history = model.fit(X_train, y_train_binarized,\n",
    "                    epochs=100, batch_size=1, verbose=1,\n",
    "                    validation_data=(X_test, y_test_binarized))"
   ]
  },
  {
   "cell_type": "markdown",
   "id": "025d046b-1ba0-4f6b-98a3-b2a28b78b479",
   "metadata": {},
   "source": [
    "**13)** [P] It's important to understand your accuracy and loss rates as your model proceeds through training. \n",
    "Visualize the loss on training and test data. Look at the code presented here:\n",
    "https://machinelearningmastery.com/display-deep-learning-model-training-history-in-keras/. You may adapt \n",
    "it, or make it more fancy if you choose to do so. Pay attention to the section of code that shows Training \n",
    "history visualization. If you did everything correctly, you should show two graphs, one for model loss, and one \n",
    "for model accuracy. "
   ]
  },
  {
   "cell_type": "code",
   "execution_count": 199,
   "id": "494d0c7e-276e-4787-adab-935afc7da0a6",
   "metadata": {},
   "outputs": [
    {
     "data": {
      "text/plain": "<Figure size 640x480 with 1 Axes>",
      "image/png": "[encoded data removed]"
     },
     "metadata": {},
     "output_type": "display_data"
    },
    {
     "data": {
      "text/plain": "<Figure size 640x480 with 1 Axes>",
      "image/png": "[encoded data removed]"
     },
     "metadata": {},
     "output_type": "display_data"
    }
   ],
   "source": [
    "# summarize history for accuracy\n",
    "plt.plot(history.history['accuracy'])\n",
    "plt.plot(history.history['val_accuracy'])\n",
    "plt.title('model accuracy')\n",
    "plt.ylabel('accuracy')\n",
    "plt.xlabel('epoch')\n",
    "plt.legend(['train', 'test'], loc='upper left')\n",
    "plt.show()\n",
    "# summarize history for loss\n",
    "plt.plot(history.history['loss'])\n",
    "plt.plot(history.history['val_loss'])\n",
    "plt.title('model loss')\n",
    "plt.ylabel('loss')\n",
    "plt.xlabel('epoch')\n",
    "plt.legend(['train', 'test'], loc='upper left')\n",
    "plt.show()"
   ]
  },
  {
   "cell_type": "markdown",
   "id": "3e4fbde8-8a8f-4ff0-96d9-f4099a6f8cda",
   "metadata": {},
   "source": [
    "**14)** [P] – THIS STEP IS OPTIONAL! Look at the example flow of a keras project as presented in \n",
    "https://keras.io/guides/functional_api/. Notice the steps to plot the model as a graph. You can generate a nice \n",
    "visualization of the model. You don't need to do it for this step, but might be good to try out and know how to \n",
    "do for your future. "
   ]
  },
  {
   "cell_type": "code",
   "execution_count": 200,
   "id": "62558df4-00bf-4a33-b9f1-c97af470e507",
   "metadata": {},
   "outputs": [
    {
     "data": {
      "image/png": "[encoded data removed]",
      "text/plain": "<IPython.core.display.Image object>"
     },
     "execution_count": 200,
     "metadata": {},
     "output_type": "execute_result"
    }
   ],
   "source": [
    "keras.utils.plot_model(model, \"mini_resnet.png\", show_shapes=True)"
   ]
  },
  {
   "cell_type": "markdown",
   "id": "bf05c5c5-8229-41f6-8493-d2bc93544653",
   "metadata": {},
   "source": [
    "**15)** [P] Try to change some parameters with the model. However, instead of copying and pasting each individual\n",
    "line you wrote above, follow the approach of creating the entire structure in a single notebook cell."
   ]
  },
  {
   "cell_type": "code",
   "execution_count": 201,
   "id": "eb3fed25-6fd5-41f6-9e8e-218b2c8d617c",
   "metadata": {},
   "outputs": [
    {
     "name": "stdout",
     "output_type": "stream",
     "text": [
      "Epoch 1/130\n",
      "75/75 [==============================] - 2s 9ms/step - loss: 0.9425 - accuracy: 0.6800 - val_loss: 0.7242 - val_accuracy: 0.8000\n",
      "Epoch 2/130\n",
      "75/75 [==============================] - 0s 4ms/step - loss: 0.5788 - accuracy: 0.8667 - val_loss: 0.5483 - val_accuracy: 0.8000\n",
      "Epoch 3/130\n",
      "75/75 [==============================] - 0s 4ms/step - loss: 0.4396 - accuracy: 0.8800 - val_loss: 0.4734 - val_accuracy: 0.8267\n",
      "Epoch 4/130\n",
      "75/75 [==============================] - 0s 4ms/step - loss: 0.3649 - accuracy: 0.8933 - val_loss: 0.4306 - val_accuracy: 0.8400\n",
      "Epoch 5/130\n",
      "75/75 [==============================] - 0s 4ms/step - loss: 0.3156 - accuracy: 0.9200 - val_loss: 0.4027 - val_accuracy: 0.8800\n",
      "Epoch 6/130\n",
      "75/75 [==============================] - 0s 4ms/step - loss: 0.2777 - accuracy: 0.9200 - val_loss: 0.3805 - val_accuracy: 0.8800\n",
      "Epoch 7/130\n",
      "75/75 [==============================] - 0s 4ms/step - loss: 0.2505 - accuracy: 0.9200 - val_loss: 0.3530 - val_accuracy: 0.8800\n",
      "Epoch 8/130\n",
      "75/75 [==============================] - 0s 4ms/step - loss: 0.2252 - accuracy: 0.9200 - val_loss: 0.3362 - val_accuracy: 0.8800\n",
      "Epoch 9/130\n",
      "75/75 [==============================] - 0s 4ms/step - loss: 0.2035 - accuracy: 0.9467 - val_loss: 0.3193 - val_accuracy: 0.8800\n",
      "Epoch 10/130\n",
      "75/75 [==============================] - 0s 4ms/step - loss: 0.1849 - accuracy: 0.9467 - val_loss: 0.3008 - val_accuracy: 0.8933\n",
      "Epoch 11/130\n",
      "75/75 [==============================] - 0s 4ms/step - loss: 0.1662 - accuracy: 0.9600 - val_loss: 0.2852 - val_accuracy: 0.9067\n",
      "Epoch 12/130\n",
      "75/75 [==============================] - 0s 4ms/step - loss: 0.1496 - accuracy: 0.9733 - val_loss: 0.2698 - val_accuracy: 0.9067\n",
      "Epoch 13/130\n",
      "75/75 [==============================] - 0s 4ms/step - loss: 0.1366 - accuracy: 0.9733 - val_loss: 0.2570 - val_accuracy: 0.9067\n",
      "Epoch 14/130\n",
      "75/75 [==============================] - 0s 4ms/step - loss: 0.1237 - accuracy: 0.9867 - val_loss: 0.2400 - val_accuracy: 0.8933\n",
      "Epoch 15/130\n",
      "75/75 [==============================] - 0s 4ms/step - loss: 0.1114 - accuracy: 0.9867 - val_loss: 0.2294 - val_accuracy: 0.9067\n",
      "Epoch 16/130\n",
      "75/75 [==============================] - 0s 4ms/step - loss: 0.0989 - accuracy: 0.9867 - val_loss: 0.2192 - val_accuracy: 0.9200\n",
      "Epoch 17/130\n",
      "75/75 [==============================] - 0s 4ms/step - loss: 0.0908 - accuracy: 0.9867 - val_loss: 0.2092 - val_accuracy: 0.9200\n",
      "Epoch 18/130\n",
      "75/75 [==============================] - 0s 4ms/step - loss: 0.0827 - accuracy: 0.9867 - val_loss: 0.2009 - val_accuracy: 0.9200\n",
      "Epoch 19/130\n",
      "75/75 [==============================] - 0s 4ms/step - loss: 0.0756 - accuracy: 0.9867 - val_loss: 0.1933 - val_accuracy: 0.9200\n",
      "Epoch 20/130\n",
      "75/75 [==============================] - 0s 4ms/step - loss: 0.0706 - accuracy: 0.9867 - val_loss: 0.1851 - val_accuracy: 0.9333\n",
      "Epoch 21/130\n",
      "75/75 [==============================] - 0s 4ms/step - loss: 0.0634 - accuracy: 1.0000 - val_loss: 0.1782 - val_accuracy: 0.9333\n",
      "Epoch 22/130\n",
      "75/75 [==============================] - 0s 4ms/step - loss: 0.0590 - accuracy: 0.9867 - val_loss: 0.1724 - val_accuracy: 0.9333\n",
      "Epoch 23/130\n",
      "75/75 [==============================] - 0s 4ms/step - loss: 0.0552 - accuracy: 0.9867 - val_loss: 0.1689 - val_accuracy: 0.9333\n",
      "Epoch 24/130\n",
      "75/75 [==============================] - 0s 4ms/step - loss: 0.0502 - accuracy: 0.9867 - val_loss: 0.1638 - val_accuracy: 0.9333\n",
      "Epoch 25/130\n",
      "75/75 [==============================] - 0s 4ms/step - loss: 0.0485 - accuracy: 0.9867 - val_loss: 0.1621 - val_accuracy: 0.9333\n",
      "Epoch 26/130\n",
      "75/75 [==============================] - 0s 4ms/step - loss: 0.0428 - accuracy: 1.0000 - val_loss: 0.1534 - val_accuracy: 0.9333\n",
      "Epoch 27/130\n",
      "75/75 [==============================] - 0s 4ms/step - loss: 0.0409 - accuracy: 0.9867 - val_loss: 0.1537 - val_accuracy: 0.9333\n",
      "Epoch 28/130\n",
      "75/75 [==============================] - 0s 4ms/step - loss: 0.0385 - accuracy: 1.0000 - val_loss: 0.1486 - val_accuracy: 0.9333\n",
      "Epoch 29/130\n",
      "75/75 [==============================] - 0s 4ms/step - loss: 0.0360 - accuracy: 0.9867 - val_loss: 0.1485 - val_accuracy: 0.9333\n",
      "Epoch 30/130\n",
      "75/75 [==============================] - 0s 4ms/step - loss: 0.0340 - accuracy: 1.0000 - val_loss: 0.1489 - val_accuracy: 0.9333\n",
      "Epoch 31/130\n",
      "75/75 [==============================] - 0s 4ms/step - loss: 0.0321 - accuracy: 1.0000 - val_loss: 0.1450 - val_accuracy: 0.9333\n",
      "Epoch 32/130\n",
      "75/75 [==============================] - 0s 4ms/step - loss: 0.0301 - accuracy: 1.0000 - val_loss: 0.1433 - val_accuracy: 0.9333\n",
      "Epoch 33/130\n",
      "75/75 [==============================] - 0s 4ms/step - loss: 0.0278 - accuracy: 1.0000 - val_loss: 0.1418 - val_accuracy: 0.9333\n",
      "Epoch 34/130\n",
      "75/75 [==============================] - 0s 4ms/step - loss: 0.0275 - accuracy: 1.0000 - val_loss: 0.1395 - val_accuracy: 0.9333\n",
      "Epoch 35/130\n",
      "75/75 [==============================] - 0s 4ms/step - loss: 0.0248 - accuracy: 1.0000 - val_loss: 0.1427 - val_accuracy: 0.9467\n",
      "Epoch 36/130\n",
      "75/75 [==============================] - 0s 4ms/step - loss: 0.0249 - accuracy: 1.0000 - val_loss: 0.1388 - val_accuracy: 0.9333\n",
      "Epoch 37/130\n",
      "75/75 [==============================] - 0s 4ms/step - loss: 0.0231 - accuracy: 1.0000 - val_loss: 0.1375 - val_accuracy: 0.9467\n",
      "Epoch 38/130\n",
      "75/75 [==============================] - 0s 4ms/step - loss: 0.0224 - accuracy: 1.0000 - val_loss: 0.1386 - val_accuracy: 0.9333\n",
      "Epoch 39/130\n",
      "75/75 [==============================] - 0s 4ms/step - loss: 0.0219 - accuracy: 1.0000 - val_loss: 0.1389 - val_accuracy: 0.9467\n",
      "Epoch 40/130\n",
      "75/75 [==============================] - 0s 4ms/step - loss: 0.0200 - accuracy: 1.0000 - val_loss: 0.1353 - val_accuracy: 0.9333\n",
      "Epoch 41/130\n",
      "75/75 [==============================] - 0s 4ms/step - loss: 0.0199 - accuracy: 1.0000 - val_loss: 0.1398 - val_accuracy: 0.9333\n",
      "Epoch 42/130\n",
      "75/75 [==============================] - 0s 4ms/step - loss: 0.0190 - accuracy: 1.0000 - val_loss: 0.1415 - val_accuracy: 0.9333\n",
      "Epoch 43/130\n",
      "75/75 [==============================] - 0s 4ms/step - loss: 0.0176 - accuracy: 1.0000 - val_loss: 0.1394 - val_accuracy: 0.9333\n",
      "Epoch 44/130\n",
      "75/75 [==============================] - 0s 4ms/step - loss: 0.0169 - accuracy: 1.0000 - val_loss: 0.1371 - val_accuracy: 0.9333\n",
      "Epoch 45/130\n",
      "75/75 [==============================] - 0s 4ms/step - loss: 0.0158 - accuracy: 1.0000 - val_loss: 0.1319 - val_accuracy: 0.9467\n",
      "Epoch 46/130\n",
      "75/75 [==============================] - 0s 4ms/step - loss: 0.0152 - accuracy: 1.0000 - val_loss: 0.1370 - val_accuracy: 0.9333\n",
      "Epoch 47/130\n",
      "75/75 [==============================] - 0s 4ms/step - loss: 0.0149 - accuracy: 1.0000 - val_loss: 0.1355 - val_accuracy: 0.9467\n",
      "Epoch 48/130\n",
      "75/75 [==============================] - 0s 4ms/step - loss: 0.0136 - accuracy: 1.0000 - val_loss: 0.1407 - val_accuracy: 0.9333\n",
      "Epoch 49/130\n",
      "75/75 [==============================] - 0s 4ms/step - loss: 0.0139 - accuracy: 1.0000 - val_loss: 0.1378 - val_accuracy: 0.9333\n",
      "Epoch 50/130\n",
      "75/75 [==============================] - 0s 4ms/step - loss: 0.0131 - accuracy: 1.0000 - val_loss: 0.1424 - val_accuracy: 0.9333\n",
      "Epoch 51/130\n",
      "75/75 [==============================] - 0s 4ms/step - loss: 0.0122 - accuracy: 1.0000 - val_loss: 0.1345 - val_accuracy: 0.9467\n",
      "Epoch 52/130\n",
      "75/75 [==============================] - 0s 4ms/step - loss: 0.0127 - accuracy: 1.0000 - val_loss: 0.1350 - val_accuracy: 0.9467\n",
      "Epoch 53/130\n",
      "75/75 [==============================] - 0s 4ms/step - loss: 0.0112 - accuracy: 1.0000 - val_loss: 0.1423 - val_accuracy: 0.9333\n",
      "Epoch 54/130\n",
      "75/75 [==============================] - 0s 4ms/step - loss: 0.0112 - accuracy: 1.0000 - val_loss: 0.1401 - val_accuracy: 0.9333\n",
      "Epoch 55/130\n",
      "75/75 [==============================] - 0s 4ms/step - loss: 0.0101 - accuracy: 1.0000 - val_loss: 0.1446 - val_accuracy: 0.9333\n",
      "Epoch 56/130\n",
      "75/75 [==============================] - 0s 4ms/step - loss: 0.0101 - accuracy: 1.0000 - val_loss: 0.1458 - val_accuracy: 0.9333\n",
      "Epoch 57/130\n",
      "75/75 [==============================] - 0s 4ms/step - loss: 0.0104 - accuracy: 1.0000 - val_loss: 0.1510 - val_accuracy: 0.9333\n",
      "Epoch 58/130\n",
      "75/75 [==============================] - 0s 4ms/step - loss: 0.0102 - accuracy: 1.0000 - val_loss: 0.1524 - val_accuracy: 0.9333\n",
      "Epoch 59/130\n",
      "75/75 [==============================] - 0s 4ms/step - loss: 0.0094 - accuracy: 1.0000 - val_loss: 0.1437 - val_accuracy: 0.9333\n",
      "Epoch 60/130\n",
      "75/75 [==============================] - 0s 4ms/step - loss: 0.0091 - accuracy: 1.0000 - val_loss: 0.1510 - val_accuracy: 0.9333\n",
      "Epoch 61/130\n",
      "75/75 [==============================] - 0s 4ms/step - loss: 0.0081 - accuracy: 1.0000 - val_loss: 0.1486 - val_accuracy: 0.9333\n",
      "Epoch 62/130\n",
      "75/75 [==============================] - 0s 4ms/step - loss: 0.0084 - accuracy: 1.0000 - val_loss: 0.1533 - val_accuracy: 0.9333\n",
      "Epoch 63/130\n",
      "75/75 [==============================] - 0s 4ms/step - loss: 0.0079 - accuracy: 1.0000 - val_loss: 0.1592 - val_accuracy: 0.9333\n",
      "Epoch 64/130\n",
      "75/75 [==============================] - 0s 4ms/step - loss: 0.0074 - accuracy: 1.0000 - val_loss: 0.1499 - val_accuracy: 0.9333\n",
      "Epoch 65/130\n",
      "75/75 [==============================] - 0s 4ms/step - loss: 0.0074 - accuracy: 1.0000 - val_loss: 0.1579 - val_accuracy: 0.9333\n",
      "Epoch 66/130\n",
      "75/75 [==============================] - 0s 4ms/step - loss: 0.0066 - accuracy: 1.0000 - val_loss: 0.1576 - val_accuracy: 0.9333\n",
      "Epoch 67/130\n",
      "75/75 [==============================] - 0s 4ms/step - loss: 0.0064 - accuracy: 1.0000 - val_loss: 0.1614 - val_accuracy: 0.9333\n",
      "Epoch 68/130\n",
      "75/75 [==============================] - 0s 4ms/step - loss: 0.0061 - accuracy: 1.0000 - val_loss: 0.1523 - val_accuracy: 0.9333\n",
      "Epoch 69/130\n",
      "75/75 [==============================] - 0s 4ms/step - loss: 0.0061 - accuracy: 1.0000 - val_loss: 0.1585 - val_accuracy: 0.9333\n",
      "Epoch 70/130\n",
      "75/75 [==============================] - 0s 4ms/step - loss: 0.0058 - accuracy: 1.0000 - val_loss: 0.1610 - val_accuracy: 0.9333\n",
      "Epoch 71/130\n",
      "75/75 [==============================] - 0s 4ms/step - loss: 0.0057 - accuracy: 1.0000 - val_loss: 0.1640 - val_accuracy: 0.9333\n",
      "Epoch 72/130\n",
      "75/75 [==============================] - 0s 4ms/step - loss: 0.0053 - accuracy: 1.0000 - val_loss: 0.1644 - val_accuracy: 0.9333\n",
      "Epoch 73/130\n",
      "75/75 [==============================] - 0s 4ms/step - loss: 0.0051 - accuracy: 1.0000 - val_loss: 0.1573 - val_accuracy: 0.9333\n",
      "Epoch 74/130\n",
      "75/75 [==============================] - 0s 4ms/step - loss: 0.0048 - accuracy: 1.0000 - val_loss: 0.1786 - val_accuracy: 0.9333\n",
      "Epoch 75/130\n",
      "75/75 [==============================] - 0s 4ms/step - loss: 0.0042 - accuracy: 1.0000 - val_loss: 0.1633 - val_accuracy: 0.9333\n",
      "Epoch 76/130\n",
      "75/75 [==============================] - 0s 4ms/step - loss: 0.0045 - accuracy: 1.0000 - val_loss: 0.1638 - val_accuracy: 0.9333\n",
      "Epoch 77/130\n",
      "75/75 [==============================] - 0s 4ms/step - loss: 0.0044 - accuracy: 1.0000 - val_loss: 0.1707 - val_accuracy: 0.9333\n",
      "Epoch 78/130\n",
      "75/75 [==============================] - 0s 4ms/step - loss: 0.0041 - accuracy: 1.0000 - val_loss: 0.1675 - val_accuracy: 0.9333\n",
      "Epoch 79/130\n",
      "75/75 [==============================] - 0s 4ms/step - loss: 0.0040 - accuracy: 1.0000 - val_loss: 0.1668 - val_accuracy: 0.9333\n",
      "Epoch 80/130\n",
      "75/75 [==============================] - 0s 4ms/step - loss: 0.0040 - accuracy: 1.0000 - val_loss: 0.1728 - val_accuracy: 0.9333\n",
      "Epoch 81/130\n",
      "75/75 [==============================] - 0s 4ms/step - loss: 0.0037 - accuracy: 1.0000 - val_loss: 0.1753 - val_accuracy: 0.9333\n",
      "Epoch 82/130\n",
      "75/75 [==============================] - 0s 4ms/step - loss: 0.0036 - accuracy: 1.0000 - val_loss: 0.1743 - val_accuracy: 0.9333\n",
      "Epoch 83/130\n",
      "75/75 [==============================] - 0s 4ms/step - loss: 0.0037 - accuracy: 1.0000 - val_loss: 0.1814 - val_accuracy: 0.9333\n",
      "Epoch 84/130\n",
      "75/75 [==============================] - 0s 4ms/step - loss: 0.0034 - accuracy: 1.0000 - val_loss: 0.1817 - val_accuracy: 0.9333\n",
      "Epoch 85/130\n",
      "75/75 [==============================] - 0s 4ms/step - loss: 0.0032 - accuracy: 1.0000 - val_loss: 0.1786 - val_accuracy: 0.9333\n",
      "Epoch 86/130\n",
      "75/75 [==============================] - 0s 4ms/step - loss: 0.0030 - accuracy: 1.0000 - val_loss: 0.1764 - val_accuracy: 0.9333\n",
      "Epoch 87/130\n",
      "75/75 [==============================] - 0s 4ms/step - loss: 0.0028 - accuracy: 1.0000 - val_loss: 0.1858 - val_accuracy: 0.9333\n",
      "Epoch 88/130\n",
      "75/75 [==============================] - 0s 4ms/step - loss: 0.0028 - accuracy: 1.0000 - val_loss: 0.1853 - val_accuracy: 0.9333\n",
      "Epoch 89/130\n",
      "75/75 [==============================] - 0s 4ms/step - loss: 0.0028 - accuracy: 1.0000 - val_loss: 0.1955 - val_accuracy: 0.9333\n",
      "Epoch 90/130\n",
      "75/75 [==============================] - 0s 4ms/step - loss: 0.0025 - accuracy: 1.0000 - val_loss: 0.1859 - val_accuracy: 0.9333\n",
      "Epoch 91/130\n",
      "75/75 [==============================] - 0s 4ms/step - loss: 0.0025 - accuracy: 1.0000 - val_loss: 0.1935 - val_accuracy: 0.9333\n",
      "Epoch 92/130\n",
      "75/75 [==============================] - 0s 4ms/step - loss: 0.0025 - accuracy: 1.0000 - val_loss: 0.1867 - val_accuracy: 0.9333\n",
      "Epoch 93/130\n",
      "75/75 [==============================] - 0s 4ms/step - loss: 0.0022 - accuracy: 1.0000 - val_loss: 0.1936 - val_accuracy: 0.9333\n",
      "Epoch 94/130\n",
      "75/75 [==============================] - 0s 4ms/step - loss: 0.0022 - accuracy: 1.0000 - val_loss: 0.1977 - val_accuracy: 0.9333\n",
      "Epoch 95/130\n",
      "75/75 [==============================] - 0s 4ms/step - loss: 0.0020 - accuracy: 1.0000 - val_loss: 0.1985 - val_accuracy: 0.9333\n",
      "Epoch 96/130\n",
      "75/75 [==============================] - 0s 4ms/step - loss: 0.0019 - accuracy: 1.0000 - val_loss: 0.1935 - val_accuracy: 0.9333\n",
      "Epoch 97/130\n",
      "75/75 [==============================] - 0s 4ms/step - loss: 0.0019 - accuracy: 1.0000 - val_loss: 0.1881 - val_accuracy: 0.9333\n",
      "Epoch 98/130\n",
      "75/75 [==============================] - 0s 4ms/step - loss: 0.0020 - accuracy: 1.0000 - val_loss: 0.1965 - val_accuracy: 0.9333\n",
      "Epoch 99/130\n",
      "75/75 [==============================] - 0s 4ms/step - loss: 0.0019 - accuracy: 1.0000 - val_loss: 0.2002 - val_accuracy: 0.9333\n",
      "Epoch 100/130\n",
      "75/75 [==============================] - 0s 4ms/step - loss: 0.0017 - accuracy: 1.0000 - val_loss: 0.2083 - val_accuracy: 0.9333\n",
      "Epoch 101/130\n",
      "75/75 [==============================] - 0s 4ms/step - loss: 0.0017 - accuracy: 1.0000 - val_loss: 0.2103 - val_accuracy: 0.9333\n",
      "Epoch 102/130\n",
      "75/75 [==============================] - 0s 4ms/step - loss: 0.0016 - accuracy: 1.0000 - val_loss: 0.2072 - val_accuracy: 0.9333\n",
      "Epoch 103/130\n",
      "75/75 [==============================] - 0s 4ms/step - loss: 0.0016 - accuracy: 1.0000 - val_loss: 0.2131 - val_accuracy: 0.9333\n",
      "Epoch 104/130\n",
      "75/75 [==============================] - 0s 4ms/step - loss: 0.0014 - accuracy: 1.0000 - val_loss: 0.2104 - val_accuracy: 0.9333\n",
      "Epoch 105/130\n",
      "75/75 [==============================] - 0s 4ms/step - loss: 0.0014 - accuracy: 1.0000 - val_loss: 0.2043 - val_accuracy: 0.9333\n",
      "Epoch 106/130\n",
      "75/75 [==============================] - 0s 4ms/step - loss: 0.0014 - accuracy: 1.0000 - val_loss: 0.2198 - val_accuracy: 0.9333\n",
      "Epoch 107/130\n",
      "75/75 [==============================] - 0s 4ms/step - loss: 0.0012 - accuracy: 1.0000 - val_loss: 0.2018 - val_accuracy: 0.9333\n",
      "Epoch 108/130\n",
      "75/75 [==============================] - 0s 4ms/step - loss: 0.0013 - accuracy: 1.0000 - val_loss: 0.2179 - val_accuracy: 0.9333\n",
      "Epoch 109/130\n",
      "75/75 [==============================] - 0s 4ms/step - loss: 0.0012 - accuracy: 1.0000 - val_loss: 0.2075 - val_accuracy: 0.9333\n",
      "Epoch 110/130\n",
      "75/75 [==============================] - 0s 4ms/step - loss: 0.0012 - accuracy: 1.0000 - val_loss: 0.2080 - val_accuracy: 0.9333\n",
      "Epoch 111/130\n",
      "75/75 [==============================] - 0s 4ms/step - loss: 0.0011 - accuracy: 1.0000 - val_loss: 0.2055 - val_accuracy: 0.9333\n",
      "Epoch 112/130\n",
      "75/75 [==============================] - 0s 4ms/step - loss: 0.0011 - accuracy: 1.0000 - val_loss: 0.2159 - val_accuracy: 0.9333\n",
      "Epoch 113/130\n",
      "75/75 [==============================] - 0s 4ms/step - loss: 0.0010 - accuracy: 1.0000 - val_loss: 0.2263 - val_accuracy: 0.9333\n",
      "Epoch 114/130\n",
      "75/75 [==============================] - 0s 4ms/step - loss: 9.7128e-04 - accuracy: 1.0000 - val_loss: 0.2269 - val_accuracy: 0.9333\n",
      "Epoch 115/130\n",
      "75/75 [==============================] - 0s 4ms/step - loss: 8.9390e-04 - accuracy: 1.0000 - val_loss: 0.2209 - val_accuracy: 0.9333\n",
      "Epoch 116/130\n",
      "75/75 [==============================] - 0s 4ms/step - loss: 8.5918e-04 - accuracy: 1.0000 - val_loss: 0.2158 - val_accuracy: 0.9333\n",
      "Epoch 117/130\n",
      "75/75 [==============================] - 0s 4ms/step - loss: 8.9339e-04 - accuracy: 1.0000 - val_loss: 0.2170 - val_accuracy: 0.9333\n",
      "Epoch 118/130\n",
      "75/75 [==============================] - 0s 4ms/step - loss: 8.2069e-04 - accuracy: 1.0000 - val_loss: 0.2257 - val_accuracy: 0.9333\n",
      "Epoch 119/130\n",
      "75/75 [==============================] - 0s 4ms/step - loss: 7.7880e-04 - accuracy: 1.0000 - val_loss: 0.2270 - val_accuracy: 0.9333\n",
      "Epoch 120/130\n",
      "75/75 [==============================] - 0s 4ms/step - loss: 7.8126e-04 - accuracy: 1.0000 - val_loss: 0.2309 - val_accuracy: 0.9333\n",
      "Epoch 121/130\n",
      "75/75 [==============================] - 0s 4ms/step - loss: 7.0614e-04 - accuracy: 1.0000 - val_loss: 0.2274 - val_accuracy: 0.9333\n",
      "Epoch 122/130\n",
      "75/75 [==============================] - 0s 4ms/step - loss: 7.1202e-04 - accuracy: 1.0000 - val_loss: 0.2295 - val_accuracy: 0.9333\n",
      "Epoch 123/130\n",
      "75/75 [==============================] - 0s 4ms/step - loss: 7.0635e-04 - accuracy: 1.0000 - val_loss: 0.2245 - val_accuracy: 0.9333\n",
      "Epoch 124/130\n",
      "75/75 [==============================] - 0s 4ms/step - loss: 6.8975e-04 - accuracy: 1.0000 - val_loss: 0.2357 - val_accuracy: 0.9333\n",
      "Epoch 125/130\n",
      "75/75 [==============================] - 0s 4ms/step - loss: 6.4205e-04 - accuracy: 1.0000 - val_loss: 0.2384 - val_accuracy: 0.9333\n",
      "Epoch 126/130\n",
      "75/75 [==============================] - 0s 4ms/step - loss: 6.1096e-04 - accuracy: 1.0000 - val_loss: 0.2365 - val_accuracy: 0.9333\n",
      "Epoch 127/130\n",
      "75/75 [==============================] - 0s 4ms/step - loss: 5.4839e-04 - accuracy: 1.0000 - val_loss: 0.2372 - val_accuracy: 0.9333\n",
      "Epoch 128/130\n",
      "75/75 [==============================] - 0s 4ms/step - loss: 5.7903e-04 - accuracy: 1.0000 - val_loss: 0.2375 - val_accuracy: 0.9333\n",
      "Epoch 129/130\n",
      "75/75 [==============================] - 0s 4ms/step - loss: 5.1960e-04 - accuracy: 1.0000 - val_loss: 0.2434 - val_accuracy: 0.9333\n",
      "Epoch 130/130\n",
      "75/75 [==============================] - 0s 4ms/step - loss: 5.1610e-04 - accuracy: 1.0000 - val_loss: 0.2466 - val_accuracy: 0.9333\n"
     ]
    }
   ],
   "source": [
    "# hidden layer outputting 9 units instead of 12, changing activation function to tanh instead of relu\n",
    "inputs = Input(shape=(4,))\n",
    "layer = Dense(9, activation='tanh')(inputs)\n",
    "layer = Dense(9, activation='tanh')(layer)\n",
    "outputs = Dense(3,activation=\"softmax\")(layer)\n",
    "model = Model(inputs=inputs, outputs=outputs, name=\"simple_iris_model_2\")\n",
    "\n",
    "# compile the model\n",
    "model.compile(optimizer='adam', loss='categorical_crossentropy', metrics=['accuracy'])\n",
    "\n",
    "# train the model\n",
    "history = model.fit(X_train, y_train_binarized,\n",
    "                    epochs=130, batch_size=1,\n",
    "                    verbose=1, validation_data=(X_test, y_test_binarized))"
   ]
  },
  {
   "cell_type": "code",
   "execution_count": 202,
   "outputs": [
    {
     "data": {
      "text/plain": "<Figure size 640x480 with 1 Axes>",
      "image/png": "[encoded data removed]"
     },
     "metadata": {},
     "output_type": "display_data"
    },
    {
     "data": {
      "text/plain": "<Figure size 640x480 with 1 Axes>",
      "image/png": "[encoded data removed]"
     },
     "metadata": {},
     "output_type": "display_data"
    }
   ],
   "source": [
    "# summarize history for accuracy\n",
    "plt.plot(history.history['accuracy'])\n",
    "plt.plot(history.history['val_accuracy'])\n",
    "plt.title('model accuracy')\n",
    "plt.ylabel('accuracy')\n",
    "plt.xlabel('epoch')\n",
    "plt.legend(['train', 'test'], loc='upper left')\n",
    "plt.show()\n",
    "# summarize history for loss\n",
    "plt.plot(history.history['loss'])\n",
    "plt.plot(history.history['val_loss'])\n",
    "plt.title('model loss')\n",
    "plt.ylabel('loss')\n",
    "plt.xlabel('epoch')\n",
    "plt.legend(['train', 'test'], loc='upper left')\n",
    "plt.show()"
   ],
   "metadata": {
    "collapsed": false
   }
  },
  {
   "cell_type": "markdown",
   "source": [
    "After I changed from one hidden layer with 12 units to two hidden layers with 9 units, used tanh instead of relu as the activation functions, and used adam instead of sgd for the optimizer, I found out that loss for the test dataset increases eventually after it reaches a lowest point. The accuracy stays similar to the previous model."
   ],
   "metadata": {
    "collapsed": false
   }
  },
  {
   "cell_type": "markdown",
   "id": "74707b1a-05ac-49fa-8c2f-8be2ab77a7da",
   "metadata": {},
   "source": [
    "**16)** [P] OK, one more time. This time, copy the same model, but use an SGD optimizer. Of course, you may have \n",
    "already chosen this by specifying the optimizer='sgd' parameter when you compiled your model. This \n",
    "time, you will instantiate your optimizer. \n",
    "\n",
    "Copy one of your models above. (Remember, if you keep using the same model instance, you are continually \n",
    "improving the weights, and thus not evaluating your new model properly! When you experiment with new \n",
    "models, you need to instantiate a new model, or figure out how to reset your weights to random initial \n",
    "values. For now, it's just easy enough to reinstantiate a new model.)\n",
    "Now, instantiate SGD. Look at the documentation, and choose a different learning rate (lr) and a momentum \n",
    "value of some value between 0.5-0.9. Compile and fit your model. Regenerate your accuracy and loss plots. \n",
    "Compare and contrast your findings."
   ]
  },
  {
   "cell_type": "code",
   "execution_count": 203,
   "id": "8b4a6fa7-8688-4d67-9b59-0593ebfdf1fe",
   "metadata": {},
   "outputs": [
    {
     "name": "stdout",
     "output_type": "stream",
     "text": [
      "Epoch 1/100\n",
      "75/75 [==============================] - 1s 8ms/step - loss: 0.5547 - accuracy: 0.7733 - val_loss: 0.3800 - val_accuracy: 0.8267\n",
      "Epoch 2/100\n",
      "75/75 [==============================] - 0s 4ms/step - loss: 0.2031 - accuracy: 0.9333 - val_loss: 0.2901 - val_accuracy: 0.8533\n",
      "Epoch 3/100\n",
      "75/75 [==============================] - 0s 4ms/step - loss: 0.1162 - accuracy: 0.9600 - val_loss: 0.2439 - val_accuracy: 0.9333\n",
      "Epoch 4/100\n",
      "75/75 [==============================] - 0s 4ms/step - loss: 0.0869 - accuracy: 0.9867 - val_loss: 0.1782 - val_accuracy: 0.9333\n",
      "Epoch 5/100\n",
      "75/75 [==============================] - 0s 4ms/step - loss: 0.0648 - accuracy: 0.9733 - val_loss: 0.1954 - val_accuracy: 0.9200\n",
      "Epoch 6/100\n",
      "75/75 [==============================] - 0s 4ms/step - loss: 0.0548 - accuracy: 0.9867 - val_loss: 0.1395 - val_accuracy: 0.9600\n",
      "Epoch 7/100\n",
      "75/75 [==============================] - 0s 4ms/step - loss: 0.0565 - accuracy: 0.9733 - val_loss: 0.1392 - val_accuracy: 0.9333\n",
      "Epoch 8/100\n",
      "75/75 [==============================] - 0s 4ms/step - loss: 0.0454 - accuracy: 1.0000 - val_loss: 0.1462 - val_accuracy: 0.9333\n",
      "Epoch 9/100\n",
      "75/75 [==============================] - 0s 4ms/step - loss: 0.0400 - accuracy: 0.9733 - val_loss: 0.1361 - val_accuracy: 0.9333\n",
      "Epoch 10/100\n",
      "75/75 [==============================] - 0s 4ms/step - loss: 0.0517 - accuracy: 0.9733 - val_loss: 0.2231 - val_accuracy: 0.9067\n",
      "Epoch 11/100\n",
      "75/75 [==============================] - 0s 4ms/step - loss: 0.0433 - accuracy: 0.9867 - val_loss: 0.1321 - val_accuracy: 0.9333\n",
      "Epoch 12/100\n",
      "75/75 [==============================] - 0s 4ms/step - loss: 0.0342 - accuracy: 0.9733 - val_loss: 0.1053 - val_accuracy: 0.9467\n",
      "Epoch 13/100\n",
      "75/75 [==============================] - 0s 4ms/step - loss: 0.0373 - accuracy: 0.9867 - val_loss: 0.1133 - val_accuracy: 0.9333\n",
      "Epoch 14/100\n",
      "75/75 [==============================] - 0s 4ms/step - loss: 0.0235 - accuracy: 0.9867 - val_loss: 0.1821 - val_accuracy: 0.9467\n",
      "Epoch 15/100\n",
      "75/75 [==============================] - 0s 4ms/step - loss: 0.0259 - accuracy: 0.9867 - val_loss: 0.1738 - val_accuracy: 0.9467\n",
      "Epoch 16/100\n",
      "75/75 [==============================] - 0s 4ms/step - loss: 0.0421 - accuracy: 0.9733 - val_loss: 0.1434 - val_accuracy: 0.9467\n",
      "Epoch 17/100\n",
      "75/75 [==============================] - 0s 4ms/step - loss: 0.0264 - accuracy: 1.0000 - val_loss: 0.0894 - val_accuracy: 0.9600\n",
      "Epoch 18/100\n",
      "75/75 [==============================] - 0s 4ms/step - loss: 0.0183 - accuracy: 0.9867 - val_loss: 0.2271 - val_accuracy: 0.9467\n",
      "Epoch 19/100\n",
      "75/75 [==============================] - 0s 4ms/step - loss: 0.0183 - accuracy: 1.0000 - val_loss: 0.0936 - val_accuracy: 0.9600\n",
      "Epoch 20/100\n",
      "75/75 [==============================] - 0s 4ms/step - loss: 0.0293 - accuracy: 0.9733 - val_loss: 0.1834 - val_accuracy: 0.9333\n",
      "Epoch 21/100\n",
      "75/75 [==============================] - 0s 4ms/step - loss: 0.0375 - accuracy: 0.9867 - val_loss: 0.1218 - val_accuracy: 0.9467\n",
      "Epoch 22/100\n",
      "75/75 [==============================] - 0s 4ms/step - loss: 0.0303 - accuracy: 0.9867 - val_loss: 0.1347 - val_accuracy: 0.9200\n",
      "Epoch 23/100\n",
      "75/75 [==============================] - 0s 4ms/step - loss: 0.0169 - accuracy: 0.9867 - val_loss: 0.2244 - val_accuracy: 0.9333\n",
      "Epoch 24/100\n",
      "75/75 [==============================] - 0s 4ms/step - loss: 0.0188 - accuracy: 1.0000 - val_loss: 0.0966 - val_accuracy: 0.9467\n",
      "Epoch 25/100\n",
      "75/75 [==============================] - 0s 4ms/step - loss: 0.0207 - accuracy: 0.9867 - val_loss: 0.1194 - val_accuracy: 0.9600\n",
      "Epoch 26/100\n",
      "75/75 [==============================] - 0s 4ms/step - loss: 0.0192 - accuracy: 0.9867 - val_loss: 0.1470 - val_accuracy: 0.9200\n",
      "Epoch 27/100\n",
      "75/75 [==============================] - 0s 4ms/step - loss: 0.0200 - accuracy: 1.0000 - val_loss: 0.1060 - val_accuracy: 0.9333\n",
      "Epoch 28/100\n",
      "75/75 [==============================] - 0s 4ms/step - loss: 0.0180 - accuracy: 0.9867 - val_loss: 0.1722 - val_accuracy: 0.9467\n",
      "Epoch 29/100\n",
      "75/75 [==============================] - 0s 4ms/step - loss: 0.0131 - accuracy: 1.0000 - val_loss: 0.1560 - val_accuracy: 0.9467\n",
      "Epoch 30/100\n",
      "75/75 [==============================] - 0s 4ms/step - loss: 0.0117 - accuracy: 1.0000 - val_loss: 0.2070 - val_accuracy: 0.9467\n",
      "Epoch 31/100\n",
      "75/75 [==============================] - 0s 4ms/step - loss: 0.0105 - accuracy: 1.0000 - val_loss: 0.1018 - val_accuracy: 0.9600\n",
      "Epoch 32/100\n",
      "75/75 [==============================] - 0s 4ms/step - loss: 0.0117 - accuracy: 1.0000 - val_loss: 0.1949 - val_accuracy: 0.9467\n",
      "Epoch 33/100\n",
      "75/75 [==============================] - 0s 4ms/step - loss: 0.0218 - accuracy: 0.9867 - val_loss: 0.1830 - val_accuracy: 0.9467\n",
      "Epoch 34/100\n",
      "75/75 [==============================] - 0s 4ms/step - loss: 0.0100 - accuracy: 1.0000 - val_loss: 0.1113 - val_accuracy: 0.9600\n",
      "Epoch 35/100\n",
      "75/75 [==============================] - 0s 4ms/step - loss: 0.0113 - accuracy: 1.0000 - val_loss: 0.1090 - val_accuracy: 0.9600\n",
      "Epoch 36/100\n",
      "75/75 [==============================] - 0s 4ms/step - loss: 0.0102 - accuracy: 1.0000 - val_loss: 0.1091 - val_accuracy: 0.9600\n",
      "Epoch 37/100\n",
      "75/75 [==============================] - 0s 4ms/step - loss: 0.0096 - accuracy: 1.0000 - val_loss: 0.1133 - val_accuracy: 0.9600\n",
      "Epoch 38/100\n",
      "75/75 [==============================] - 0s 4ms/step - loss: 0.0097 - accuracy: 1.0000 - val_loss: 0.1323 - val_accuracy: 0.9467\n",
      "Epoch 39/100\n",
      "75/75 [==============================] - 0s 4ms/step - loss: 0.0073 - accuracy: 1.0000 - val_loss: 0.1253 - val_accuracy: 0.9333\n",
      "Epoch 40/100\n",
      "75/75 [==============================] - 0s 4ms/step - loss: 0.0077 - accuracy: 1.0000 - val_loss: 0.1986 - val_accuracy: 0.9467\n",
      "Epoch 41/100\n",
      "75/75 [==============================] - 0s 4ms/step - loss: 0.0073 - accuracy: 1.0000 - val_loss: 0.1408 - val_accuracy: 0.9467\n",
      "Epoch 42/100\n",
      "75/75 [==============================] - 0s 4ms/step - loss: 0.0060 - accuracy: 1.0000 - val_loss: 0.1255 - val_accuracy: 0.9467\n",
      "Epoch 43/100\n",
      "75/75 [==============================] - 0s 4ms/step - loss: 0.0078 - accuracy: 1.0000 - val_loss: 0.1745 - val_accuracy: 0.9467\n",
      "Epoch 44/100\n",
      "75/75 [==============================] - 0s 4ms/step - loss: 0.0072 - accuracy: 1.0000 - val_loss: 0.1445 - val_accuracy: 0.9600\n",
      "Epoch 45/100\n",
      "75/75 [==============================] - 0s 4ms/step - loss: 0.0061 - accuracy: 1.0000 - val_loss: 0.1469 - val_accuracy: 0.9467\n",
      "Epoch 46/100\n",
      "75/75 [==============================] - 0s 4ms/step - loss: 0.0050 - accuracy: 1.0000 - val_loss: 0.1335 - val_accuracy: 0.9467\n",
      "Epoch 47/100\n",
      "75/75 [==============================] - 0s 4ms/step - loss: 0.0061 - accuracy: 1.0000 - val_loss: 0.1365 - val_accuracy: 0.9467\n",
      "Epoch 48/100\n",
      "75/75 [==============================] - 0s 4ms/step - loss: 0.0058 - accuracy: 1.0000 - val_loss: 0.1604 - val_accuracy: 0.9467\n",
      "Epoch 49/100\n",
      "75/75 [==============================] - 0s 4ms/step - loss: 0.0056 - accuracy: 1.0000 - val_loss: 0.1412 - val_accuracy: 0.9467\n",
      "Epoch 50/100\n",
      "75/75 [==============================] - 0s 4ms/step - loss: 0.0055 - accuracy: 1.0000 - val_loss: 0.1560 - val_accuracy: 0.9467\n",
      "Epoch 51/100\n",
      "75/75 [==============================] - 0s 4ms/step - loss: 0.0042 - accuracy: 1.0000 - val_loss: 0.1343 - val_accuracy: 0.9467\n",
      "Epoch 52/100\n",
      "75/75 [==============================] - 0s 4ms/step - loss: 0.0051 - accuracy: 1.0000 - val_loss: 0.1926 - val_accuracy: 0.9467\n",
      "Epoch 53/100\n",
      "75/75 [==============================] - 0s 4ms/step - loss: 0.0040 - accuracy: 1.0000 - val_loss: 0.1439 - val_accuracy: 0.9467\n",
      "Epoch 54/100\n",
      "75/75 [==============================] - 0s 4ms/step - loss: 0.0048 - accuracy: 1.0000 - val_loss: 0.1937 - val_accuracy: 0.9467\n",
      "Epoch 55/100\n",
      "75/75 [==============================] - 0s 4ms/step - loss: 0.0054 - accuracy: 1.0000 - val_loss: 0.1849 - val_accuracy: 0.9467\n",
      "Epoch 56/100\n",
      "75/75 [==============================] - 0s 4ms/step - loss: 0.0046 - accuracy: 1.0000 - val_loss: 0.1483 - val_accuracy: 0.9467\n",
      "Epoch 57/100\n",
      "75/75 [==============================] - 0s 4ms/step - loss: 0.0042 - accuracy: 1.0000 - val_loss: 0.1720 - val_accuracy: 0.9467\n",
      "Epoch 58/100\n",
      "75/75 [==============================] - 0s 4ms/step - loss: 0.0035 - accuracy: 1.0000 - val_loss: 0.1355 - val_accuracy: 0.9600\n",
      "Epoch 59/100\n",
      "75/75 [==============================] - 0s 4ms/step - loss: 0.0041 - accuracy: 1.0000 - val_loss: 0.1396 - val_accuracy: 0.9600\n",
      "Epoch 60/100\n",
      "75/75 [==============================] - 0s 4ms/step - loss: 0.0039 - accuracy: 1.0000 - val_loss: 0.1442 - val_accuracy: 0.9467\n",
      "Epoch 61/100\n",
      "75/75 [==============================] - 0s 4ms/step - loss: 0.0036 - accuracy: 1.0000 - val_loss: 0.1511 - val_accuracy: 0.9467\n",
      "Epoch 62/100\n",
      "75/75 [==============================] - 0s 4ms/step - loss: 0.0036 - accuracy: 1.0000 - val_loss: 0.1520 - val_accuracy: 0.9467\n",
      "Epoch 63/100\n",
      "75/75 [==============================] - 0s 4ms/step - loss: 0.0031 - accuracy: 1.0000 - val_loss: 0.1666 - val_accuracy: 0.9467\n",
      "Epoch 64/100\n",
      "75/75 [==============================] - 0s 4ms/step - loss: 0.0031 - accuracy: 1.0000 - val_loss: 0.1475 - val_accuracy: 0.9467\n",
      "Epoch 65/100\n",
      "75/75 [==============================] - 0s 4ms/step - loss: 0.0033 - accuracy: 1.0000 - val_loss: 0.1589 - val_accuracy: 0.9467\n",
      "Epoch 66/100\n",
      "75/75 [==============================] - 0s 4ms/step - loss: 0.0031 - accuracy: 1.0000 - val_loss: 0.1554 - val_accuracy: 0.9467\n",
      "Epoch 67/100\n",
      "75/75 [==============================] - 0s 4ms/step - loss: 0.0030 - accuracy: 1.0000 - val_loss: 0.1466 - val_accuracy: 0.9600\n",
      "Epoch 68/100\n",
      "75/75 [==============================] - 0s 4ms/step - loss: 0.0031 - accuracy: 1.0000 - val_loss: 0.1592 - val_accuracy: 0.9467\n",
      "Epoch 69/100\n",
      "75/75 [==============================] - 0s 4ms/step - loss: 0.0029 - accuracy: 1.0000 - val_loss: 0.1540 - val_accuracy: 0.9467\n",
      "Epoch 70/100\n",
      "75/75 [==============================] - 0s 4ms/step - loss: 0.0028 - accuracy: 1.0000 - val_loss: 0.1488 - val_accuracy: 0.9467\n",
      "Epoch 71/100\n",
      "75/75 [==============================] - 0s 4ms/step - loss: 0.0029 - accuracy: 1.0000 - val_loss: 0.1536 - val_accuracy: 0.9467\n",
      "Epoch 72/100\n",
      "75/75 [==============================] - 0s 4ms/step - loss: 0.0027 - accuracy: 1.0000 - val_loss: 0.1796 - val_accuracy: 0.9467\n",
      "Epoch 73/100\n",
      "75/75 [==============================] - 0s 4ms/step - loss: 0.0028 - accuracy: 1.0000 - val_loss: 0.1777 - val_accuracy: 0.9467\n",
      "Epoch 74/100\n",
      "75/75 [==============================] - 0s 4ms/step - loss: 0.0026 - accuracy: 1.0000 - val_loss: 0.1577 - val_accuracy: 0.9467\n",
      "Epoch 75/100\n",
      "75/75 [==============================] - 0s 4ms/step - loss: 0.0026 - accuracy: 1.0000 - val_loss: 0.1605 - val_accuracy: 0.9467\n",
      "Epoch 76/100\n",
      "75/75 [==============================] - 0s 4ms/step - loss: 0.0024 - accuracy: 1.0000 - val_loss: 0.1536 - val_accuracy: 0.9467\n",
      "Epoch 77/100\n",
      "75/75 [==============================] - 0s 4ms/step - loss: 0.0025 - accuracy: 1.0000 - val_loss: 0.1519 - val_accuracy: 0.9467\n",
      "Epoch 78/100\n",
      "75/75 [==============================] - 0s 4ms/step - loss: 0.0026 - accuracy: 1.0000 - val_loss: 0.1554 - val_accuracy: 0.9467\n",
      "Epoch 79/100\n",
      "75/75 [==============================] - 0s 4ms/step - loss: 0.0024 - accuracy: 1.0000 - val_loss: 0.1621 - val_accuracy: 0.9467\n",
      "Epoch 80/100\n",
      "75/75 [==============================] - 0s 4ms/step - loss: 0.0023 - accuracy: 1.0000 - val_loss: 0.1623 - val_accuracy: 0.9467\n",
      "Epoch 81/100\n",
      "75/75 [==============================] - 0s 4ms/step - loss: 0.0024 - accuracy: 1.0000 - val_loss: 0.1660 - val_accuracy: 0.9467\n",
      "Epoch 82/100\n",
      "75/75 [==============================] - 0s 4ms/step - loss: 0.0021 - accuracy: 1.0000 - val_loss: 0.1528 - val_accuracy: 0.9467\n",
      "Epoch 83/100\n",
      "75/75 [==============================] - 0s 4ms/step - loss: 0.0023 - accuracy: 1.0000 - val_loss: 0.1551 - val_accuracy: 0.9467\n",
      "Epoch 84/100\n",
      "75/75 [==============================] - 0s 4ms/step - loss: 0.0023 - accuracy: 1.0000 - val_loss: 0.1647 - val_accuracy: 0.9467\n",
      "Epoch 85/100\n",
      "75/75 [==============================] - 0s 4ms/step - loss: 0.0021 - accuracy: 1.0000 - val_loss: 0.1726 - val_accuracy: 0.9467\n",
      "Epoch 86/100\n",
      "75/75 [==============================] - 0s 4ms/step - loss: 0.0021 - accuracy: 1.0000 - val_loss: 0.1769 - val_accuracy: 0.9467\n",
      "Epoch 87/100\n",
      "75/75 [==============================] - 0s 4ms/step - loss: 0.0021 - accuracy: 1.0000 - val_loss: 0.1769 - val_accuracy: 0.9467\n",
      "Epoch 88/100\n",
      "75/75 [==============================] - 0s 4ms/step - loss: 0.0019 - accuracy: 1.0000 - val_loss: 0.1587 - val_accuracy: 0.9467\n",
      "Epoch 89/100\n",
      "75/75 [==============================] - 0s 4ms/step - loss: 0.0020 - accuracy: 1.0000 - val_loss: 0.1746 - val_accuracy: 0.9467\n",
      "Epoch 90/100\n",
      "75/75 [==============================] - 0s 4ms/step - loss: 0.0018 - accuracy: 1.0000 - val_loss: 0.1640 - val_accuracy: 0.9333\n",
      "Epoch 91/100\n",
      "75/75 [==============================] - 0s 4ms/step - loss: 0.0019 - accuracy: 1.0000 - val_loss: 0.1730 - val_accuracy: 0.9467\n",
      "Epoch 92/100\n",
      "75/75 [==============================] - 0s 4ms/step - loss: 0.0019 - accuracy: 1.0000 - val_loss: 0.1667 - val_accuracy: 0.9467\n",
      "Epoch 93/100\n",
      "75/75 [==============================] - 0s 4ms/step - loss: 0.0019 - accuracy: 1.0000 - val_loss: 0.1787 - val_accuracy: 0.9467\n",
      "Epoch 94/100\n",
      "75/75 [==============================] - 0s 4ms/step - loss: 0.0017 - accuracy: 1.0000 - val_loss: 0.1629 - val_accuracy: 0.9333\n",
      "Epoch 95/100\n",
      "75/75 [==============================] - 0s 4ms/step - loss: 0.0018 - accuracy: 1.0000 - val_loss: 0.1631 - val_accuracy: 0.9333\n",
      "Epoch 96/100\n",
      "75/75 [==============================] - 0s 4ms/step - loss: 0.0017 - accuracy: 1.0000 - val_loss: 0.1663 - val_accuracy: 0.9467\n",
      "Epoch 97/100\n",
      "75/75 [==============================] - 0s 4ms/step - loss: 0.0017 - accuracy: 1.0000 - val_loss: 0.1653 - val_accuracy: 0.9467\n",
      "Epoch 98/100\n",
      "75/75 [==============================] - 0s 4ms/step - loss: 0.0017 - accuracy: 1.0000 - val_loss: 0.1657 - val_accuracy: 0.9467\n",
      "Epoch 99/100\n",
      "75/75 [==============================] - 0s 4ms/step - loss: 0.0016 - accuracy: 1.0000 - val_loss: 0.1604 - val_accuracy: 0.9333\n",
      "Epoch 100/100\n",
      "75/75 [==============================] - 0s 4ms/step - loss: 0.0017 - accuracy: 1.0000 - val_loss: 0.1678 - val_accuracy: 0.9467\n"
     ]
    }
   ],
   "source": [
    "# same original model\n",
    "inputs = Input(shape=(4,))\n",
    "layer = Dense(12, activation='relu')(inputs)\n",
    "outputs = Dense(3,activation=\"softmax\")(layer)\n",
    "model = Model(inputs=inputs, outputs=outputs, name=\"simple_iris_model_3\")\n",
    "\n",
    "# set up the sgd optimizer\n",
    "sgd = SGD(learning_rate=0.03, momentum=0.7)\n",
    "\n",
    "# compile the model\n",
    "model.compile(optimizer=sgd, loss='categorical_crossentropy', metrics=['accuracy'])\n",
    "\n",
    "# train the model\n",
    "history = model.fit(X_train, y_train_binarized,\n",
    "                    epochs=100, batch_size=1,\n",
    "                    verbose=1, validation_data=(X_test, y_test_binarized))"
   ]
  },
  {
   "cell_type": "code",
   "execution_count": 204,
   "outputs": [
    {
     "data": {
      "text/plain": "<Figure size 640x480 with 1 Axes>",
      "image/png": "[encoded data removed]"
     },
     "metadata": {},
     "output_type": "display_data"
    },
    {
     "data": {
      "text/plain": "<Figure size 640x480 with 1 Axes>",
      "image/png": "[encoded data removed]"
     },
     "metadata": {},
     "output_type": "display_data"
    }
   ],
   "source": [
    "# summarize history for accuracy\n",
    "plt.plot(history.history['accuracy'])\n",
    "plt.plot(history.history['val_accuracy'])\n",
    "plt.title('model accuracy')\n",
    "plt.ylabel('accuracy')\n",
    "plt.xlabel('epoch')\n",
    "plt.legend(['train', 'test'], loc='upper left')\n",
    "plt.show()\n",
    "# summarize history for loss\n",
    "plt.plot(history.history['loss'])\n",
    "plt.plot(history.history['val_loss'])\n",
    "plt.title('model loss')\n",
    "plt.ylabel('loss')\n",
    "plt.xlabel('epoch')\n",
    "plt.legend(['train', 'test'], loc='upper left')\n",
    "plt.show()"
   ],
   "metadata": {
    "collapsed": false
   }
  },
  {
   "cell_type": "markdown",
   "source": [
    "Compared to the original model, this model also has an increase in validation loss towards the end. When the validation loss increases, it also fluctuates a lot more compared to the original. The end accuracy is close to the original."
   ],
   "metadata": {
    "collapsed": false
   }
  },
  {
   "cell_type": "markdown",
   "id": "01042a03-af02-4f4c-a436-b1e7c482a6e7",
   "metadata": {},
   "source": [
    "**17)** [P] Remember, this is a classification problem. Use your model to predict the classes for the test data (using the \n",
    "function predict on the model object itself) and store the results as y_pred. (NOTE: the model is part of \n",
    "the history object. So, use history.model.predict. "
   ]
  },
  {
   "cell_type": "code",
   "execution_count": 205,
   "id": "e9a0b00f-6948-4fc3-8bfd-807286158d10",
   "metadata": {},
   "outputs": [
    {
     "name": "stdout",
     "output_type": "stream",
     "text": [
      "3/3 [==============================] - 0s 3ms/step\n"
     ]
    }
   ],
   "source": [
    "y_pred = pd.DataFrame(history.model.predict(X_test),\n",
    "                      columns=['setosa', 'versicolor', 'virginica'])"
   ]
  },
  {
   "cell_type": "markdown",
   "id": "74160724-b14f-4a0a-b78c-c80fa0c699b7",
   "metadata": {},
   "source": [
    "**18)** [P] Notice the structure of y_pred. Remember, softmax generates probabilistic output. So, turn this into a new \n",
    "variable called y_pred_class that predicts the actual class label. (HINT: argmax is your friend!)"
   ]
  },
  {
   "cell_type": "code",
   "execution_count": 206,
   "id": "eb5c782f-dbe0-4b88-a2d4-1d0500c926c0",
   "metadata": {},
   "outputs": [
    {
     "data": {
      "text/plain": "         setosa    versicolor     virginica\n0  7.380910e-16  1.776514e-16  9.999999e-01\n1  7.334118e-07  2.752808e-05  9.999717e-01\n2  8.962044e-05  8.814883e-03  9.910954e-01\n3  9.999685e-01  3.139535e-05  7.191208e-08\n4  1.763904e-04  9.973418e-01  2.481735e-03\n5  9.998252e-01  1.748515e-04  3.279795e-08\n6  1.060932e-08  2.325535e-07  9.999997e-01\n7  1.061246e-09  3.208431e-09  9.999999e-01\n8  1.181648e-05  3.564640e-04  9.996318e-01\n9  4.349180e-04  9.995076e-01  5.738211e-05",
      "text/html": "<div>\n<style scoped>\n    .dataframe tbody tr th:only-of-type {\n        vertical-align: middle;\n    }\n\n    .dataframe tbody tr th {\n        vertical-align: top;\n    }\n\n    .dataframe thead th {\n        text-align: right;\n    }\n</style>\n<table border=\"1\" class=\"dataframe\">\n  <thead>\n    <tr style=\"text-align: right;\">\n      <th></th>\n      <th>setosa</th>\n      <th>versicolor</th>\n      <th>virginica</th>\n    </tr>\n  </thead>\n  <tbody>\n    <tr>\n      <th>0</th>\n      <td>7.380910e-16</td>\n      <td>1.776514e-16</td>\n      <td>9.999999e-01</td>\n    </tr>\n    <tr>\n      <th>1</th>\n      <td>7.334118e-07</td>\n      <td>2.752808e-05</td>\n      <td>9.999717e-01</td>\n    </tr>\n    <tr>\n      <th>2</th>\n      <td>8.962044e-05</td>\n      <td>8.814883e-03</td>\n      <td>9.910954e-01</td>\n    </tr>\n    <tr>\n      <th>3</th>\n      <td>9.999685e-01</td>\n      <td>3.139535e-05</td>\n      <td>7.191208e-08</td>\n    </tr>\n    <tr>\n      <th>4</th>\n      <td>1.763904e-04</td>\n      <td>9.973418e-01</td>\n      <td>2.481735e-03</td>\n    </tr>\n    <tr>\n      <th>5</th>\n      <td>9.998252e-01</td>\n      <td>1.748515e-04</td>\n      <td>3.279795e-08</td>\n    </tr>\n    <tr>\n      <th>6</th>\n      <td>1.060932e-08</td>\n      <td>2.325535e-07</td>\n      <td>9.999997e-01</td>\n    </tr>\n    <tr>\n      <th>7</th>\n      <td>1.061246e-09</td>\n      <td>3.208431e-09</td>\n      <td>9.999999e-01</td>\n    </tr>\n    <tr>\n      <th>8</th>\n      <td>1.181648e-05</td>\n      <td>3.564640e-04</td>\n      <td>9.996318e-01</td>\n    </tr>\n    <tr>\n      <th>9</th>\n      <td>4.349180e-04</td>\n      <td>9.995076e-01</td>\n      <td>5.738211e-05</td>\n    </tr>\n  </tbody>\n</table>\n</div>"
     },
     "execution_count": 206,
     "metadata": {},
     "output_type": "execute_result"
    }
   ],
   "source": [
    "y_pred.head(10)"
   ]
  },
  {
   "cell_type": "code",
   "execution_count": 207,
   "outputs": [
    {
     "data": {
      "text/plain": "0    2\n1    2\n2    2\n3    0\n4    1\ndtype: int64"
     },
     "execution_count": 207,
     "metadata": {},
     "output_type": "execute_result"
    }
   ],
   "source": [
    "y_pred_class = pd.Series(np.argmax(y_pred.values, axis=1))\n",
    "y_pred_class.head()"
   ],
   "metadata": {
    "collapsed": false
   }
  },
  {
   "cell_type": "code",
   "execution_count": 208,
   "outputs": [
    {
     "name": "stdout",
     "output_type": "stream",
     "text": [
      "<class 'pandas.core.series.Series'>\n",
      "RangeIndex: 75 entries, 0 to 74\n",
      "Series name: None\n",
      "Non-Null Count  Dtype\n",
      "--------------  -----\n",
      "75 non-null     int64\n",
      "dtypes: int64(1)\n",
      "memory usage: 728.0 bytes\n"
     ]
    }
   ],
   "source": [
    "y_pred_class.info()"
   ],
   "metadata": {
    "collapsed": false
   }
  },
  {
   "cell_type": "code",
   "execution_count": 209,
   "outputs": [
    {
     "data": {
      "text/plain": "0     virginica\n1     virginica\n2     virginica\n3        setosa\n4    versicolor\n5        setosa\n6     virginica\n7     virginica\n8     virginica\n9    versicolor\ndtype: category\nCategories (3, object): ['setosa', 'versicolor', 'virginica']"
     },
     "execution_count": 209,
     "metadata": {},
     "output_type": "execute_result"
    }
   ],
   "source": [
    "y_pred_class = y_pred_class.astype(\"category\")\n",
    "y_pred_class = y_pred_class.replace({0: 'setosa', 1: 'versicolor', 2: 'virginica'})\n",
    "y_pred_class.head(10)"
   ],
   "metadata": {
    "collapsed": false
   }
  },
  {
   "cell_type": "markdown",
   "id": "0ab5b5f4-80b1-4789-98d2-97a1a5298d8d",
   "metadata": {},
   "source": [
    "**19)** [P] Finally, using your code from the lab on classification, output the confusion_matrix and the classification_report (from scikit-learn's metric package) to print out the complete performance results."
   ]
  },
  {
   "cell_type": "code",
   "execution_count": 210,
   "id": "d2f07de4-5351-4f58-a416-9aa351cfe8c7",
   "metadata": {},
   "outputs": [
    {
     "data": {
      "text/plain": "<Figure size 640x480 with 2 Axes>",
      "image/png": "[encoded data removed]"
     },
     "metadata": {},
     "output_type": "display_data"
    }
   ],
   "source": [
    "disp = ConfusionMatrixDisplay(confusion_matrix(y_test, y_pred_class),\n",
    "                              display_labels=[\"setosa\", \"versicolor\", \"virginica\"])\n",
    "disp = disp.plot(include_values=True, ax=None, cmap=plt.cm.Blues)\n",
    "plt.tick_params(axis=u'both', which=u'both',length=0)\n",
    "plt.grid(visible=None)\n",
    "plt.show()"
   ]
  },
  {
   "cell_type": "code",
   "execution_count": 211,
   "outputs": [
    {
     "name": "stdout",
     "output_type": "stream",
     "text": [
      "              precision    recall  f1-score   support\n",
      "\n",
      "      setosa       1.00      1.00      1.00        23\n",
      "  versicolor       1.00      0.82      0.90        22\n",
      "   virginica       0.88      1.00      0.94        30\n",
      "\n",
      "    accuracy                           0.95        75\n",
      "   macro avg       0.96      0.94      0.95        75\n",
      "weighted avg       0.95      0.95      0.95        75\n",
      "\n"
     ]
    }
   ],
   "source": [
    "print(classification_report(y_test, y_pred_class))"
   ],
   "metadata": {
    "collapsed": false
   }
  },
  {
   "cell_type": "markdown",
   "id": "965f7a62-a7b0-42f0-aefa-72ec93c5fc03",
   "metadata": {},
   "source": [
    "**Exercise 3 – Wrapping keras in the scikit-learn framework.**"
   ]
  },
  {
   "cell_type": "markdown",
   "id": "2dc38931-00ac-4eb3-8702-ac3f6b79a123",
   "metadata": {},
   "source": [
    "**20)** [P] Import the following class into your code:\n",
    "from scikeras.wrappers import KerasClassifier\n",
    "Then write a function called create_keras_model(). Copy all of your code that creates the Model\n",
    "instance and adds the layers into this function. "
   ]
  },
  {
   "cell_type": "code",
   "execution_count": 212,
   "id": "5032c423-7873-401d-afc9-04a8439f266d",
   "metadata": {},
   "outputs": [],
   "source": [
    "def create_keras_model():\n",
    "    # same original model\n",
    "    inputs = Input(shape=(4,))\n",
    "    layer = Dense(12, activation='relu')(inputs)\n",
    "    outputs = Dense(3,activation=\"softmax\")(layer)\n",
    "    model = Model(inputs=inputs, outputs=outputs, name=\"simple_iris_model_4\")\n",
    "\n",
    "    return model\n",
    "\n",
    "# set up the sgd optimizer\n",
    "sgd = SGD(learning_rate=0.03, momentum=0.7)\n",
    "\n",
    "# create a wrapped keras model\n",
    "clf = KerasClassifier(model=create_keras_model(),\n",
    "                      optimizer=sgd,\n",
    "                      loss=\"categorical_crossentropy\",\n",
    "                      metrics=[\"accuracy\"],\n",
    "                      verbose=1,\n",
    "                      epochs=100,\n",
    "                      batch_size=1)"
   ]
  },
  {
   "cell_type": "markdown",
   "id": "a037065c-cada-4a8e-9a84-747afd33e8ec",
   "metadata": {},
   "source": [
    "**21)** [P] At this point, you now have a classifier model that behaves like any other scikit-learn classifier! Cool, right?\n",
    "So, using the clf classifier above, use it just like you would any other classifier. Run the fit method on your \n",
    "classifier, just like you did in lab10. Use X_train and the one hot encoded y_train data. \n",
    "NOTE: You might be wondering how to get access to the actual learning curve, i.e. the History object. You can! \n",
    "Look at the history_ attribute of clf after fitting your data. It contains the actual data you want to plot.\n",
    "Finally, use clf.predict() to generate class predictions on X_test. Store the results in y_pred. just \n",
    "like you would with scikit-learn.\n",
    "y_pred = clf.predict(X_test)\n",
    "Remember you'll need to convert the predictions back to a single value using argmax.\n"
   ]
  },
  {
   "cell_type": "code",
   "execution_count": 213,
   "id": "52a8450e-fefe-4469-b8bc-8225b12e7a6f",
   "metadata": {},
   "outputs": [
    {
     "name": "stdout",
     "output_type": "stream",
     "text": [
      "Epoch 1/100\n",
      "75/75 [==============================] - 1s 2ms/step - loss: 0.5156 - accuracy: 0.8267\n",
      "Epoch 2/100\n",
      "75/75 [==============================] - 0s 2ms/step - loss: 0.2093 - accuracy: 0.9200\n",
      "Epoch 3/100\n",
      "75/75 [==============================] - 0s 2ms/step - loss: 0.1311 - accuracy: 0.9733\n",
      "Epoch 4/100\n",
      "75/75 [==============================] - 0s 2ms/step - loss: 0.0845 - accuracy: 0.9867\n",
      "Epoch 5/100\n",
      "75/75 [==============================] - 0s 2ms/step - loss: 0.0582 - accuracy: 0.9867\n",
      "Epoch 6/100\n",
      "75/75 [==============================] - 0s 2ms/step - loss: 0.0554 - accuracy: 0.9733\n",
      "Epoch 7/100\n",
      "75/75 [==============================] - 0s 2ms/step - loss: 0.0596 - accuracy: 0.9733\n",
      "Epoch 8/100\n",
      "75/75 [==============================] - 0s 2ms/step - loss: 0.0495 - accuracy: 0.9733\n",
      "Epoch 9/100\n",
      "75/75 [==============================] - 0s 2ms/step - loss: 0.0319 - accuracy: 1.0000\n",
      "Epoch 10/100\n",
      "75/75 [==============================] - 0s 2ms/step - loss: 0.0293 - accuracy: 1.0000\n",
      "Epoch 11/100\n",
      "75/75 [==============================] - 0s 2ms/step - loss: 0.0257 - accuracy: 1.0000\n",
      "Epoch 12/100\n",
      "75/75 [==============================] - 0s 2ms/step - loss: 0.0290 - accuracy: 0.9867\n",
      "Epoch 13/100\n",
      "75/75 [==============================] - 0s 2ms/step - loss: 0.0336 - accuracy: 0.9867\n",
      "Epoch 14/100\n",
      "75/75 [==============================] - 0s 2ms/step - loss: 0.0194 - accuracy: 1.0000\n",
      "Epoch 15/100\n",
      "75/75 [==============================] - 0s 2ms/step - loss: 0.0219 - accuracy: 0.9867\n",
      "Epoch 16/100\n",
      "75/75 [==============================] - 0s 2ms/step - loss: 0.0166 - accuracy: 1.0000\n",
      "Epoch 17/100\n",
      "75/75 [==============================] - 0s 2ms/step - loss: 0.0201 - accuracy: 1.0000\n",
      "Epoch 18/100\n",
      "75/75 [==============================] - 0s 2ms/step - loss: 0.0151 - accuracy: 1.0000\n",
      "Epoch 19/100\n",
      "75/75 [==============================] - 0s 2ms/step - loss: 0.0149 - accuracy: 1.0000\n",
      "Epoch 20/100\n",
      "75/75 [==============================] - 0s 2ms/step - loss: 0.0121 - accuracy: 1.0000\n",
      "Epoch 21/100\n",
      "75/75 [==============================] - 0s 2ms/step - loss: 0.0150 - accuracy: 1.0000\n",
      "Epoch 22/100\n",
      "75/75 [==============================] - 0s 2ms/step - loss: 0.0126 - accuracy: 1.0000\n",
      "Epoch 23/100\n",
      "75/75 [==============================] - 0s 2ms/step - loss: 0.0115 - accuracy: 1.0000\n",
      "Epoch 24/100\n",
      "75/75 [==============================] - 0s 2ms/step - loss: 0.0093 - accuracy: 1.0000\n",
      "Epoch 25/100\n",
      "75/75 [==============================] - 0s 2ms/step - loss: 0.0095 - accuracy: 1.0000\n",
      "Epoch 26/100\n",
      "75/75 [==============================] - 0s 2ms/step - loss: 0.0079 - accuracy: 1.0000\n",
      "Epoch 27/100\n",
      "75/75 [==============================] - 0s 2ms/step - loss: 0.0092 - accuracy: 1.0000\n",
      "Epoch 28/100\n",
      "75/75 [==============================] - 0s 2ms/step - loss: 0.0069 - accuracy: 1.0000\n",
      "Epoch 29/100\n",
      "75/75 [==============================] - 0s 2ms/step - loss: 0.0076 - accuracy: 1.0000\n",
      "Epoch 30/100\n",
      "75/75 [==============================] - 0s 2ms/step - loss: 0.0067 - accuracy: 1.0000\n",
      "Epoch 31/100\n",
      "75/75 [==============================] - 0s 2ms/step - loss: 0.0067 - accuracy: 1.0000\n",
      "Epoch 32/100\n",
      "75/75 [==============================] - 0s 2ms/step - loss: 0.0066 - accuracy: 1.0000\n",
      "Epoch 33/100\n",
      "75/75 [==============================] - 0s 2ms/step - loss: 0.0069 - accuracy: 1.0000\n",
      "Epoch 34/100\n",
      "75/75 [==============================] - 0s 2ms/step - loss: 0.0060 - accuracy: 1.0000\n",
      "Epoch 35/100\n",
      "75/75 [==============================] - 0s 2ms/step - loss: 0.0058 - accuracy: 1.0000\n",
      "Epoch 36/100\n",
      "75/75 [==============================] - 0s 2ms/step - loss: 0.0053 - accuracy: 1.0000\n",
      "Epoch 37/100\n",
      "75/75 [==============================] - 0s 2ms/step - loss: 0.0056 - accuracy: 1.0000\n",
      "Epoch 38/100\n",
      "75/75 [==============================] - 0s 2ms/step - loss: 0.0055 - accuracy: 1.0000\n",
      "Epoch 39/100\n",
      "75/75 [==============================] - 0s 2ms/step - loss: 0.0053 - accuracy: 1.0000\n",
      "Epoch 40/100\n",
      "75/75 [==============================] - 0s 2ms/step - loss: 0.0048 - accuracy: 1.0000\n",
      "Epoch 41/100\n",
      "75/75 [==============================] - 0s 2ms/step - loss: 0.0042 - accuracy: 1.0000\n",
      "Epoch 42/100\n",
      "75/75 [==============================] - 0s 2ms/step - loss: 0.0050 - accuracy: 1.0000\n",
      "Epoch 43/100\n",
      "75/75 [==============================] - 0s 2ms/step - loss: 0.0042 - accuracy: 1.0000\n",
      "Epoch 44/100\n",
      "75/75 [==============================] - 0s 2ms/step - loss: 0.0040 - accuracy: 1.0000\n",
      "Epoch 45/100\n",
      "75/75 [==============================] - 0s 2ms/step - loss: 0.0040 - accuracy: 1.0000\n",
      "Epoch 46/100\n",
      "75/75 [==============================] - 0s 2ms/step - loss: 0.0038 - accuracy: 1.0000\n",
      "Epoch 47/100\n",
      "75/75 [==============================] - 0s 2ms/step - loss: 0.0040 - accuracy: 1.0000\n",
      "Epoch 48/100\n",
      "75/75 [==============================] - 0s 2ms/step - loss: 0.0035 - accuracy: 1.0000\n",
      "Epoch 49/100\n",
      "75/75 [==============================] - 0s 2ms/step - loss: 0.0037 - accuracy: 1.0000\n",
      "Epoch 50/100\n",
      "75/75 [==============================] - 0s 2ms/step - loss: 0.0032 - accuracy: 1.0000\n",
      "Epoch 51/100\n",
      "75/75 [==============================] - 0s 2ms/step - loss: 0.0035 - accuracy: 1.0000\n",
      "Epoch 52/100\n",
      "75/75 [==============================] - 0s 2ms/step - loss: 0.0036 - accuracy: 1.0000\n",
      "Epoch 53/100\n",
      "75/75 [==============================] - 0s 2ms/step - loss: 0.0031 - accuracy: 1.0000\n",
      "Epoch 54/100\n",
      "75/75 [==============================] - 0s 2ms/step - loss: 0.0031 - accuracy: 1.0000\n",
      "Epoch 55/100\n",
      "75/75 [==============================] - 0s 2ms/step - loss: 0.0028 - accuracy: 1.0000\n",
      "Epoch 56/100\n",
      "75/75 [==============================] - 0s 2ms/step - loss: 0.0029 - accuracy: 1.0000\n",
      "Epoch 57/100\n",
      "75/75 [==============================] - 0s 2ms/step - loss: 0.0030 - accuracy: 1.0000\n",
      "Epoch 58/100\n",
      "75/75 [==============================] - 0s 2ms/step - loss: 0.0028 - accuracy: 1.0000\n",
      "Epoch 59/100\n",
      "75/75 [==============================] - 0s 2ms/step - loss: 0.0028 - accuracy: 1.0000\n",
      "Epoch 60/100\n",
      "75/75 [==============================] - 0s 2ms/step - loss: 0.0026 - accuracy: 1.0000\n",
      "Epoch 61/100\n",
      "75/75 [==============================] - 0s 2ms/step - loss: 0.0026 - accuracy: 1.0000\n",
      "Epoch 62/100\n",
      "75/75 [==============================] - 0s 2ms/step - loss: 0.0027 - accuracy: 1.0000\n",
      "Epoch 63/100\n",
      "75/75 [==============================] - 0s 2ms/step - loss: 0.0024 - accuracy: 1.0000\n",
      "Epoch 64/100\n",
      "75/75 [==============================] - 0s 2ms/step - loss: 0.0023 - accuracy: 1.0000\n",
      "Epoch 65/100\n",
      "75/75 [==============================] - 0s 2ms/step - loss: 0.0025 - accuracy: 1.0000\n",
      "Epoch 66/100\n",
      "75/75 [==============================] - 0s 2ms/step - loss: 0.0023 - accuracy: 1.0000\n",
      "Epoch 67/100\n",
      "75/75 [==============================] - 0s 2ms/step - loss: 0.0025 - accuracy: 1.0000\n",
      "Epoch 68/100\n",
      "75/75 [==============================] - 0s 2ms/step - loss: 0.0023 - accuracy: 1.0000\n",
      "Epoch 69/100\n",
      "75/75 [==============================] - 0s 2ms/step - loss: 0.0021 - accuracy: 1.0000\n",
      "Epoch 70/100\n",
      "75/75 [==============================] - 0s 2ms/step - loss: 0.0022 - accuracy: 1.0000\n",
      "Epoch 71/100\n",
      "75/75 [==============================] - 0s 2ms/step - loss: 0.0022 - accuracy: 1.0000\n",
      "Epoch 72/100\n",
      "75/75 [==============================] - 0s 2ms/step - loss: 0.0021 - accuracy: 1.0000\n",
      "Epoch 73/100\n",
      "75/75 [==============================] - 0s 2ms/step - loss: 0.0020 - accuracy: 1.0000\n",
      "Epoch 74/100\n",
      "75/75 [==============================] - 0s 2ms/step - loss: 0.0020 - accuracy: 1.0000\n",
      "Epoch 75/100\n",
      "75/75 [==============================] - 0s 2ms/step - loss: 0.0019 - accuracy: 1.0000\n",
      "Epoch 76/100\n",
      "75/75 [==============================] - 0s 2ms/step - loss: 0.0020 - accuracy: 1.0000\n",
      "Epoch 77/100\n",
      "75/75 [==============================] - 0s 2ms/step - loss: 0.0018 - accuracy: 1.0000\n",
      "Epoch 78/100\n",
      "75/75 [==============================] - 0s 2ms/step - loss: 0.0019 - accuracy: 1.0000\n",
      "Epoch 79/100\n",
      "75/75 [==============================] - 0s 2ms/step - loss: 0.0019 - accuracy: 1.0000\n",
      "Epoch 80/100\n",
      "75/75 [==============================] - 0s 2ms/step - loss: 0.0018 - accuracy: 1.0000\n",
      "Epoch 81/100\n",
      "75/75 [==============================] - 0s 2ms/step - loss: 0.0018 - accuracy: 1.0000\n",
      "Epoch 82/100\n",
      "75/75 [==============================] - 0s 2ms/step - loss: 0.0017 - accuracy: 1.0000\n",
      "Epoch 83/100\n",
      "75/75 [==============================] - 0s 2ms/step - loss: 0.0017 - accuracy: 1.0000\n",
      "Epoch 84/100\n",
      "75/75 [==============================] - 0s 2ms/step - loss: 0.0017 - accuracy: 1.0000\n",
      "Epoch 85/100\n",
      "75/75 [==============================] - 0s 2ms/step - loss: 0.0017 - accuracy: 1.0000\n",
      "Epoch 86/100\n",
      "75/75 [==============================] - 0s 2ms/step - loss: 0.0017 - accuracy: 1.0000\n",
      "Epoch 87/100\n",
      "75/75 [==============================] - 0s 2ms/step - loss: 0.0017 - accuracy: 1.0000\n",
      "Epoch 88/100\n",
      "75/75 [==============================] - 0s 2ms/step - loss: 0.0016 - accuracy: 1.0000\n",
      "Epoch 89/100\n",
      "75/75 [==============================] - 0s 2ms/step - loss: 0.0016 - accuracy: 1.0000\n",
      "Epoch 90/100\n",
      "75/75 [==============================] - 0s 2ms/step - loss: 0.0016 - accuracy: 1.0000\n",
      "Epoch 91/100\n",
      "75/75 [==============================] - 0s 2ms/step - loss: 0.0015 - accuracy: 1.0000\n",
      "Epoch 92/100\n",
      "75/75 [==============================] - 0s 2ms/step - loss: 0.0015 - accuracy: 1.0000\n",
      "Epoch 93/100\n",
      "75/75 [==============================] - 0s 2ms/step - loss: 0.0015 - accuracy: 1.0000\n",
      "Epoch 94/100\n",
      "75/75 [==============================] - 0s 2ms/step - loss: 0.0015 - accuracy: 1.0000\n",
      "Epoch 95/100\n",
      "75/75 [==============================] - 0s 2ms/step - loss: 0.0015 - accuracy: 1.0000\n",
      "Epoch 96/100\n",
      "75/75 [==============================] - 0s 2ms/step - loss: 0.0014 - accuracy: 1.0000\n",
      "Epoch 97/100\n",
      "75/75 [==============================] - 0s 2ms/step - loss: 0.0014 - accuracy: 1.0000\n",
      "Epoch 98/100\n",
      "75/75 [==============================] - 0s 2ms/step - loss: 0.0014 - accuracy: 1.0000\n",
      "Epoch 99/100\n",
      "75/75 [==============================] - 0s 2ms/step - loss: 0.0014 - accuracy: 1.0000\n",
      "Epoch 100/100\n",
      "75/75 [==============================] - 0s 2ms/step - loss: 0.0013 - accuracy: 1.0000\n"
     ]
    },
    {
     "data": {
      "text/plain": "KerasClassifier(\n\tmodel=<keras.engine.functional.Functional object at 0x000001A15A82AA90>\n\tbuild_fn=None\n\twarm_start=False\n\trandom_state=None\n\toptimizer=<keras.optimizers.optimizer_v2.gradient_descent.SGD object at 0x000001A159275D30>\n\tloss=categorical_crossentropy\n\tmetrics=['accuracy']\n\tbatch_size=1\n\tvalidation_batch_size=None\n\tverbose=1\n\tcallbacks=None\n\tvalidation_split=0.0\n\tshuffle=True\n\trun_eagerly=False\n\tepochs=100\n\tclass_weight=None\n)",
      "text/html": "<style>#sk-container-id-6 {color: black;background-color: white;}#sk-container-id-6 pre{padding: 0;}#sk-container-id-6 div.sk-toggleable {background-color: white;}#sk-container-id-6 label.sk-toggleable__label {cursor: pointer;display: block;width: 100%;margin-bottom: 0;padding: 0.3em;box-sizing: border-box;text-align: center;}#sk-container-id-6 label.sk-toggleable__label-arrow:before {content: \"▸\";float: left;margin-right: 0.25em;color: #696969;}#sk-container-id-6 label.sk-toggleable__label-arrow:hover:before {color: black;}#sk-container-id-6 div.sk-estimator:hover label.sk-toggleable__label-arrow:before {color: black;}#sk-container-id-6 div.sk-toggleable__content {max-height: 0;max-width: 0;overflow: hidden;text-align: left;background-color: #f0f8ff;}#sk-container-id-6 div.sk-toggleable__content pre {margin: 0.2em;color: black;border-radius: 0.25em;background-color: #f0f8ff;}#sk-container-id-6 input.sk-toggleable__control:checked~div.sk-toggleable__content {max-height: 200px;max-width: 100%;overflow: auto;}#sk-container-id-6 input.sk-toggleable__control:checked~label.sk-toggleable__label-arrow:before {content: \"▾\";}#sk-container-id-6 div.sk-estimator input.sk-toggleable__control:checked~label.sk-toggleable__label {background-color: #d4ebff;}#sk-container-id-6 div.sk-label input.sk-toggleable__control:checked~label.sk-toggleable__label {background-color: #d4ebff;}#sk-container-id-6 input.sk-hidden--visually {border: 0;clip: rect(1px 1px 1px 1px);clip: rect(1px, 1px, 1px, 1px);height: 1px;margin: -1px;overflow: hidden;padding: 0;position: absolute;width: 1px;}#sk-container-id-6 div.sk-estimator {font-family: monospace;background-color: #f0f8ff;border: 1px dotted black;border-radius: 0.25em;box-sizing: border-box;margin-bottom: 0.5em;}#sk-container-id-6 div.sk-estimator:hover {background-color: #d4ebff;}#sk-container-id-6 div.sk-parallel-item::after {content: \"\";width: 100%;border-bottom: 1px solid gray;flex-grow: 1;}#sk-container-id-6 div.sk-label:hover label.sk-toggleable__label {background-color: #d4ebff;}#sk-container-id-6 div.sk-serial::before {content: \"\";position: absolute;border-left: 1px solid gray;box-sizing: border-box;top: 0;bottom: 0;left: 50%;z-index: 0;}#sk-container-id-6 div.sk-serial {display: flex;flex-direction: column;align-items: center;background-color: white;padding-right: 0.2em;padding-left: 0.2em;position: relative;}#sk-container-id-6 div.sk-item {position: relative;z-index: 1;}#sk-container-id-6 div.sk-parallel {display: flex;align-items: stretch;justify-content: center;background-color: white;position: relative;}#sk-container-id-6 div.sk-item::before, #sk-container-id-6 div.sk-parallel-item::before {content: \"\";position: absolute;border-left: 1px solid gray;box-sizing: border-box;top: 0;bottom: 0;left: 50%;z-index: -1;}#sk-container-id-6 div.sk-parallel-item {display: flex;flex-direction: column;z-index: 1;position: relative;background-color: white;}#sk-container-id-6 div.sk-parallel-item:first-child::after {align-self: flex-end;width: 50%;}#sk-container-id-6 div.sk-parallel-item:last-child::after {align-self: flex-start;width: 50%;}#sk-container-id-6 div.sk-parallel-item:only-child::after {width: 0;}#sk-container-id-6 div.sk-dashed-wrapped {border: 1px dashed gray;margin: 0 0.4em 0.5em 0.4em;box-sizing: border-box;padding-bottom: 0.4em;background-color: white;}#sk-container-id-6 div.sk-label label {font-family: monospace;font-weight: bold;display: inline-block;line-height: 1.2em;}#sk-container-id-6 div.sk-label-container {text-align: center;}#sk-container-id-6 div.sk-container {/* jupyter's `normalize.less` sets `[hidden] { display: none; }` but bootstrap.min.css set `[hidden] { display: none !important; }` so we also need the `!important` here to be able to override the default hidden behavior on the sphinx rendered scikit-learn.org. See: https://github.com/scikit-learn/scikit-learn/issues/21755 */display: inline-block !important;position: relative;}#sk-container-id-6 div.sk-text-repr-fallback {display: none;}</style><div id=\"sk-container-id-6\" class=\"sk-top-container\"><div class=\"sk-text-repr-fallback\"><pre>KerasClassifier(\n\tmodel=&lt;keras.engine.functional.Functional object at 0x000001A15A82AA90&gt;\n\tbuild_fn=None\n\twarm_start=False\n\trandom_state=None\n\toptimizer=&lt;keras.optimizers.optimizer_v2.gradient_descent.SGD object at 0x000001A159275D30&gt;\n\tloss=categorical_crossentropy\n\tmetrics=[&#x27;accuracy&#x27;]\n\tbatch_size=1\n\tvalidation_batch_size=None\n\tverbose=1\n\tcallbacks=None\n\tvalidation_split=0.0\n\tshuffle=True\n\trun_eagerly=False\n\tepochs=100\n\tclass_weight=None\n)</pre><b>In a Jupyter environment, please rerun this cell to show the HTML representation or trust the notebook. <br />On GitHub, the HTML representation is unable to render, please try loading this page with nbviewer.org.</b></div><div class=\"sk-container\" hidden><div class=\"sk-item\"><div class=\"sk-estimator sk-toggleable\"><input class=\"sk-toggleable__control sk-hidden--visually\" id=\"sk-estimator-id-6\" type=\"checkbox\" checked><label for=\"sk-estimator-id-6\" class=\"sk-toggleable__label sk-toggleable__label-arrow\">KerasClassifier</label><div class=\"sk-toggleable__content\"><pre>KerasClassifier(\n\tmodel=&lt;keras.engine.functional.Functional object at 0x000001A15A82AA90&gt;\n\tbuild_fn=None\n\twarm_start=False\n\trandom_state=None\n\toptimizer=&lt;keras.optimizers.optimizer_v2.gradient_descent.SGD object at 0x000001A159275D30&gt;\n\tloss=categorical_crossentropy\n\tmetrics=[&#x27;accuracy&#x27;]\n\tbatch_size=1\n\tvalidation_batch_size=None\n\tverbose=1\n\tcallbacks=None\n\tvalidation_split=0.0\n\tshuffle=True\n\trun_eagerly=False\n\tepochs=100\n\tclass_weight=None\n)</pre></div></div></div></div></div>"
     },
     "execution_count": 213,
     "metadata": {},
     "output_type": "execute_result"
    }
   ],
   "source": [
    "clf.fit(X_train, y_train_binarized)"
   ]
  },
  {
   "cell_type": "code",
   "execution_count": 214,
   "outputs": [
    {
     "name": "stdout",
     "output_type": "stream",
     "text": [
      "75/75 [==============================] - 0s 2ms/step\n"
     ]
    },
    {
     "data": {
      "text/plain": "0     virginica\n1     virginica\n2     virginica\n3        setosa\n4    versicolor\n5        setosa\n6     virginica\n7     virginica\n8     virginica\n9    versicolor\ndtype: category\nCategories (3, object): ['setosa', 'versicolor', 'virginica']"
     },
     "execution_count": 214,
     "metadata": {},
     "output_type": "execute_result"
    }
   ],
   "source": [
    "y_pred = clf.predict(X_test)\n",
    "y_pred = pd.Series(np.argmax(y_pred, axis=1))\n",
    "y_pred = y_pred.astype('category')\n",
    "y_pred = y_pred.replace({0: 'setosa', 1: 'versicolor', 2: 'virginica'})\n",
    "y_pred.head(10)"
   ],
   "metadata": {
    "collapsed": false
   }
  },
  {
   "cell_type": "markdown",
   "id": "90f820f9-dc6c-4a47-acb8-a955bd190e22",
   "metadata": {},
   "source": [
    "**22)** [P] Use the predictions to generate a confusion matrix. Be sure to pay attention to whether the predictions\n",
    "are class labels or probabilities of each class. If they are probabilities, then you need to use the argmax()\n",
    "method to get the class label."
   ]
  },
  {
   "cell_type": "code",
   "execution_count": 215,
   "id": "dc1e3f8d-1a43-4178-b266-9d5e9b9723d8",
   "metadata": {},
   "outputs": [
    {
     "data": {
      "text/plain": "<Figure size 640x480 with 2 Axes>",
      "image/png": "[encoded data removed]"
     },
     "metadata": {},
     "output_type": "display_data"
    }
   ],
   "source": [
    "disp = ConfusionMatrixDisplay(confusion_matrix(y_test, y_pred),\n",
    "                              display_labels=[\"setosa\", \"versicolor\", \"virginica\"])\n",
    "disp = disp.plot(include_values=True, ax=None, cmap=plt.cm.Blues)\n",
    "plt.tick_params(axis=u'both', which=u'both',length=0)\n",
    "plt.grid(visible=None)\n",
    "plt.show()"
   ]
  },
  {
   "cell_type": "markdown",
   "id": "98acf8d3-0b90-4428-9ad1-1eb9b1033dbd",
   "metadata": {},
   "source": [
    "**23)** [P] Generate a performance report with the classification_report function"
   ]
  },
  {
   "cell_type": "code",
   "execution_count": 216,
   "id": "da813653-0b3e-45dd-a016-e28cb90dddde",
   "metadata": {},
   "outputs": [
    {
     "name": "stdout",
     "output_type": "stream",
     "text": [
      "              precision    recall  f1-score   support\n",
      "\n",
      "      setosa       1.00      0.96      0.98        23\n",
      "  versicolor       0.86      0.82      0.84        22\n",
      "   virginica       0.88      0.93      0.90        30\n",
      "\n",
      "    accuracy                           0.91        75\n",
      "   macro avg       0.91      0.90      0.91        75\n",
      "weighted avg       0.91      0.91      0.91        75\n",
      "\n"
     ]
    }
   ],
   "source": [
    "print(classification_report(y_test, y_pred))"
   ]
  },
  {
   "cell_type": "markdown",
   "id": "6dee05cc-d2c1-4840-a5b5-e15ce6b7daf5",
   "metadata": {},
   "source": [
    "**24)** [P] Now, harness the power of wrapping this class. Use your code from lab10 that performed a full cross \n",
    "validation. For sake of your time, you may set K to 5. Also, you will likely want to disable verbose mode for \n",
    "this, otherwise you'll have a LOT of output. AND, because deep learning models can take a while to train each \n",
    "model, it is a good idea to generate some output in your loop to show that the cross validation is progressing. "
   ]
  },
  {
   "cell_type": "code",
   "execution_count": 217,
   "id": "c8cb76c4-bde8-4959-9327-3c3197458413",
   "metadata": {},
   "outputs": [
    {
     "name": "stdout",
     "output_type": "stream",
     "text": [
      "Starting Fold #1\n",
      "Fold #1 complete, time = 19.1 sec\n",
      "Starting Fold #2\n",
      "Fold #2 complete, time = 18.83 sec\n",
      "Starting Fold #3\n",
      "Fold #3 complete, time = 18.35 sec\n",
      "Starting Fold #4\n",
      "Fold #4 complete, time = 19.62 sec\n",
      "Starting Fold #5\n",
      "Fold #5 complete, time = 18.27 sec\n"
     ]
    },
    {
     "data": {
      "text/plain": "   dt_def\n0  setosa\n1  setosa\n2  setosa\n3  setosa\n4  setosa\n5  setosa\n6  setosa\n7  setosa\n8  setosa\n9  setosa",
      "text/html": "<div>\n<style scoped>\n    .dataframe tbody tr th:only-of-type {\n        vertical-align: middle;\n    }\n\n    .dataframe tbody tr th {\n        vertical-align: top;\n    }\n\n    .dataframe thead th {\n        text-align: right;\n    }\n</style>\n<table border=\"1\" class=\"dataframe\">\n  <thead>\n    <tr style=\"text-align: right;\">\n      <th></th>\n      <th>dt_def</th>\n    </tr>\n  </thead>\n  <tbody>\n    <tr>\n      <th>0</th>\n      <td>setosa</td>\n    </tr>\n    <tr>\n      <th>1</th>\n      <td>setosa</td>\n    </tr>\n    <tr>\n      <th>2</th>\n      <td>setosa</td>\n    </tr>\n    <tr>\n      <th>3</th>\n      <td>setosa</td>\n    </tr>\n    <tr>\n      <th>4</th>\n      <td>setosa</td>\n    </tr>\n    <tr>\n      <th>5</th>\n      <td>setosa</td>\n    </tr>\n    <tr>\n      <th>6</th>\n      <td>setosa</td>\n    </tr>\n    <tr>\n      <th>7</th>\n      <td>setosa</td>\n    </tr>\n    <tr>\n      <th>8</th>\n      <td>setosa</td>\n    </tr>\n    <tr>\n      <th>9</th>\n      <td>setosa</td>\n    </tr>\n  </tbody>\n</table>\n</div>"
     },
     "execution_count": 217,
     "metadata": {},
     "output_type": "execute_result"
    }
   ],
   "source": [
    "# import warnings filter\n",
    "from warnings import simplefilter\n",
    "# ignore all future warnings\n",
    "simplefilter(action='ignore', category=FutureWarning)\n",
    "\n",
    "kfold = KFold(n_splits=5, shuffle=True, random_state=100)\n",
    "\n",
    "# ChatGPT\n",
    "\n",
    "df_results = pd.DataFrame(columns=[\"dt_def\"], index=X.index)\n",
    "\n",
    "for i, (train_index, test_index) in enumerate(kfold.split(X)):\n",
    "\n",
    "    start_time = time.time()\n",
    "    print(\"Starting Fold #\" + str(i+1))\n",
    "\n",
    "    # split the data into training and testing sets\n",
    "    X_train, X_test = X.iloc[train_index], X.iloc[test_index]\n",
    "    y_train, y_test = y.iloc[train_index], y.iloc[test_index]\n",
    "\n",
    "    # set up the sgd optimizer\n",
    "    sgd = SGD(learning_rate=0.03, momentum=0.7)\n",
    "\n",
    "    # create a wrapped keras model\n",
    "    clf = KerasClassifier(model=create_keras_model(),\n",
    "                          optimizer=sgd,\n",
    "                          loss=\"categorical_crossentropy\",\n",
    "                          metrics=[\"accuracy\"],\n",
    "                          epochs=100,\n",
    "                          verbose= 0,\n",
    "                          batch_size=1)\n",
    "\n",
    "    # train the keras classifier on the training data\n",
    "    clf.fit(X_train, y_train)\n",
    "\n",
    "    # predict the data\n",
    "    y_pred = clf.predict(X_test)\n",
    "\n",
    "    # convert y_pred into a dataframe\n",
    "    y_pred = pd.DataFrame(data=y_pred, index=X_test.index, columns=[\"dt_def\"])\n",
    "\n",
    "    # add the prediction to df_results\n",
    "    df_results.update(y_pred)\n",
    "\n",
    "    print(\"Fold #\" + str(i+1) + \" complete, time = \" +\n",
    "          str(round((time.time() - start_time), 2)) + \" sec\")\n",
    "\n",
    "df_results.head(10)"
   ]
  },
  {
   "cell_type": "markdown",
   "id": "2590f475-1c71-4c2a-8a2c-d3033ed3685e",
   "metadata": {},
   "source": [
    "**25)** [P] Generate a full confusion matrix and final classification report based on your 5-fold cross validation of the \n",
    "keras model."
   ]
  },
  {
   "cell_type": "code",
   "execution_count": 218,
   "id": "d9a2a67c-a443-46c6-9b32-f052188092e7",
   "metadata": {},
   "outputs": [
    {
     "data": {
      "text/plain": "<Figure size 640x480 with 2 Axes>",
      "image/png": "[encoded data removed]"
     },
     "metadata": {},
     "output_type": "display_data"
    }
   ],
   "source": [
    "disp = ConfusionMatrixDisplay(confusion_matrix(y, df_results),\n",
    "                              display_labels=[\"setosa\", \"versicolor\", \"virginica\"])\n",
    "disp = disp.plot(include_values=True, ax=None, cmap=plt.cm.Blues)\n",
    "plt.tick_params(axis=u'both', which=u'both',length=0)\n",
    "plt.grid(visible=None)\n",
    "plt.show()"
   ]
  },
  {
   "cell_type": "code",
   "execution_count": 219,
   "outputs": [
    {
     "name": "stdout",
     "output_type": "stream",
     "text": [
      "              precision    recall  f1-score   support\n",
      "\n",
      "      setosa       1.00      0.98      0.99        50\n",
      "  versicolor       0.89      0.94      0.91        50\n",
      "   virginica       0.94      0.90      0.92        50\n",
      "\n",
      "    accuracy                           0.94       150\n",
      "   macro avg       0.94      0.94      0.94       150\n",
      "weighted avg       0.94      0.94      0.94       150\n",
      "\n"
     ]
    }
   ],
   "source": [
    "print(classification_report(y, df_results))"
   ],
   "metadata": {
    "collapsed": false
   }
  }
 ],
 "metadata": {
  "kernelspec": {
   "display_name": "Python 3 (ipykernel)",
   "language": "python",
   "name": "python3"
  },
  "language_info": {
   "codemirror_mode": {
    "name": "ipython",
    "version": 3
   },
   "file_extension": ".py",
   "mimetype": "text/x-python",
   "name": "python",
   "nbconvert_exporter": "python",
   "pygments_lexer": "ipython3",
   "version": "3.9.16"
  }
 },
 "nbformat": 4,
 "nbformat_minor": 5
}
