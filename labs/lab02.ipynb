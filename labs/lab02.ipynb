{
 "cells": [
  {
   "cell_type": "markdown",
   "metadata": {},
   "source": [
    "# Lab02 - numpy\n",
    "\n",
    "Name: Jimmy (Qixiao) Zhu\n",
    "Class: CSCI 349 - Intro to Data Mining\n",
    "Semester: 2023SP\n",
    "Instructor: Brian King"
   ]
  },
  {
   "cell_type": "code",
   "execution_count": 33,
   "metadata": {
    "collapsed": false,
    "jupyter": {
     "outputs_hidden": false
    }
   },
   "outputs": [
    {
     "name": "stdout",
     "output_type": "stream",
     "text": [
      "3.9.16 (main, Jan 11 2023, 16:16:36) [MSC v.1916 64 bit (AMD64)]\n",
      "numpy: 1.23.5\n"
     ]
    }
   ],
   "source": [
    "# Setting things up\n",
    "import sys\n",
    "import numpy as np\n",
    "print(sys.version)\n",
    "print(\"numpy: \" + str(np.__version__))"
   ]
  },
  {
   "cell_type": "markdown",
   "metadata": {},
   "source": [
    "**1)** [P] Create a 100000 x 75 matrix of zeros, stored as X. Then, print out the shape of the matrix, the base data type, the individual item size in the array, and the total size of the array in bytes (as an integer). Also, print out the total size in megabytes with 3 significant digits."
   ]
  },
  {
   "cell_type": "code",
   "execution_count": 34,
   "metadata": {
    "collapsed": false,
    "jupyter": {
     "outputs_hidden": false
    }
   },
   "outputs": [
    {
     "name": "stdout",
     "output_type": "stream",
     "text": [
      "Shape: (100000, 75)\n",
      "Data type: float64\n",
      "Individual Item size: 8 bytes\n",
      "Total size: 60000000 bytes\n",
      "Total size: 57.220 megabytes\n"
     ]
    }
   ],
   "source": [
    "X = np.zeros((100000, 75))\n",
    "print(\"Shape: \" + str(X.shape))\n",
    "print(\"Data type: \" + str(X.dtype))\n",
    "print(\"Individual Item size: \" + str(X.itemsize) + \" bytes\")\n",
    "print(\"Total size: \" + str(X.nbytes) + \" bytes\")\n",
    "print(\"Total size: {:.3f} megabytes\".format(X.nbytes / (1024 * 1024)))\n"
   ]
  },
  {
   "cell_type": "markdown",
   "metadata": {},
   "source": [
    "**2)** [P] Resize X to have the same number of elements, but with 100 columns. Show the shape. Show the number of bytes (which should be the same as the previous answer)"
   ]
  },
  {
   "cell_type": "code",
   "execution_count": 35,
   "metadata": {
    "collapsed": false,
    "jupyter": {
     "outputs_hidden": false
    }
   },
   "outputs": [
    {
     "name": "stdout",
     "output_type": "stream",
     "text": [
      "Shape: (75000, 100)\n",
      "Number of bytes: 60000000 bytes\n"
     ]
    }
   ],
   "source": [
    "X = X.reshape((-1, 100))\n",
    "print(\"Shape: \" + str(X.shape))\n",
    "print(\"Number of bytes: \" + str(X.nbytes) + \" bytes\")"
   ]
  },
  {
   "cell_type": "markdown",
   "metadata": {},
   "source": [
    "**3)** [P] Redo #1, but use a base datatype of 16-bit integers."
   ]
  },
  {
   "cell_type": "code",
   "execution_count": 36,
   "metadata": {
    "collapsed": false,
    "jupyter": {
     "outputs_hidden": false
    }
   },
   "outputs": [
    {
     "name": "stdout",
     "output_type": "stream",
     "text": [
      "Shape: (100000, 75)\n",
      "Data type: int16\n",
      "Individual Item size: 2 bytes\n",
      "Total size: 15000000 bytes\n",
      "Total size: 14.305 megabytes\n"
     ]
    }
   ],
   "source": [
    "X = np.zeros((100000, 75), dtype=np.int16)\n",
    "print(\"Shape: \" + str(X.shape))\n",
    "print(\"Data type: \" + str(X.dtype))\n",
    "print(\"Individual Item size: \" + str(X.itemsize) + \" bytes\")\n",
    "print(\"Total size: \" + str(X.nbytes) + \" bytes\")\n",
    "print(\"Total size: {:.3f} megabytes\".format(X.nbytes / (1024 * 1024)))"
   ]
  },
  {
   "cell_type": "markdown",
   "metadata": {},
   "source": [
    "**4)** [P] How many dimensions does X have? Answer using the appropriate property of np.ndarray objects."
   ]
  },
  {
   "cell_type": "code",
   "execution_count": 37,
   "metadata": {
    "collapsed": false,
    "jupyter": {
     "outputs_hidden": false
    }
   },
   "outputs": [
    {
     "data": {
      "text/plain": "2"
     },
     "execution_count": 37,
     "metadata": {},
     "output_type": "execute_result"
    }
   ],
   "source": [
    "X.ndim"
   ]
  },
  {
   "cell_type": "markdown",
   "metadata": {},
   "source": [
    "**5)** [P] Enter the following Python list in your cell:\n",
    "str_nums = ['2.14', '-9.300', '42']\n",
    "Convert this to a numpy array named X. What is the base type? Show the contents of X.\n",
    "We want numeric representation. So, convert X to an array of single precision floating point numbers. (HINT: use astype). Show X again."
   ]
  },
  {
   "cell_type": "code",
   "execution_count": 38,
   "metadata": {
    "collapsed": false,
    "jupyter": {
     "outputs_hidden": false
    }
   },
   "outputs": [
    {
     "name": "stdout",
     "output_type": "stream",
     "text": [
      "Base type: <U6\n",
      "['2.14' '-9.300' '42']\n",
      "[ 2.14 -9.3  42.  ]\n"
     ]
    }
   ],
   "source": [
    "str_nums = ['2.14', '-9.300', '42']\n",
    "X = np.array(str_nums)\n",
    "print(\"Base type: \" + str(X.dtype))\n",
    "print(X)\n",
    "X = X.astype(np.float32)\n",
    "print(X)"
   ]
  },
  {
   "cell_type": "markdown",
   "metadata": {},
   "source": [
    "**6)** [P] Copy the three definitions above for the Python lists days, scores_1, and scores_2. Create a numpy array called scores that has scores_1 as the first row and scores_2 as the second row using np.concatenate. Then, change days into a np.array from the list days. Show the contents of scores and days, and output their shape."
   ]
  },
  {
   "cell_type": "code",
   "execution_count": 39,
   "metadata": {
    "collapsed": false,
    "jupyter": {
     "outputs_hidden": false
    }
   },
   "outputs": [
    {
     "name": "stdout",
     "output_type": "stream",
     "text": [
      "scores:\n",
      "[[ 9.5   8.75  8.   10.    7.75]\n",
      " [ 9.    8.    9.5   8.75  7.25]]\n",
      "scores shape: (2, 5)\n",
      "\n",
      "days:\n",
      "['Mon' 'Tue' 'Wed' 'Thu' 'Fri']\n",
      "days shape: (5,)\n"
     ]
    }
   ],
   "source": [
    "days = [\"Mon\",\"Tue\",\"Wed\",\"Thu\",\"Fri\"]\n",
    "scores_1 = [9.5, 8.75, 8, 10, 7.75]\n",
    "scores_2 = [9, 8, 9.5, 8.75, 7.25]\n",
    "\n",
    "scores_1 = np.array(scores_1)[np.newaxis, :]\n",
    "scores_2 = np.array(scores_2)[np.newaxis, :]\n",
    "\n",
    "scores = np.concatenate((scores_1, scores_2), axis=0)\n",
    "days = np.array(days)\n",
    "\n",
    "print(\"scores:\")\n",
    "print(scores)\n",
    "print(\"scores shape: \" + str(scores.shape) + \"\\n\")\n",
    "print(\"days:\")\n",
    "print(days)\n",
    "print(\"days shape: \" + str(days.shape))"
   ]
  },
  {
   "cell_type": "markdown",
   "metadata": {},
   "source": [
    "**7)** [P] Repeat the previous problem with the creation of scores from the Python lists scores_1 and\n",
    "scores_2, but now do it with np.vstack. The array should be identical."
   ]
  },
  {
   "cell_type": "code",
   "execution_count": 40,
   "metadata": {
    "collapsed": false,
    "jupyter": {
     "outputs_hidden": false
    }
   },
   "outputs": [
    {
     "data": {
      "text/plain": "array([[ 9.5 ,  8.75,  8.  , 10.  ,  7.75],\n       [ 9.  ,  8.  ,  9.5 ,  8.75,  7.25]])"
     },
     "execution_count": 40,
     "metadata": {},
     "output_type": "execute_result"
    }
   ],
   "source": [
    "scores = np.vstack((scores_1, scores_2))\n",
    "scores"
   ]
  },
  {
   "cell_type": "markdown",
   "metadata": {},
   "source": [
    "**8)** [P/M] Compare the result of the expression days == \"Fri\" if the variable days was a Python list as\n",
    "entered above, vs. days being a numpy array. What is the difference in the result? In general, how does\n",
    "numpy deal with standard comparison operators?"
   ]
  },
  {
   "cell_type": "code",
   "execution_count": 41,
   "metadata": {
    "collapsed": false,
    "jupyter": {
     "outputs_hidden": false
    }
   },
   "outputs": [
    {
     "name": "stdout",
     "output_type": "stream",
     "text": [
      "False\n",
      "[False False False False  True]\n"
     ]
    }
   ],
   "source": [
    "days = days.tolist()\n",
    "print(days == \"Fri\")\n",
    "\n",
    "days = np.array(days)\n",
    "print(days == \"Fri\")"
   ]
  },
  {
   "cell_type": "markdown",
   "metadata": {},
   "source": [
    "Python is only comparing if the list \"days\" is the same as the string \"Fri\". They are not of the same type, so Python outputs False. Numpy, on the other hand, compares every element of the list \"days\" to \"Fri\" and lets us see if each element is the same as \"Fri\". In general, numpy compares every element of the array on the left of \"==\" with the thing on the right."
   ]
  },
  {
   "cell_type": "markdown",
   "metadata": {},
   "source": [
    "**9)** [P] The scores array represents quizzes that are out of 10 pts. Show the scores array scaled to be out of 100\n",
    "pts (but do not change scores itself.)"
   ]
  },
  {
   "cell_type": "code",
   "execution_count": 42,
   "metadata": {
    "collapsed": false,
    "jupyter": {
     "outputs_hidden": false
    }
   },
   "outputs": [
    {
     "data": {
      "text/plain": "array([[ 95. ,  87.5,  80. , 100. ,  77.5],\n       [ 90. ,  80. ,  95. ,  87.5,  72.5]])"
     },
     "execution_count": 42,
     "metadata": {},
     "output_type": "execute_result"
    }
   ],
   "source": [
    "scores_100 = scores * 10\n",
    "scores_100"
   ]
  },
  {
   "cell_type": "markdown",
   "metadata": {},
   "source": [
    "**10)** [P] Select the scores that fell on Tuesday."
   ]
  },
  {
   "cell_type": "code",
   "execution_count": 43,
   "metadata": {
    "collapsed": false,
    "jupyter": {
     "outputs_hidden": false
    }
   },
   "outputs": [
    {
     "data": {
      "text/plain": "array([[8.75],\n       [8.  ]])"
     },
     "execution_count": 43,
     "metadata": {},
     "output_type": "execute_result"
    }
   ],
   "source": [
    "is_Tue = (days == \"Tue\")\n",
    "scores[:, is_Tue]"
   ]
  },
  {
   "cell_type": "markdown",
   "metadata": {},
   "source": [
    "**11)** [P] Select all of the scores that are NOT on Tuesday (Hint – look up the ~ operator)"
   ]
  },
  {
   "cell_type": "code",
   "execution_count": 44,
   "metadata": {
    "collapsed": false,
    "jupyter": {
     "outputs_hidden": false
    }
   },
   "outputs": [
    {
     "data": {
      "text/plain": "array([[ 9.5 ,  8.  , 10.  ,  7.75],\n       [ 9.  ,  9.5 ,  8.75,  7.25]])"
     },
     "execution_count": 44,
     "metadata": {},
     "output_type": "execute_result"
    }
   ],
   "source": [
    "scores[:, ~is_Tue]"
   ]
  },
  {
   "cell_type": "markdown",
   "metadata": {},
   "source": [
    "**12)** [P] Select the scores that were on Tuesday or Thursday"
   ]
  },
  {
   "cell_type": "code",
   "execution_count": 45,
   "metadata": {
    "collapsed": false,
    "jupyter": {
     "outputs_hidden": false
    }
   },
   "outputs": [
    {
     "data": {
      "text/plain": "array([[ 8.75, 10.  ],\n       [ 8.  ,  8.75]])"
     },
     "execution_count": 45,
     "metadata": {},
     "output_type": "execute_result"
    }
   ],
   "source": [
    "# ChatGPT\n",
    "is_tue_or_thu = np.isin(days, [\"Tue\", \"Thu\"])\n",
    "scores[:, is_tue_or_thu]"
   ]
  },
  {
   "cell_type": "markdown",
   "metadata": {},
   "source": [
    "**13)** [P] Show the minimum and maximum scores for the entire array of scores"
   ]
  },
  {
   "cell_type": "code",
   "execution_count": 46,
   "metadata": {
    "collapsed": false,
    "jupyter": {
     "outputs_hidden": false
    }
   },
   "outputs": [
    {
     "name": "stdout",
     "output_type": "stream",
     "text": [
      "min = 7.25\n",
      "max = 10.0\n"
     ]
    }
   ],
   "source": [
    "print(\"min = \" + str(scores.min()))\n",
    "print(\"max = \" + str(scores.max()))"
   ]
  },
  {
   "cell_type": "markdown",
   "metadata": {},
   "source": [
    "**14)** [P] Show the maximum scores for each week as a new array. The result should have the same dimensions (hint\n",
    "– use the keepdims parameter of np.max)."
   ]
  },
  {
   "cell_type": "code",
   "execution_count": 47,
   "metadata": {
    "collapsed": false,
    "jupyter": {
     "outputs_hidden": false
    }
   },
   "outputs": [
    {
     "data": {
      "text/plain": "array([[10. ],\n       [ 9.5]])"
     },
     "execution_count": 47,
     "metadata": {},
     "output_type": "execute_result"
    }
   ],
   "source": [
    "scores.max(axis=1, keepdims=True)"
   ]
  },
  {
   "cell_type": "markdown",
   "metadata": {},
   "source": [
    "**15)** [P] Report the day that the maximum score occurred each week. (HINT: use argmax and use that result to\n",
    "index days.)"
   ]
  },
  {
   "cell_type": "code",
   "execution_count": 48,
   "metadata": {
    "collapsed": false,
    "jupyter": {
     "outputs_hidden": false
    }
   },
   "outputs": [
    {
     "data": {
      "text/plain": "array(['Thu', 'Wed'], dtype='<U3')"
     },
     "execution_count": 48,
     "metadata": {},
     "output_type": "execute_result"
    }
   ],
   "source": [
    "max_score_by_week = np.argmax(scores, axis=1)\n",
    "days[max_score_by_week]"
   ]
  },
  {
   "cell_type": "markdown",
   "metadata": {},
   "source": [
    "**16)** [P] Report the mean of the scores of each week"
   ]
  },
  {
   "cell_type": "code",
   "execution_count": 49,
   "metadata": {
    "collapsed": false,
    "jupyter": {
     "outputs_hidden": false
    }
   },
   "outputs": [
    {
     "data": {
      "text/plain": "array([8.8, 8.5])"
     },
     "execution_count": 49,
     "metadata": {},
     "output_type": "execute_result"
    }
   ],
   "source": [
    "scores.mean(axis=1)"
   ]
  },
  {
   "cell_type": "markdown",
   "metadata": {},
   "source": [
    "**17)** [P] Suppose the lowest score was dropped from each week. Report the mean of each week, but without the\n",
    "minimum score for that week."
   ]
  },
  {
   "cell_type": "code",
   "execution_count": 50,
   "metadata": {
    "collapsed": false,
    "jupyter": {
     "outputs_hidden": false
    }
   },
   "outputs": [
    {
     "data": {
      "text/plain": "array([9.0625, 8.8125])"
     },
     "execution_count": 50,
     "metadata": {},
     "output_type": "execute_result"
    }
   ],
   "source": [
    "no_min_by_week = np.delete(scores, scores.argmin(axis=1), axis=1)\n",
    "no_min_by_week.mean(axis=1)"
   ]
  },
  {
   "cell_type": "markdown",
   "metadata": {},
   "source": [
    "**18)** [P] Show the number of scores that were > 9 each week as an array."
   ]
  },
  {
   "cell_type": "code",
   "execution_count": 51,
   "metadata": {
    "collapsed": false,
    "jupyter": {
     "outputs_hidden": false
    }
   },
   "outputs": [
    {
     "data": {
      "text/plain": "array([2, 1])"
     },
     "execution_count": 51,
     "metadata": {},
     "output_type": "execute_result"
    }
   ],
   "source": [
    "greater_9 = scores > 9\n",
    "greater_9.sum(axis=1)"
   ]
  },
  {
   "cell_type": "code",
   "execution_count": 52,
   "metadata": {
    "collapsed": false,
    "jupyter": {
     "outputs_hidden": false
    }
   },
   "outputs": [
    {
     "data": {
      "text/plain": "array([[48, 84, 39, 54, 77],\n       [25, 16, 50, 24, 27],\n       [31, 44, 31, 27, 59],\n       [93, 70, 81, 74, 48],\n       [51, 77, 38, 35, 39],\n       [68, 12,  1, 76, 81],\n       [ 4,  3, 20, 13, 66],\n       [76, 82, 15, 72, 61],\n       [47, 29, 82, 88, 14],\n       [97, 13, 70, 96, 32]])"
     },
     "execution_count": 52,
     "metadata": {},
     "output_type": "execute_result"
    }
   ],
   "source": [
    "np.random.seed(1234)\n",
    "X = np.random.randint(1,100,50).reshape((10,5))\n",
    "X"
   ]
  },
  {
   "cell_type": "markdown",
   "metadata": {},
   "source": [
    "**19)** [P] Select the first row of X"
   ]
  },
  {
   "cell_type": "code",
   "execution_count": 53,
   "metadata": {
    "collapsed": false,
    "jupyter": {
     "outputs_hidden": false
    }
   },
   "outputs": [
    {
     "data": {
      "text/plain": "array([48, 84, 39, 54, 77])"
     },
     "execution_count": 53,
     "metadata": {},
     "output_type": "execute_result"
    }
   ],
   "source": [
    "X[0, :]"
   ]
  },
  {
   "cell_type": "markdown",
   "metadata": {},
   "source": [
    "**20)** [P] Select the last column of X"
   ]
  },
  {
   "cell_type": "code",
   "execution_count": 54,
   "metadata": {
    "collapsed": false,
    "jupyter": {
     "outputs_hidden": false
    }
   },
   "outputs": [
    {
     "data": {
      "text/plain": "array([77, 27, 59, 48, 39, 81, 66, 61, 14, 32])"
     },
     "execution_count": 54,
     "metadata": {},
     "output_type": "execute_result"
    }
   ],
   "source": [
    "X[:, -1]"
   ]
  },
  {
   "cell_type": "markdown",
   "metadata": {},
   "source": [
    "**21)** [P] Select the first AND last column of X"
   ]
  },
  {
   "cell_type": "code",
   "execution_count": 55,
   "metadata": {
    "collapsed": false,
    "jupyter": {
     "outputs_hidden": false
    }
   },
   "outputs": [
    {
     "data": {
      "text/plain": "array([[48, 77],\n       [25, 27],\n       [31, 59],\n       [93, 48],\n       [51, 39],\n       [68, 81],\n       [ 4, 66],\n       [76, 61],\n       [47, 14],\n       [97, 32]])"
     },
     "execution_count": 55,
     "metadata": {},
     "output_type": "execute_result"
    }
   ],
   "source": [
    "X[:, (0, -1)]"
   ]
  },
  {
   "cell_type": "markdown",
   "metadata": {},
   "source": [
    "**22)** [P] Select every other row of X"
   ]
  },
  {
   "cell_type": "code",
   "execution_count": 56,
   "metadata": {
    "collapsed": false,
    "jupyter": {
     "outputs_hidden": false
    }
   },
   "outputs": [
    {
     "data": {
      "text/plain": "array([[48, 84, 39, 54, 77],\n       [31, 44, 31, 27, 59],\n       [51, 77, 38, 35, 39],\n       [ 4,  3, 20, 13, 66],\n       [47, 29, 82, 88, 14]])"
     },
     "execution_count": 56,
     "metadata": {},
     "output_type": "execute_result"
    }
   ],
   "source": [
    "X[::2]"
   ]
  },
  {
   "cell_type": "markdown",
   "metadata": {},
   "source": [
    "**23)** [P] Show the transpose of X, but don't change X itself"
   ]
  },
  {
   "cell_type": "code",
   "execution_count": 57,
   "metadata": {
    "collapsed": false,
    "jupyter": {
     "outputs_hidden": false
    }
   },
   "outputs": [
    {
     "data": {
      "text/plain": "array([[48, 25, 31, 93, 51, 68,  4, 76, 47, 97],\n       [84, 16, 44, 70, 77, 12,  3, 82, 29, 13],\n       [39, 50, 31, 81, 38,  1, 20, 15, 82, 70],\n       [54, 24, 27, 74, 35, 76, 13, 72, 88, 96],\n       [77, 27, 59, 48, 39, 81, 66, 61, 14, 32]])"
     },
     "execution_count": 57,
     "metadata": {},
     "output_type": "execute_result"
    }
   ],
   "source": [
    "np.transpose(X)"
   ]
  },
  {
   "cell_type": "markdown",
   "metadata": {},
   "source": [
    "**24)** [P] Select the first column of X and set the result to new variable Y."
   ]
  },
  {
   "cell_type": "code",
   "execution_count": 58,
   "metadata": {
    "collapsed": false,
    "jupyter": {
     "outputs_hidden": false
    }
   },
   "outputs": [
    {
     "data": {
      "text/plain": "array([48, 25, 31, 93, 51, 68,  4, 76, 47, 97])"
     },
     "execution_count": 58,
     "metadata": {},
     "output_type": "execute_result"
    }
   ],
   "source": [
    "Y = X[:, 0]\n",
    "Y"
   ]
  },
  {
   "cell_type": "markdown",
   "metadata": {},
   "source": [
    "**25)** [P] Increment the first value of Y, then show the corresponding value of X. Did both values in X and Y change?\n",
    "THIS IS AN IMPORTANT OBSERVATION WHEN DEALING WITH SELECTING DATA!"
   ]
  },
  {
   "cell_type": "code",
   "execution_count": 59,
   "metadata": {
    "collapsed": false,
    "jupyter": {
     "outputs_hidden": false
    }
   },
   "outputs": [
    {
     "name": "stdout",
     "output_type": "stream",
     "text": [
      "Y[0] = 49\n",
      "X[0, 0] = 49\n",
      "Both Y[0] and corresponding X[0, 0] incremented by 1.\n"
     ]
    }
   ],
   "source": [
    "Y[0] += 1\n",
    "print(\"Y[0] = \" + str(Y[0]))\n",
    "print(\"X[0, 0] = \" + str(X[0, 0]))\n",
    "print(\"Both Y[0] and corresponding X[0, 0] incremented by 1.\")"
   ]
  },
  {
   "cell_type": "markdown",
   "metadata": {},
   "source": [
    "**26)** [P] Repeat exercise 24, but ensure that Y is assigned a copy of the selected data. Increment the first value of Y\n",
    "again and ensure that the corresponding value of X did not change."
   ]
  },
  {
   "cell_type": "code",
   "execution_count": 60,
   "metadata": {
    "collapsed": false,
    "jupyter": {
     "outputs_hidden": false
    }
   },
   "outputs": [
    {
     "name": "stdout",
     "output_type": "stream",
     "text": [
      "Y[0] = 50\n",
      "X[0, 0] = 49\n"
     ]
    }
   ],
   "source": [
    "Y = np.copy(X[:, 0])\n",
    "Y[0] += 1\n",
    "print(\"Y[0] = \" + str(Y[0]))\n",
    "print(\"X[0, 0] = \" + str(X[0, 0]))"
   ]
  },
  {
   "cell_type": "markdown",
   "metadata": {},
   "source": [
    "**27)** [P] Create an array that contains the sequence of numbers 0, 0.1, 0.2, … 9.8, 9.9 using arange, as a 10x10\n",
    "matrix, stored as X. (HINT: Use np.arange)"
   ]
  },
  {
   "cell_type": "code",
   "execution_count": 61,
   "metadata": {
    "collapsed": false,
    "jupyter": {
     "outputs_hidden": false
    }
   },
   "outputs": [
    {
     "data": {
      "text/plain": "array([[0. , 0.1, 0.2, 0.3, 0.4, 0.5, 0.6, 0.7, 0.8, 0.9],\n       [1. , 1.1, 1.2, 1.3, 1.4, 1.5, 1.6, 1.7, 1.8, 1.9],\n       [2. , 2.1, 2.2, 2.3, 2.4, 2.5, 2.6, 2.7, 2.8, 2.9],\n       [3. , 3.1, 3.2, 3.3, 3.4, 3.5, 3.6, 3.7, 3.8, 3.9],\n       [4. , 4.1, 4.2, 4.3, 4.4, 4.5, 4.6, 4.7, 4.8, 4.9],\n       [5. , 5.1, 5.2, 5.3, 5.4, 5.5, 5.6, 5.7, 5.8, 5.9],\n       [6. , 6.1, 6.2, 6.3, 6.4, 6.5, 6.6, 6.7, 6.8, 6.9],\n       [7. , 7.1, 7.2, 7.3, 7.4, 7.5, 7.6, 7.7, 7.8, 7.9],\n       [8. , 8.1, 8.2, 8.3, 8.4, 8.5, 8.6, 8.7, 8.8, 8.9],\n       [9. , 9.1, 9.2, 9.3, 9.4, 9.5, 9.6, 9.7, 9.8, 9.9]])"
     },
     "execution_count": 61,
     "metadata": {},
     "output_type": "execute_result"
    }
   ],
   "source": [
    "X = np.arange(0, 10, 0.1).reshape((10, 10))\n",
    "X"
   ]
  },
  {
   "cell_type": "markdown",
   "metadata": {},
   "source": [
    "**28)** [P] Set the RNG seed to 1234. Then create an array X of 100 uniformly distributed numbers, with all values\n",
    "between 1.0 and 10.0. Then, show the mean, the median, the minimum and maximum values of X."
   ]
  },
  {
   "cell_type": "code",
   "execution_count": 62,
   "metadata": {
    "collapsed": false,
    "jupyter": {
     "outputs_hidden": false
    }
   },
   "outputs": [
    {
     "name": "stdout",
     "output_type": "stream",
     "text": [
      "first ten elements of X: [2.72367505 6.59897894 4.93954965 8.06822725 8.01978227 3.45333345\n",
      " 3.4881783  8.2168496  9.62325418 8.88339371]\n",
      "mean = 5.665266170909222\n",
      "median = 5.827284349552116\n",
      "minimum = 1.0558766492841647\n",
      "maximum = 9.928733195695253\n"
     ]
    }
   ],
   "source": [
    "np.random.seed(1234)\n",
    "X = np.random.uniform(1.0, 10.0, [100])\n",
    "print(\"first ten elements of X: \" + str(X[0 : 10]))\n",
    "print(\"mean = \" + str(X.mean()))\n",
    "print(\"median = \" + str(np.median(X)))\n",
    "print(\"minimum = \" + str(X.min()))\n",
    "print(\"maximum = \" + str(X.max()))"
   ]
  },
  {
   "cell_type": "markdown",
   "metadata": {},
   "source": [
    "**29)** [M] Define what is meant by a normal distribution. What are the parameters of a normal distribution?"
   ]
  },
  {
   "cell_type": "markdown",
   "metadata": {},
   "source": [
    "Searched on ChatGTP:\n",
    "A normal distribution describes the probability density function of a continuous probability distribution. The graph is symmetrical bell-shaped, with the majority of the data distributed in the middle. The mean, median, and mode of the distribution are very close, if not the same. The mean and the standard deviation are the two parameters of a normal distribution."
   ]
  },
  {
   "cell_type": "markdown",
   "metadata": {},
   "source": [
    "**30)** [M] In simple terms, using a normal distribution, what does the Law of Large Numbers tell us?"
   ]
  },
  {
   "cell_type": "markdown",
   "metadata": {},
   "source": [
    "ChatGPT:\n",
    "The law of large numbers and the central limit theorem together tell us that as the sample size increases, the sample mean will be a good estimate of the population mean, and will be approximately normally distributed, even if the underlying data is not."
   ]
  },
  {
   "cell_type": "markdown",
   "metadata": {},
   "source": [
    "**31)** [P] Write a function called test_normal_dist. The purpose of this function is to evaluate the law of large numbers. It should have four parameters:\n",
    "mu = mean of distribution\n",
    "sd = standard deviation\n",
    "vec_length = length of the vector to generate randomly from a normal distribution, with mu and sd as parameters\n",
    "num_trials = number of times to repeat the experiment\n",
    "The function should behave as follows. First, initialize the seed value to 1234, before your loop. Then, loop for num_trials, generating vec_length numbers from a normal distribution. Compute the mean of that vector, then compute its deviation (absolute value of the observed mean - expected mean). This should be repeated for all trials. Return the average of this deviation over all trials."
   ]
  },
  {
   "cell_type": "code",
   "execution_count": 63,
   "metadata": {
    "collapsed": false,
    "jupyter": {
     "outputs_hidden": false
    }
   },
   "outputs": [],
   "source": [
    "def test_normal_dist(mu, sd, vec_length, num_trials):\n",
    "    np.random.seed(1234)\n",
    "    deviation = 0\n",
    "\n",
    "    for i in range(num_trials):\n",
    "        vector = np.random.normal(mu, sd, vec_length)\n",
    "        mean = vector.mean()\n",
    "        deviation += abs(mean - mu)\n",
    "\n",
    "    return deviation / num_trials"
   ]
  },
  {
   "cell_type": "markdown",
   "metadata": {},
   "source": [
    "**32)** [P] Use test_normal_dist to obtain the deviation for vector lengths of 10, 100, 1000, 10000, and 100000. Use a fixed number of trials of 100 for each experiment. Report the results as a numpy array with two dimensions. the first being the vector length, and the second being the average deviation resulting from your test_normal_dist function."
   ]
  },
  {
   "cell_type": "code",
   "execution_count": 64,
   "metadata": {
    "collapsed": false,
    "jupyter": {
     "outputs_hidden": false
    }
   },
   "outputs": [
    {
     "data": {
      "text/plain": "array([[1.00000000e+01, 1.00000000e+02, 1.00000000e+03, 1.00000000e+04,\n        1.00000000e+05],\n       [4.77240837e-01, 1.61925065e-01, 4.45800014e-02, 1.58883885e-02,\n        4.88701220e-03]])"
     },
     "execution_count": 64,
     "metadata": {},
     "output_type": "execute_result"
    }
   ],
   "source": [
    "vec_length = 1\n",
    "\n",
    "lengths = np.array([10, 100, 1000, 10000, 100000])\n",
    "averages = np.zeros(5)\n",
    "\n",
    "while vec_length < 100000:\n",
    "    vec_length *= 10\n",
    "    averages[vec_length == lengths] = test_normal_dist(10, 2, vec_length, 100)\n",
    "\n",
    "np.vstack((lengths, averages))"
   ]
  }
 ],
 "metadata": {
  "kernelspec": {
   "display_name": "Python 3 (ipykernel)",
   "language": "python",
   "name": "python3"
  },
  "language_info": {
   "codemirror_mode": {
    "name": "ipython",
    "version": 3
   },
   "file_extension": ".py",
   "mimetype": "text/x-python",
   "name": "python",
   "nbconvert_exporter": "python",
   "pygments_lexer": "ipython3",
   "version": "3.9.16"
  }
 },
 "nbformat": 4,
 "nbformat_minor": 4
}
